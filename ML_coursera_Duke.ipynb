{
  "nbformat": 4,
  "nbformat_minor": 0,
  "metadata": {
    "colab": {
      "name": "ML coursera - Duke.ipynb",
      "provenance": [],
      "authorship_tag": "ABX9TyMdrOq7NV4gCrBOnHGAW95U",
      "include_colab_link": true
    },
    "kernelspec": {
      "name": "python3",
      "display_name": "Python 3"
    },
    "language_info": {
      "name": "python"
    }
  },
  "cells": [
    {
      "cell_type": "markdown",
      "metadata": {
        "id": "view-in-github",
        "colab_type": "text"
      },
      "source": [
        "<a href=\"https://colab.research.google.com/github/mozhgans/courses/blob/main/ML_coursera_Duke.ipynb\" target=\"_parent\"><img src=\"https://colab.research.google.com/assets/colab-badge.svg\" alt=\"Open In Colab\"/></a>"
      ]
    },
    {
      "cell_type": "markdown",
      "metadata": {
        "id": "P3F2LTCeG1Ko"
      },
      "source": [
        "Python Programming Refresher\n",
        "This notebook provides a quick refresher of some Python concepts and packages useful for numerical computation. If you feel comfortable using Python, NumPy, and Matplotlib, feel free to skim through or skip this notebook entirely.\n",
        "\n",
        "Python\n",
        "Python, first released in 1991, is a programming language of increasing popularity and the one that shall be used throughout this course. Later, you'll learn about a framework called PyTorch, which allows us to easily implement neural networks in Python. In addition to this practical consideration, Python boasts such benefits as code-readability, easy semantics, interactivity (i.e., you don't have to recompile all the time!), and it supports such common programming paradigms as object-oriented and functional programming.\n",
        "\n",
        "This walk-through provides an overview of aspects of the Python programming language you'll need to know for the course, including: lists, tuples, dictionaries, for-loops, if-statements, NumPy, and MatPlotLib. We recommend that you are comfortable with all of these before proceeding with the course.\n",
        "\n",
        "For those unfamiliar with Python, this will likely not be sufficient to bring you fully up-to-speed. Instead, the free e-book Python Like You Mean It, by Ryan Soklaski, will provide an more comprehensive introduction to Python for scientific computing. Additionally, to further learn about the programming language's features and to view its documentation, the website http://www.python.org is a great resource.\n",
        "\n",
        "Variables and Assignments\n",
        "In Python, we store all pieces of data -- numbers, characters, strings, everything -- as objects, and we refer to these objects using variables. As a simple case, we can assign a variable a value using the assignment operator, which is the \"equals\" sign:"
      ]
    },
    {
      "cell_type": "code",
      "metadata": {
        "colab": {
          "base_uri": "https://localhost:8080/"
        },
        "id": "2i21XhRZi-Vq",
        "outputId": "4525b89a-17ad-4110-a68c-29aa5fbea2a6"
      },
      "source": [
        "x = 4\n",
        "y = 5\n",
        "z = x+y\n",
        "print(z)"
      ],
      "execution_count": 1,
      "outputs": [
        {
          "output_type": "stream",
          "text": [
            "9\n"
          ],
          "name": "stdout"
        }
      ]
    },
    {
      "cell_type": "markdown",
      "metadata": {
        "id": "INAbQOKWG9mf"
      },
      "source": [
        "Note that we can perform assignment using specific values -- as in assigning 4 to variable x and 5 to variable y -- and we can also assign a value with respect to other variables -- as in assigning the variable z the sum of x and y.\n",
        "\n",
        "Python Collections\n",
        "Python collections allow us to put multiple data items into a single object that we may then access or operate on all together. There are several built-in types of collections, and we shall discuss three of them: lists, tuples, and dictionaries. Later, we'll introduce an additional way to collect data using arrays from a library called numpy.\n",
        "\n",
        "Lists\n",
        "A list comprises a sequence of objects, usually represented using square brackets with commas between the items in the sequence as is done below:"
      ]
    },
    {
      "cell_type": "code",
      "metadata": {
        "id": "Qn7N-v6njwSE"
      },
      "source": [
        "my_list = ['a', 'b', 'c', 'd']"
      ],
      "execution_count": 2,
      "outputs": []
    },
    {
      "cell_type": "markdown",
      "metadata": {
        "id": "ekg1eW-9HBK9"
      },
      "source": [
        "Above, my_list contains a sequence of character objects. Lists, however, accomodate items of varying types of objects:\n",
        "\n"
      ]
    },
    {
      "cell_type": "code",
      "metadata": {
        "id": "GTfZA37fj6az"
      },
      "source": [
        "varied__list = ['a', 1, 'b', 3.14]\n",
        "nested_list = ['hello', 'governor', [1.68, 42]]"
      ],
      "execution_count": 4,
      "outputs": []
    },
    {
      "cell_type": "markdown",
      "metadata": {
        "id": "YPzDfhUqHDen"
      },
      "source": [
        "Lists allow for what is called indexing, in which a specified element of the list may be obtained. For instance, say you wanted to grab the second element of varied_list above. Then you could index the list as so:"
      ]
    },
    {
      "cell_type": "code",
      "metadata": {
        "colab": {
          "base_uri": "https://localhost:8080/"
        },
        "id": "Vw5u1raRkUrD",
        "outputId": "a3ad5431-7e1e-48bb-ad58-42e05ac7540b"
      },
      "source": [
        "second_element = varied__list[1]\n",
        "print(second_element)"
      ],
      "execution_count": 5,
      "outputs": [
        {
          "output_type": "stream",
          "text": [
            "1\n"
          ],
          "name": "stdout"
        }
      ]
    },
    {
      "cell_type": "markdown",
      "metadata": {
        "id": "vAmY6lQqHHbp"
      },
      "source": [
        "Now is a good time to mention that Python is what's called a zero-indexed programming language. This simply means that the \"first\" element in a list or other collection of data items is indexed using \"0\" (zero) rather than \"1\". This is why, above, we grab the second element of varied_list using the integer index \"1\" instead of \"2\" as some might expect from a one-indexed language (like MATLab).\n",
        "\n",
        "Another feature of python indexing that comes in handy is the use of negative indexing. As we discussed above, the \"first\" element of a python list is denoted by index \"0\"; thus, it is almost natural to consider the last element of the list as being indexed by \"-1\". Observe the following examples of negative indexing:"
      ]
    },
    {
      "cell_type": "code",
      "metadata": {
        "id": "i35Je0RykctV"
      },
      "source": [
        "last_element = my_list[-1]\n",
        "last_element_2 = my_list[len(my_list)-1]\n",
        "second_to_last_element = my_list[-2]"
      ],
      "execution_count": 6,
      "outputs": []
    },
    {
      "cell_type": "markdown",
      "metadata": {
        "id": "Tsx6W_5dHLUa"
      },
      "source": [
        "Similar to indexing is list slicing, in which a contiguous section of list may be accessed. The colon (:) is used to perform slicing, with integers denoting the positions at which to begin and end the slice. Below, we show that the beginning or ending integer for a slice may be omited when one is slicing from the beginning or to the end of the list. Also note below that the index for slice beginning is included in the slice, but the index for the slice end is not included."
      ]
    },
    {
      "cell_type": "code",
      "metadata": {
        "id": "RnwZJ5Jwk0cs"
      },
      "source": [
        "NFL_list = [\"chargers\", \"Broncos\", \"Raiders\", \"Chiefs\", \"Panthers\", \"Falcons\", \"Cowboys\", \"Eagles\"]\n",
        "ACF_west_list = NFL_list[:4]\n",
        "NFC_south_list = NFL_list[4:6]\n",
        "NFC_east_list = NFL_list[6:]"
      ],
      "execution_count": 7,
      "outputs": []
    },
    {
      "cell_type": "markdown",
      "metadata": {
        "id": "2wCWOTEJHOxJ"
      },
      "source": [
        "Tuples\n",
        "A tuple is a Python collection that is extremely similar to a list, with some subtle differences. For starters, tuples are indicated using parentheses instead of square brackets:"
      ]
    },
    {
      "cell_type": "code",
      "metadata": {
        "id": "5_tJmLzelXq-"
      },
      "source": [
        "x = 1\n",
        "y = 2\n",
        "coordinates = (x,y)\n"
      ],
      "execution_count": 8,
      "outputs": []
    },
    {
      "cell_type": "markdown",
      "metadata": {
        "id": "sidF7MvLHRXP"
      },
      "source": [
        "The variable coordinates above is a tuple containing the variables x and y. This example was chosen to also demonstrate a difference between the typical usage of tuples versus lists. Whereas lists are frequently used to contain objects whose values are similar in some sense, tuples are frequently used to contain attributes of a coherent unit. For instance, as above, it makes sense to treat the coordinates of a point as a single unit. As another example, consider the following tuple and list concerning dates:"
      ]
    },
    {
      "cell_type": "code",
      "metadata": {
        "id": "tAyRtP6z7_gx"
      },
      "source": [
        "year1 = 2011\n",
        "month1 = \"May\"\n",
        "day1 = 18\n",
        "date1 = (month1, day1, year1)\n",
        "year2 = 2017\n",
        "month2 = \"June\"\n",
        "day2 = 13\n",
        "date2 = (month2, day2, year2)\n",
        "years_list = [year1, year2]\n"
      ],
      "execution_count": 9,
      "outputs": []
    },
    {
      "cell_type": "markdown",
      "metadata": {
        "id": "QOIwkcwBHYBp"
      },
      "source": [
        "Notice above that we have collected the attributes of a single date into one tuple: those pieces of information all describe a single \"unit\". By contrast, in the years list we have collected the different years in the code-snippet: the values in the list have a commonality (they are both years), but they do not describe the same unit.\n",
        "\n",
        "The distinction I've drawn between tuples and lists here is one that many Python programmers recognize in practice, but not one that is strictly enforced (i.e., you won't get any errors if you break this convention!). Another subtle way in which tuples and lists differ involves what is called mutability of Python variables. Mutability is a more complex concept that we need not discuss in our Python introduction, but interested students are encouraged to read further if they like!\n",
        "\n",
        "Dictionaries\n",
        "Since you've seen parenthesis (for tuples) and square brackets (for lists), you may be wondering what curly braces are used for in Python. The answer: Python dictionaries. The defining feature of a Python dictionary is that it has keys and values that are associated with each other. When defining a dictionary, this association may be accomplished using the color (:) as is done below:\n",
        "\n"
      ]
    },
    {
      "cell_type": "code",
      "metadata": {
        "colab": {
          "base_uri": "https://localhost:8080/"
        },
        "id": "FwH8eocL8Zp7",
        "outputId": "6ca767eb-8009-4397-9e58-8e6e7e319744"
      },
      "source": [
        "book_dictionary = {\"Title\": \"Frankenstein\", \"Author\": \"Mary Shelley\", \"Year\": 1818}\n",
        "print(book_dictionary[\"Author\"])"
      ],
      "execution_count": 12,
      "outputs": [
        {
          "output_type": "stream",
          "text": [
            "Mary Shelley\n"
          ],
          "name": "stdout"
        }
      ]
    },
    {
      "cell_type": "markdown",
      "metadata": {
        "id": "muOZRzcjHb9p"
      },
      "source": [
        "Above, the keys of the book_dictionary are \"Title\", \"Author\", and \"Year\", and each of these keys has a corresponding value associated with it. Notice that the key-value pairs are separated by a comma. Using keys allows us to access a piece of the dictionary by its name, rather than needing to know the index of the piece that we want, as is the case with lists and tuples. For instance, above we could get the author of Frankenstein using the \"Author\" key, rather than using an index. In fact, unlike in a list or tuple, the order of elements in a dictionary doesn't matter, and dictionaries cannot be indexed using integers, which we see below when we try to access the second element of the dictionary using an integer:\n",
        "\n"
      ]
    },
    {
      "cell_type": "code",
      "metadata": {
        "colab": {
          "base_uri": "https://localhost:8080/",
          "height": 163
        },
        "id": "ZgaUJvwX9km4",
        "outputId": "bce25bec-f615-4220-c2cc-b7e3e3894f08"
      },
      "source": [
        "print(book_dictionary[1])"
      ],
      "execution_count": 13,
      "outputs": [
        {
          "output_type": "error",
          "ename": "KeyError",
          "evalue": "ignored",
          "traceback": [
            "\u001b[0;31m---------------------------------------------------------------------------\u001b[0m",
            "\u001b[0;31mKeyError\u001b[0m                                  Traceback (most recent call last)",
            "\u001b[0;32m<ipython-input-13-43bbaea82a52>\u001b[0m in \u001b[0;36m<module>\u001b[0;34m()\u001b[0m\n\u001b[0;32m----> 1\u001b[0;31m \u001b[0mprint\u001b[0m\u001b[0;34m(\u001b[0m\u001b[0mbook_dictionary\u001b[0m\u001b[0;34m[\u001b[0m\u001b[0;36m1\u001b[0m\u001b[0;34m]\u001b[0m\u001b[0;34m)\u001b[0m\u001b[0;34m\u001b[0m\u001b[0;34m\u001b[0m\u001b[0m\n\u001b[0m",
            "\u001b[0;31mKeyError\u001b[0m: 1"
          ]
        }
      ]
    },
    {
      "cell_type": "code",
      "metadata": {
        "colab": {
          "base_uri": "https://localhost:8080/",
          "height": 231
        },
        "id": "IbFRi7UH9zpf",
        "outputId": "1791737d-3b2d-429d-cd61-aa1c1ad5cb3a"
      },
      "source": [
        "book_dictionary = {\"Title\": \"Frankenstein\", \"Author\": \"Mary Shelley\", \"Year\": 1818}\n",
        "print(book_dictionary[\"Author\"])\n",
        "print(book_dictionary[1])"
      ],
      "execution_count": 14,
      "outputs": [
        {
          "output_type": "stream",
          "text": [
            "Mary Shelley\n"
          ],
          "name": "stdout"
        },
        {
          "output_type": "error",
          "ename": "KeyError",
          "evalue": "ignored",
          "traceback": [
            "\u001b[0;31m---------------------------------------------------------------------------\u001b[0m",
            "\u001b[0;31mKeyError\u001b[0m                                  Traceback (most recent call last)",
            "\u001b[0;32m<ipython-input-14-e773e7ecb7db>\u001b[0m in \u001b[0;36m<module>\u001b[0;34m()\u001b[0m\n\u001b[1;32m      1\u001b[0m \u001b[0mbook_dictionary\u001b[0m \u001b[0;34m=\u001b[0m \u001b[0;34m{\u001b[0m\u001b[0;34m\"Title\"\u001b[0m\u001b[0;34m:\u001b[0m \u001b[0;34m\"Frankenstein\"\u001b[0m\u001b[0;34m,\u001b[0m \u001b[0;34m\"Author\"\u001b[0m\u001b[0;34m:\u001b[0m \u001b[0;34m\"Mary Shelley\"\u001b[0m\u001b[0;34m,\u001b[0m \u001b[0;34m\"Year\"\u001b[0m\u001b[0;34m:\u001b[0m \u001b[0;36m1818\u001b[0m\u001b[0;34m}\u001b[0m\u001b[0;34m\u001b[0m\u001b[0;34m\u001b[0m\u001b[0m\n\u001b[1;32m      2\u001b[0m \u001b[0mprint\u001b[0m\u001b[0;34m(\u001b[0m\u001b[0mbook_dictionary\u001b[0m\u001b[0;34m[\u001b[0m\u001b[0;34m\"Author\"\u001b[0m\u001b[0;34m]\u001b[0m\u001b[0;34m)\u001b[0m\u001b[0;34m\u001b[0m\u001b[0;34m\u001b[0m\u001b[0m\n\u001b[0;32m----> 3\u001b[0;31m \u001b[0mprint\u001b[0m\u001b[0;34m(\u001b[0m\u001b[0mbook_dictionary\u001b[0m\u001b[0;34m[\u001b[0m\u001b[0;36m1\u001b[0m\u001b[0;34m]\u001b[0m\u001b[0;34m)\u001b[0m\u001b[0;34m\u001b[0m\u001b[0;34m\u001b[0m\u001b[0m\n\u001b[0m",
            "\u001b[0;31mKeyError\u001b[0m: 1"
          ]
        }
      ]
    },
    {
      "cell_type": "markdown",
      "metadata": {
        "id": "WsySUXzDHg8f"
      },
      "source": [
        "Python Control Flow\n",
        "As with most of the popular programming languages, Python offers several ways to control the flow of execution within a program. Here, we'll introduce looping and conditional statements.\n",
        "\n",
        "At this point, it is important to make you aware of a unique aspect of the Python language: indentation. While a language like C uses curly braces to contain code statements within loops or conditionals, Python indicates these statements through indentation. This feature lends Python code readability, as you will see in the examples below.\n",
        "\n",
        "For-Loops\n",
        "Looping statements allow for the repeated execution of a section of code. For instance, suppose we wanted to add up all of the integers between zero (0) and ten (10), not including ten. We could, of course, do this in one line, but we could also use a loop to add each integer one at a time. Below is the code for a simple accumulator that accomplishes this:"
      ]
    },
    {
      "cell_type": "code",
      "metadata": {
        "colab": {
          "base_uri": "https://localhost:8080/"
        },
        "id": "2_jhau1u-CUH",
        "outputId": "57098404-eddf-4175-baa4-a44fea8fe83a"
      },
      "source": [
        "sum = 0\n",
        "for i in range(10):\n",
        "    sum = sum + i\n",
        "print(sum)\n",
        "alternative_sum = 0+1+2+3+4+5+6+7+8+9\n",
        "print(alternative_sum==sum)"
      ],
      "execution_count": 15,
      "outputs": [
        {
          "output_type": "stream",
          "text": [
            "45\n",
            "True\n"
          ],
          "name": "stdout"
        }
      ]
    },
    {
      "cell_type": "markdown",
      "metadata": {
        "id": "D8IKOelRHkKV"
      },
      "source": [
        "The range() built-in function generates the sequence of values that we loop over, and notice that range(10) does not include 10 itself. In addition to looping over a sequence of integers using the range() function, we can also loop over the elements in a list, which is shown below:"
      ]
    },
    {
      "cell_type": "code",
      "metadata": {
        "colab": {
          "base_uri": "https://localhost:8080/"
        },
        "id": "hLo6UXlw-UAJ",
        "outputId": "701d3b47-84d7-4ce5-db48-b985ce704725"
      },
      "source": [
        "ingredients = [\"flour\", \"sugar\", \"eggs\", \"oil\", \"baking soda\"]\n",
        "for ingredient in ingredients:\n",
        "    print(ingredient)"
      ],
      "execution_count": 16,
      "outputs": [
        {
          "output_type": "stream",
          "text": [
            "flour\n",
            "sugar\n",
            "eggs\n",
            "oil\n",
            "baking soda\n"
          ],
          "name": "stdout"
        }
      ]
    },
    {
      "cell_type": "markdown",
      "metadata": {
        "id": "bdv-LgH3Hp8K"
      },
      "source": [
        "Above, the for-loop iterates over the elements of the list ingredients, and within the loop each of those elements is referred to as ingredient. The use of singular/plural nouns to handle this iteration is a common Python motif, but is by no means necessary to use in your own programming.\n",
        "\n",
        "Conditionals\n",
        "Oftentimes while programming, one will want to only execute portions of code when certain conditions are met, for instance, when a variable has a certain value. This is accomplished using conditional statements: if, elif, and else."
      ]
    },
    {
      "cell_type": "code",
      "metadata": {
        "colab": {
          "base_uri": "https://localhost:8080/"
        },
        "id": "GLL_nFFh-fc0",
        "outputId": "5f1cc804-3216-4cef-c770-2aaca5874683"
      },
      "source": [
        "for i in range(10):\n",
        "    if i % 2 == 0:\n",
        "        print(\"{} is even\".format(i))\n",
        "    else:\n",
        "        print(\"{} is odd\".format(i))\n",
        "        "
      ],
      "execution_count": 17,
      "outputs": [
        {
          "output_type": "stream",
          "text": [
            "0 is even\n",
            "1 is odd\n",
            "2 is even\n",
            "3 is odd\n",
            "4 is even\n",
            "5 is odd\n",
            "6 is even\n",
            "7 is odd\n",
            "8 is even\n",
            "9 is odd\n"
          ],
          "name": "stdout"
        }
      ]
    },
    {
      "cell_type": "code",
      "metadata": {
        "colab": {
          "base_uri": "https://localhost:8080/"
        },
        "id": "TgW5IZ8J-yxP",
        "outputId": "0b795645-cccf-4508-f203-853427344832"
      },
      "source": [
        "print(\"In the Northern Hemisphere: \\n\")\n",
        "month_integer = [1, 2, 3, 4, 5, 6, 7, 8, 9, 10, 11, 12]\n",
        "for month in month_integer:\n",
        "    if month < 3:\n",
        "        print(\"Month {} is in Winter\".format(month))\n",
        "    elif month <6:\n",
        "        print(\"Month {} is in Spring\".format(month))\n",
        "    elif month < 9:\n",
        "        print(\"Month {} is in Summer\".format(month))\n",
        "    elif month < 12:\n",
        "        print(\"Month {} is in Fall\".format(month))\n",
        "    else:\n",
        "        print(\"Month {} is in Winter\".format(month))\n",
        "        "
      ],
      "execution_count": 18,
      "outputs": [
        {
          "output_type": "stream",
          "text": [
            "In the Northern Hemisphere: \n",
            "\n",
            "Month 1 is in Winter\n",
            "Month 2 is in Winter\n",
            "Month 3 is in Spring\n",
            "Month 4 is in Spring\n",
            "Month 5 is in Spring\n",
            "Month 6 is in Summer\n",
            "Month 7 is in Summer\n",
            "Month 8 is in Summer\n",
            "Month 9 is in Fall\n",
            "Month 10 is in Fall\n",
            "Month 11 is in Fall\n",
            "Month 12 is in Winter\n"
          ],
          "name": "stdout"
        }
      ]
    },
    {
      "cell_type": "markdown",
      "metadata": {
        "id": "AYr0OLyQHucO"
      },
      "source": [
        "List Comprehension\n",
        "Python allows for list comprehension in which the elements of a list are iterated over all in one line of code. Say, for example, that you wanted to add 1 to each element in a list of integers. You could do so using list comprehension as so:"
      ]
    },
    {
      "cell_type": "code",
      "metadata": {
        "colab": {
          "base_uri": "https://localhost:8080/"
        },
        "id": "64o2cgdE_yWc",
        "outputId": "19cb0aea-7f28-4dc3-f1d1-a71f4e1fba8c"
      },
      "source": [
        "even_list = [2, 4, 6, 8]\n",
        "odd_list = [even+1 for even in even_list]\n",
        "print(odd_list)"
      ],
      "execution_count": 19,
      "outputs": [
        {
          "output_type": "stream",
          "text": [
            "[3, 5, 7, 9]\n"
          ],
          "name": "stdout"
        }
      ]
    },
    {
      "cell_type": "markdown",
      "metadata": {
        "id": "5Ccb6XVMHzvO"
      },
      "source": [
        "Note from above the similarities between list comprehension and a for-loop; Python has list comprehension as a compact, \"pythonic\" way of performing operations that could be done within a for-loop.\n",
        "\n",
        "NumPy Library\n",
        "The NumPy library endows Python with a host of scientific computing capabilities. Chief among these is the Array object, which provides a multidimensional way to organize values of the same type. Numpy arrays allow slicing and indexing similar to lists. Most importantly, Numpy has a formidable number of mathematical operations that can be used to transform arrays and perform computations between arrays. For those familiar with MATLab, these operations should be reminiscent of many matrix operations."
      ]
    },
    {
      "cell_type": "code",
      "metadata": {
        "colab": {
          "base_uri": "https://localhost:8080/"
        },
        "id": "tY1Dag7F_94k",
        "outputId": "f0f50369-afea-41b9-f1ad-fa2ea31bbf78"
      },
      "source": [
        "import numpy as np\n",
        "x = np.array([2, 4, 6])\n",
        "A = np.array([[1, 3, 5], [2, 4, 6]])\n",
        "B = np.array([[1, 2, 3], [4, 5, 6]])\n",
        "\n",
        "print(\"Matrix A: \\n\")\n",
        "print(A)\n",
        "print(\"\\nMatrix B: \\n\")\n",
        "print(B)"
      ],
      "execution_count": 20,
      "outputs": [
        {
          "output_type": "stream",
          "text": [
            "Matrix A: \n",
            "\n",
            "[[1 3 5]\n",
            " [2 4 6]]\n",
            "\n",
            "Matrix B: \n",
            "\n",
            "[[1 2 3]\n",
            " [4 5 6]]\n"
          ],
          "name": "stdout"
        }
      ]
    },
    {
      "cell_type": "code",
      "metadata": {
        "colab": {
          "base_uri": "https://localhost:8080/"
        },
        "id": "GaoZ-eQtAskG",
        "outputId": "1e4106cc-4f72-4a08-9d30-d2d93ffc975c"
      },
      "source": [
        "print(A[0, :])\n",
        "print(A[1, 2])\n",
        "print(A[:, 1])"
      ],
      "execution_count": 21,
      "outputs": [
        {
          "output_type": "stream",
          "text": [
            "[1 3 5]\n",
            "6\n",
            "[3 4]\n"
          ],
          "name": "stdout"
        }
      ]
    },
    {
      "cell_type": "code",
      "metadata": {
        "colab": {
          "base_uri": "https://localhost:8080/"
        },
        "id": "kTVI6HnGA-sg",
        "outputId": "c69019db-a946-4d64-abcd-58f39b818d6c"
      },
      "source": [
        "C = A * 2\n",
        "D = A * B\n",
        "E = np.transpose(B)\n",
        "F = np.matmul(A, E)\n",
        "G = np.matmul(A, x)\n",
        "\n",
        "print(\"\\n Matrix E (the transpose of B): \\n\")\n",
        "print(E)\n",
        "print(\"\\n Matrix F (result of Matrix multiplication A x E): \\n\")\n",
        "print(F)\n",
        "print(\"\\n Matrix G (result of matrix-vector multiplication A*x): \\n\")\n",
        "print(G)"
      ],
      "execution_count": 22,
      "outputs": [
        {
          "output_type": "stream",
          "text": [
            "\n",
            " Matrix E (the transpose of B): \n",
            "\n",
            "[[1 4]\n",
            " [2 5]\n",
            " [3 6]]\n",
            "\n",
            " Matrix F (result of Matrix multiplication A x E): \n",
            "\n",
            "[[22 49]\n",
            " [28 64]]\n",
            "\n",
            " Matrix G (result of matrix-vector multiplication A*x): \n",
            "\n",
            "[44 56]\n"
          ],
          "name": "stdout"
        }
      ]
    },
    {
      "cell_type": "code",
      "metadata": {
        "colab": {
          "base_uri": "https://localhost:8080/"
        },
        "id": "rFdSKydRB-95",
        "outputId": "9f3204ed-6c21-409e-c4c8-95224507e48f"
      },
      "source": [
        "H = A * x\n",
        "print(H)\n",
        "J = B + x\n",
        "print(J)"
      ],
      "execution_count": 23,
      "outputs": [
        {
          "output_type": "stream",
          "text": [
            "[[ 2 12 30]\n",
            " [ 4 16 36]]\n",
            "[[ 3  6  9]\n",
            " [ 6  9 12]]\n"
          ],
          "name": "stdout"
        }
      ]
    },
    {
      "cell_type": "code",
      "metadata": {
        "colab": {
          "base_uri": "https://localhost:8080/"
        },
        "id": "Sz0UmbvgCH59",
        "outputId": "80f71031-b979-4547-c348-0d57f02bc882"
      },
      "source": [
        "X = np.array([[3, 9, 4], [10, 2, 7], [5, 11, 18]])\n",
        "all_max = np.max(X)\n",
        "column_max = np.max(X, axis=0)\n",
        "row_max = np.max(X, axis=1)\n",
        "column_argmax = np.argmax(X, axis=0)\n",
        "print(\"Matrix X: \\n\")\n",
        "print(X)\n",
        "print(\"\\n Maximum value is X: \\n\")\n",
        "print(all_max)\n",
        "print(\"\\n Column-wise max of X: \\n\")\n",
        "print(column_max)\n",
        "print(\"\\n Indices of column max: \\n\")\n",
        "print(column_argmax)\n",
        "print(\"\\n Row-wise max of X: \\n\")\n",
        "print(row_max)\n"
      ],
      "execution_count": 25,
      "outputs": [
        {
          "output_type": "stream",
          "text": [
            "Matrix X: \n",
            "\n",
            "[[ 3  9  4]\n",
            " [10  2  7]\n",
            " [ 5 11 18]]\n",
            "\n",
            " Maximum value is X: \n",
            "\n",
            "18\n",
            "\n",
            " Column-wise max of X: \n",
            "\n",
            "[10 11 18]\n",
            "\n",
            " Indices of column max: \n",
            "\n",
            "[1 2 2]\n",
            "\n",
            " Row-wise max of X: \n",
            "\n",
            "[ 9 10 18]\n"
          ],
          "name": "stdout"
        }
      ]
    },
    {
      "cell_type": "code",
      "metadata": {
        "colab": {
          "base_uri": "https://localhost:8080/"
        },
        "id": "m1CjUhLHDRvS",
        "outputId": "09eebe32-6c32-4f93-d3cc-3ae093b1c7d9"
      },
      "source": [
        "total_sum = np.sum(X)\n",
        "column_sum = np.sum(X, axis=0)\n",
        "row_sum = np.sum(X, axis=1)\n",
        "\n",
        "print(\"Matrix X: \\n\")\n",
        "print(X)\n",
        "print(\"\\n sum over all elements of X: \\n\")\n",
        "print(total_sum)\n",
        "print(\"\\n column-wise sum of X: \\n\")\n",
        "print(column_sum)\n",
        "print(\"\\n roe-wise sum of X: \\n\")\n",
        "print(row_sum)"
      ],
      "execution_count": 26,
      "outputs": [
        {
          "output_type": "stream",
          "text": [
            "Matrix X: \n",
            "\n",
            "[[ 3  9  4]\n",
            " [10  2  7]\n",
            " [ 5 11 18]]\n",
            "\n",
            " sum over all elements of X: \n",
            "\n",
            "69\n",
            "\n",
            " column-wise sum of X: \n",
            "\n",
            "[18 22 29]\n",
            "\n",
            " roe-wise sum of X: \n",
            "\n",
            "[16 19 34]\n"
          ],
          "name": "stdout"
        }
      ]
    },
    {
      "cell_type": "code",
      "metadata": {
        "colab": {
          "base_uri": "https://localhost:8080/"
        },
        "id": "6dy7HvbfD8Pu",
        "outputId": "080dd159-3009-497e-ee94-7a9b3afb3c2f"
      },
      "source": [
        "X = np.arange(16)\n",
        "X_square = np.reshape(X, (4,4))\n",
        "X_rank_3 = np.reshape(X, (2, 2, 4))\n",
        "print(\"Rank-1 array X: \\n\")\n",
        "print(X)\n",
        "print(\"\\n reshaped into a square matrix: \\n\")\n",
        "print(X_square)\n",
        "print(\"\\n reshaped into a rank-3 array with dimension 2 x 2 x 4: \\n\")\n",
        "print(X_rank_3)"
      ],
      "execution_count": 28,
      "outputs": [
        {
          "output_type": "stream",
          "text": [
            "Rank-1 array X: \n",
            "\n",
            "[ 0  1  2  3  4  5  6  7  8  9 10 11 12 13 14 15]\n",
            "\n",
            " reshaped into a square matrix: \n",
            "\n",
            "[[ 0  1  2  3]\n",
            " [ 4  5  6  7]\n",
            " [ 8  9 10 11]\n",
            " [12 13 14 15]]\n",
            "\n",
            " reshaped into a rank-3 array with dimension 2 x 2 x 4: \n",
            "\n",
            "[[[ 0  1  2  3]\n",
            "  [ 4  5  6  7]]\n",
            "\n",
            " [[ 8  9 10 11]\n",
            "  [12 13 14 15]]]\n"
          ],
          "name": "stdout"
        }
      ]
    },
    {
      "cell_type": "markdown",
      "metadata": {
        "id": "ES08T5DWH-O_"
      },
      "source": [
        "Plotting\n",
        "Much of plotting you'll do will be through the Matplotlib library, specifically within the Pyplot module. Aptly named, the plot function is used to plot 2-D data, as shown below:"
      ]
    },
    {
      "cell_type": "code",
      "metadata": {
        "colab": {
          "base_uri": "https://localhost:8080/",
          "height": 295
        },
        "id": "ZYh2lX4rEnCS",
        "outputId": "6e21125a-b635-48d9-e0a2-3a8c1aa9defa"
      },
      "source": [
        "import numpy as np\n",
        "import matplotlib.pyplot as plt\n",
        "x = np.arange(-5, 5, 0.1)\n",
        "y = np.square(x)\n",
        "plt.plot(x, y, 'b')\n",
        "plt.xlabel('X-Axis Values')\n",
        "plt.ylabel('Y-Axis Values')\n",
        "plt.title('First Plot: A parabola')\n",
        "plt.show()\n"
      ],
      "execution_count": 32,
      "outputs": [
        {
          "output_type": "display_data",
          "data": {
            "image/png": "[encoded data removed]",
            "text/plain": [
              "<Figure size 432x288 with 1 Axes>"
            ]
          },
          "metadata": {
            "tags": [],
            "needs_background": "light"
          }
        }
      ]
    },
    {
      "cell_type": "markdown",
      "metadata": {
        "id": "jXYLBzhcICXm"
      },
      "source": [
        "Another Matplotlib function you'll encounter is imshow which is used to display images. Recall that an image may be considered as an array, with array elements indicating image pixel values. As a simple example, here is the identity matrix:"
      ]
    },
    {
      "cell_type": "code",
      "metadata": {
        "colab": {
          "base_uri": "https://localhost:8080/",
          "height": 265
        },
        "id": "okBlRVjAFZkP",
        "outputId": "06307dc9-3b5c-4baf-9521-3dd40e8989ec"
      },
      "source": [
        "X = np.identity(10)\n",
        "identity_matrix_image = plt.imshow(X, cmap=\"Greys_r\")\n",
        "plt.show()"
      ],
      "execution_count": 36,
      "outputs": [
        {
          "output_type": "display_data",
          "data": {
            "image/png": "[encoded data removed]",
            "text/plain": [
              "<Figure size 432x288 with 1 Axes>"
            ]
          },
          "metadata": {
            "tags": [],
            "needs_background": "light"
          }
        }
      ]
    },
    {
      "cell_type": "code",
      "metadata": {
        "colab": {
          "base_uri": "https://localhost:8080/",
          "height": 265
        },
        "id": "SZYLTxsKFz5-",
        "outputId": "aea58b36-332c-4c2a-a0f7-930d2a1605c9"
      },
      "source": [
        "A = np.random.randn(10, 10)\n",
        "random_matrix_image = plt.imshow(A)\n",
        "plt.show()"
      ],
      "execution_count": 42,
      "outputs": [
        {
          "output_type": "display_data",
          "data": {
            "image/png": "[encoded data removed]",
            "text/plain": [
              "<Figure size 432x288 with 1 Axes>"
            ]
          },
          "metadata": {
            "tags": [],
            "needs_background": "light"
          }
        }
      ]
    }
  ]
}