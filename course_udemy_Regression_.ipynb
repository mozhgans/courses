{
  "nbformat": 4,
  "nbformat_minor": 0,
  "metadata": {
    "colab": {
      "name": "course udemy-Regression .ipynb",
      "provenance": [],
      "authorship_tag": "ABX9TyOwPF/ytc31kmQJR8hkMAhf",
      "include_colab_link": true
    },
    "kernelspec": {
      "name": "python3",
      "display_name": "Python 3"
    },
    "language_info": {
      "name": "python"
    }
  },
  "cells": [
    {
      "cell_type": "markdown",
      "metadata": {
        "id": "view-in-github",
        "colab_type": "text"
      },
      "source": [
        "<a href=\"https://colab.research.google.com/github/mozhgans/courses/blob/main/course_udemy_Regression_.ipynb\" target=\"_parent\"><img src=\"https://colab.research.google.com/assets/colab-badge.svg\" alt=\"Open In Colab\"/></a>"
      ]
    },
    {
      "cell_type": "markdown",
      "metadata": {
        "id": "RBpV0ClJzypf"
      },
      "source": [
        "linear regression:"
      ]
    },
    {
      "cell_type": "code",
      "metadata": {
        "colab": {
          "base_uri": "https://localhost:8080/",
          "height": 282
        },
        "id": "H2K6R6C4zxS6",
        "outputId": "a7b7a89c-9d8c-49b7-bfbf-ae0631414472"
      },
      "source": [
        "%matplotlib inline\n",
        "import numpy as np\n",
        "from pylab import *\n",
        "\n",
        "pageSpeeds = np.random.normal(9.0, 1.0, 1000)\n",
        "purchaseAmount = 100 - (pageSpeeds + np.random.normal(0, 0.1, 1000)) * 3\n",
        "\n",
        "scatter(pageSpeeds, purchaseAmount)"
      ],
      "execution_count": 5,
      "outputs": [
        {
          "output_type": "execute_result",
          "data": {
            "text/plain": [
              "<matplotlib.collections.PathCollection at 0x7f747fab6a90>"
            ]
          },
          "metadata": {
            "tags": []
          },
          "execution_count": 5
        },
        {
          "output_type": "display_data",
          "data": {
            "image/png": "[encoded data removed]",
            "text/plain": [
              "<Figure size 432x288 with 1 Axes>"
            ]
          },
          "metadata": {
            "tags": [],
            "needs_background": "light"
          }
        }
      ]
    },
    {
      "cell_type": "markdown",
      "metadata": {
        "id": "tBTpwtAv0J-a"
      },
      "source": [
        "As we only have two features, we can keep it simple and just use scipy.state.linregress:"
      ]
    },
    {
      "cell_type": "code",
      "metadata": {
        "id": "AXceqhdj0Kz4"
      },
      "source": [
        "from scipy import stats\n",
        "\n",
        "slope, intercept, r_value, p_value, std_err = stats.linregress(pageSpeeds, purchaseAmount)\n"
      ],
      "execution_count": 6,
      "outputs": []
    },
    {
      "cell_type": "markdown",
      "metadata": {
        "id": "qnRC_yan0Rl6"
      },
      "source": [
        "Not surprisngly, our R-squared value shows a really good fit:"
      ]
    },
    {
      "cell_type": "code",
      "metadata": {
        "colab": {
          "base_uri": "https://localhost:8080/"
        },
        "id": "Nld_bIpt0SKi",
        "outputId": "dbf916e9-76c9-4846-958a-2805a33e3a0b"
      },
      "source": [
        "r_value ** 2"
      ],
      "execution_count": 7,
      "outputs": [
        {
          "output_type": "execute_result",
          "data": {
            "text/plain": [
              "0.9897238632934047"
            ]
          },
          "metadata": {
            "tags": []
          },
          "execution_count": 7
        }
      ]
    },
    {
      "cell_type": "markdown",
      "metadata": {
        "id": "1FOSjCaL0Wf7"
      },
      "source": [
        "Let's use the slope and intercept we got from the regression to plot predicted values vs. observed:"
      ]
    },
    {
      "cell_type": "code",
      "metadata": {
        "colab": {
          "base_uri": "https://localhost:8080/",
          "height": 269
        },
        "id": "yyT1q1LE0XuU",
        "outputId": "d96e835c-a1b8-4b13-b2e5-64d4c983d3a7"
      },
      "source": [
        "import matplotlib.pyplot as plt\n",
        "\n",
        "def predict(x):\n",
        "    return slope * x + intercept\n",
        "\n",
        "fitLine = predict(pageSpeeds)\n",
        "\n",
        "plt.scatter(pageSpeeds, purchaseAmount)\n",
        "plt.plot(pageSpeeds, fitLine, c='r')\n",
        "plt.show()"
      ],
      "execution_count": 8,
      "outputs": [
        {
          "output_type": "display_data",
          "data": {
            "image/png": "[encoded data removed]",
            "text/plain": [
              "<Figure size 432x288 with 1 Axes>"
            ]
          },
          "metadata": {
            "tags": [],
            "needs_background": "light"
          }
        }
      ]
    },
    {
      "cell_type": "markdown",
      "metadata": {
        "id": "aOWtQNRX0_uy"
      },
      "source": [
        "Polynomial regression:"
      ]
    },
    {
      "cell_type": "markdown",
      "metadata": {
        "id": "hSdzFDtr1Fo9"
      },
      "source": [
        "What if your data doesn't look linear at all? Let's look at some more realistic-looking page speed / purchase data:"
      ]
    },
    {
      "cell_type": "code",
      "metadata": {
        "colab": {
          "base_uri": "https://localhost:8080/",
          "height": 282
        },
        "id": "r4lP_vdR1CH2",
        "outputId": "b24e0c75-b8ca-4d8e-a1ae-84958bb96c1a"
      },
      "source": [
        "%matplotlib inline\n",
        "from pylab import *\n",
        "import numpy as np\n",
        "\n",
        "np.random.seed(2)\n",
        "pageSpeeds = np.random.normal(3.0, 1.0, 1000)\n",
        "purchaseAmount = np.random.normal(50.0, 10.0, 1000) / pageSpeeds\n",
        "\n",
        "scatter(pageSpeeds, purchaseAmount)"
      ],
      "execution_count": 9,
      "outputs": [
        {
          "output_type": "execute_result",
          "data": {
            "text/plain": [
              "<matplotlib.collections.PathCollection at 0x7f747fe54d90>"
            ]
          },
          "metadata": {
            "tags": []
          },
          "execution_count": 9
        },
        {
          "output_type": "display_data",
          "data": {
            "image/png": "[encoded data removed]",
            "text/plain": [
              "<Figure size 432x288 with 1 Axes>"
            ]
          },
          "metadata": {
            "tags": [],
            "needs_background": "light"
          }
        }
      ]
    },
    {
      "cell_type": "markdown",
      "metadata": {
        "id": "kF667x181NDg"
      },
      "source": [
        "numpy has a handy polyfit function we can use, to let us construct an nth-degree polynomial model of our data that minimizes squared error. Let's try it with a 4th degree polynomial:"
      ]
    },
    {
      "cell_type": "code",
      "metadata": {
        "id": "hUp95RvQ1P0e"
      },
      "source": [
        "x = np.array(pageSpeeds)\n",
        "y = np.array(purchaseAmount)\n",
        "\n",
        "p4 = np.poly1d(np.polyfit(x, y, 4))\n"
      ],
      "execution_count": 24,
      "outputs": []
    },
    {
      "cell_type": "markdown",
      "metadata": {
        "id": "GGaChjxV1UGe"
      },
      "source": [
        "We'll visualize our original scatter plot, together with a plot of our predicted values using the polynomial for page speed times ranging from 0-7 seconds:"
      ]
    },
    {
      "cell_type": "code",
      "metadata": {
        "colab": {
          "base_uri": "https://localhost:8080/",
          "height": 265
        },
        "id": "z16Qie_p1WTk",
        "outputId": "c8f499b9-c8df-4df9-8be9-13a6899df62e"
      },
      "source": [
        "import matplotlib.pyplot as plt\n",
        "\n",
        "xp = np.linspace(0, 7, 100)\n",
        "plt.scatter(x, y)\n",
        "plt.plot(xp, p4(xp), c='r')\n",
        "plt.show()"
      ],
      "execution_count": 25,
      "outputs": [
        {
          "output_type": "display_data",
          "data": {
            "image/png": "[encoded data removed]",
            "text/plain": [
              "<Figure size 432x288 with 1 Axes>"
            ]
          },
          "metadata": {
            "tags": [],
            "needs_background": "light"
          }
        }
      ]
    },
    {
      "cell_type": "markdown",
      "metadata": {
        "id": "AJ5uF8AI1bGI"
      },
      "source": [
        "Looks pretty good! Let's measure the r-squared error:"
      ]
    },
    {
      "cell_type": "code",
      "metadata": {
        "colab": {
          "base_uri": "https://localhost:8080/"
        },
        "id": "XUZ4LZ9I1bzE",
        "outputId": "fb10e92a-dc61-4fa1-8a7e-8e890d794add"
      },
      "source": [
        "from sklearn.metrics import r2_score\n",
        "\n",
        "r2 = r2_score(y, p4(x))\n",
        "\n",
        "print(r2)\n"
      ],
      "execution_count": 26,
      "outputs": [
        {
          "output_type": "stream",
          "text": [
            "0.8293766396303073\n"
          ],
          "name": "stdout"
        }
      ]
    },
    {
      "cell_type": "markdown",
      "metadata": {
        "id": "V3-n6loR2pBE"
      },
      "source": [
        "Multiple Regression: Let's grab a small little data set of Blue Book car values:"
      ]
    },
    {
      "cell_type": "code",
      "metadata": {
        "id": "bemt5cds2rkC"
      },
      "source": [
        "import pandas as pd\n",
        "\n",
        "df = pd.read_excel('http://cdn.sundog-soft.com/Udemy/DataScience/cars.xls')"
      ],
      "execution_count": 27,
      "outputs": []
    },
    {
      "cell_type": "code",
      "metadata": {
        "colab": {
          "base_uri": "https://localhost:8080/",
          "height": 398
        },
        "id": "uvmZlRcS2u76",
        "outputId": "3408f2cc-8bf9-4e2c-d905-e886d0b335b0"
      },
      "source": [
        "%matplotlib inline\n",
        "import numpy as np\n",
        "df1=df[['Mileage','Price']]\n",
        "bins =  np.arange(0,50000,10000)\n",
        "groups = df1.groupby(pd.cut(df1['Mileage'],bins)).mean()\n",
        "print(groups.head())\n",
        "groups['Price'].plot.line()"
      ],
      "execution_count": 28,
      "outputs": [
        {
          "output_type": "stream",
          "text": [
            "                     Mileage         Price\n",
            "Mileage                                   \n",
            "(0, 10000]       5588.629630  24096.714451\n",
            "(10000, 20000]  15898.496183  21955.979607\n",
            "(20000, 30000]  24114.407104  20278.606252\n",
            "(30000, 40000]  33610.338710  19463.670267\n"
          ],
          "name": "stdout"
        },
        {
          "output_type": "execute_result",
          "data": {
            "text/plain": [
              "<matplotlib.axes._subplots.AxesSubplot at 0x7f7474e7d750>"
            ]
          },
          "metadata": {
            "tags": []
          },
          "execution_count": 28
        },
        {
          "output_type": "display_data",
          "data": {
            "image/png": "[encoded data removed]",
            "text/plain": [
              "<Figure size 432x288 with 1 Axes>"
            ]
          },
          "metadata": {
            "tags": [],
            "needs_background": "light"
          }
        }
      ]
    },
    {
      "cell_type": "markdown",
      "metadata": {
        "id": "O_0Q0zCt21O8"
      },
      "source": [
        "We can use pandas to split up this matrix into the feature vectors we're interested in, and the value we're trying to predict.\n",
        "\n",
        "Note how we are avoiding the make and model; regressions don't work well with ordinal values, unless you can convert them into some numerical order that makes sense somehow.\n",
        "\n",
        "Let's scale our feature data into the same range so we can easily compare the coefficients we end up with."
      ]
    },
    {
      "cell_type": "code",
      "metadata": {
        "colab": {
          "base_uri": "https://localhost:8080/",
          "height": 961
        },
        "id": "Z4TE29lp22lE",
        "outputId": "e0f58f4f-6d18-40d0-bb66-c58b1792cc46"
      },
      "source": [
        "import statsmodels.api as sm\n",
        "from sklearn.preprocessing import StandardScaler\n",
        "scale = StandardScaler()\n",
        "\n",
        "X = df[['Mileage', 'Cylinder', 'Doors']]\n",
        "y = df['Price']\n",
        "\n",
        "X[['Mileage', 'Cylinder', 'Doors']] = scale.fit_transform(X[['Mileage', 'Cylinder', 'Doors']].values)\n",
        "\n",
        "print (X)\n",
        "\n",
        "est = sm.OLS(y, X).fit()\n",
        "\n",
        "est.summary()"
      ],
      "execution_count": 29,
      "outputs": [
        {
          "output_type": "stream",
          "text": [
            "/usr/local/lib/python3.7/dist-packages/statsmodels/tools/_testing.py:19: FutureWarning: pandas.util.testing is deprecated. Use the functions in the public API at pandas.testing instead.\n",
            "  import pandas.util.testing as tm\n"
          ],
          "name": "stderr"
        },
        {
          "output_type": "stream",
          "text": [
            "      Mileage  Cylinder     Doors\n",
            "0   -1.417485   0.52741  0.556279\n",
            "1   -1.305902   0.52741  0.556279\n",
            "2   -0.810128   0.52741  0.556279\n",
            "3   -0.426058   0.52741  0.556279\n",
            "4    0.000008   0.52741  0.556279\n",
            "..        ...       ...       ...\n",
            "799 -0.439853   0.52741  0.556279\n",
            "800 -0.089966   0.52741  0.556279\n",
            "801  0.079605   0.52741  0.556279\n",
            "802  0.750446   0.52741  0.556279\n",
            "803  1.932565   0.52741  0.556279\n",
            "\n",
            "[804 rows x 3 columns]\n"
          ],
          "name": "stdout"
        },
        {
          "output_type": "stream",
          "text": [
            "/usr/local/lib/python3.7/dist-packages/ipykernel_launcher.py:8: SettingWithCopyWarning: \n",
            "A value is trying to be set on a copy of a slice from a DataFrame.\n",
            "Try using .loc[row_indexer,col_indexer] = value instead\n",
            "\n",
            "See the caveats in the documentation: https://pandas.pydata.org/pandas-docs/stable/user_guide/indexing.html#returning-a-view-versus-a-copy\n",
            "  \n",
            "/usr/local/lib/python3.7/dist-packages/pandas/core/indexing.py:1734: SettingWithCopyWarning: \n",
            "A value is trying to be set on a copy of a slice from a DataFrame.\n",
            "Try using .loc[row_indexer,col_indexer] = value instead\n",
            "\n",
            "See the caveats in the documentation: https://pandas.pydata.org/pandas-docs/stable/user_guide/indexing.html#returning-a-view-versus-a-copy\n",
            "  isetter(loc, value[:, i].tolist())\n"
          ],
          "name": "stderr"
        },
        {
          "output_type": "execute_result",
          "data": {
            "text/html": [
              "<table class=\"simpletable\">\n",
              "<caption>OLS Regression Results</caption>\n",
              "<tr>\n",
              "  <th>Dep. Variable:</th>          <td>Price</td>      <th>  R-squared (uncentered):</th>      <td>   0.064</td> \n",
              "</tr>\n",
              "<tr>\n",
              "  <th>Model:</th>                   <td>OLS</td>       <th>  Adj. R-squared (uncentered):</th> <td>   0.060</td> \n",
              "</tr>\n",
              "<tr>\n",
              "  <th>Method:</th>             <td>Least Squares</td>  <th>  F-statistic:       </th>          <td>   18.11</td> \n",
              "</tr>\n",
              "<tr>\n",
              "  <th>Date:</th>             <td>Mon, 12 Apr 2021</td> <th>  Prob (F-statistic):</th>          <td>2.23e-11</td> \n",
              "</tr>\n",
              "<tr>\n",
              "  <th>Time:</th>                 <td>20:52:42</td>     <th>  Log-Likelihood:    </th>          <td> -9207.1</td> \n",
              "</tr>\n",
              "<tr>\n",
              "  <th>No. Observations:</th>      <td>   804</td>      <th>  AIC:               </th>          <td>1.842e+04</td>\n",
              "</tr>\n",
              "<tr>\n",
              "  <th>Df Residuals:</th>          <td>   801</td>      <th>  BIC:               </th>          <td>1.843e+04</td>\n",
              "</tr>\n",
              "<tr>\n",
              "  <th>Df Model:</th>              <td>     3</td>      <th>                     </th>              <td> </td>    \n",
              "</tr>\n",
              "<tr>\n",
              "  <th>Covariance Type:</th>      <td>nonrobust</td>    <th>                     </th>              <td> </td>    \n",
              "</tr>\n",
              "</table>\n",
              "<table class=\"simpletable\">\n",
              "<tr>\n",
              "      <td></td>        <th>coef</th>     <th>std err</th>      <th>t</th>      <th>P>|t|</th>  <th>[0.025</th>    <th>0.975]</th>  \n",
              "</tr>\n",
              "<tr>\n",
              "  <th>Mileage</th>  <td>-1272.3412</td> <td>  804.623</td> <td>   -1.581</td> <td> 0.114</td> <td>-2851.759</td> <td>  307.077</td>\n",
              "</tr>\n",
              "<tr>\n",
              "  <th>Cylinder</th> <td> 5587.4472</td> <td>  804.509</td> <td>    6.945</td> <td> 0.000</td> <td> 4008.252</td> <td> 7166.642</td>\n",
              "</tr>\n",
              "<tr>\n",
              "  <th>Doors</th>    <td>-1404.5513</td> <td>  804.275</td> <td>   -1.746</td> <td> 0.081</td> <td>-2983.288</td> <td>  174.185</td>\n",
              "</tr>\n",
              "</table>\n",
              "<table class=\"simpletable\">\n",
              "<tr>\n",
              "  <th>Omnibus:</th>       <td>157.913</td> <th>  Durbin-Watson:     </th> <td>   0.008</td>\n",
              "</tr>\n",
              "<tr>\n",
              "  <th>Prob(Omnibus):</th> <td> 0.000</td>  <th>  Jarque-Bera (JB):  </th> <td> 257.529</td>\n",
              "</tr>\n",
              "<tr>\n",
              "  <th>Skew:</th>          <td> 1.278</td>  <th>  Prob(JB):          </th> <td>1.20e-56</td>\n",
              "</tr>\n",
              "<tr>\n",
              "  <th>Kurtosis:</th>      <td> 4.074</td>  <th>  Cond. No.          </th> <td>    1.03</td>\n",
              "</tr>\n",
              "</table><br/><br/>Warnings:<br/>[1] Standard Errors assume that the covariance matrix of the errors is correctly specified."
            ],
            "text/plain": [
              "<class 'statsmodels.iolib.summary.Summary'>\n",
              "\"\"\"\n",
              "                                 OLS Regression Results                                \n",
              "=======================================================================================\n",
              "Dep. Variable:                  Price   R-squared (uncentered):                   0.064\n",
              "Model:                            OLS   Adj. R-squared (uncentered):              0.060\n",
              "Method:                 Least Squares   F-statistic:                              18.11\n",
              "Date:                Mon, 12 Apr 2021   Prob (F-statistic):                    2.23e-11\n",
              "Time:                        20:52:42   Log-Likelihood:                         -9207.1\n",
              "No. Observations:                 804   AIC:                                  1.842e+04\n",
              "Df Residuals:                     801   BIC:                                  1.843e+04\n",
              "Df Model:                           3                                                  \n",
              "Covariance Type:            nonrobust                                                  \n",
              "==============================================================================\n",
              "                 coef    std err          t      P>|t|      [0.025      0.975]\n",
              "------------------------------------------------------------------------------\n",
              "Mileage    -1272.3412    804.623     -1.581      0.114   -2851.759     307.077\n",
              "Cylinder    5587.4472    804.509      6.945      0.000    4008.252    7166.642\n",
              "Doors      -1404.5513    804.275     -1.746      0.081   -2983.288     174.185\n",
              "==============================================================================\n",
              "Omnibus:                      157.913   Durbin-Watson:                   0.008\n",
              "Prob(Omnibus):                  0.000   Jarque-Bera (JB):              257.529\n",
              "Skew:                           1.278   Prob(JB):                     1.20e-56\n",
              "Kurtosis:                       4.074   Cond. No.                         1.03\n",
              "==============================================================================\n",
              "\n",
              "Warnings:\n",
              "[1] Standard Errors assume that the covariance matrix of the errors is correctly specified.\n",
              "\"\"\""
            ]
          },
          "metadata": {
            "tags": []
          },
          "execution_count": 29
        }
      ]
    },
    {
      "cell_type": "markdown",
      "metadata": {
        "id": "vkSRIlxB2-XL"
      },
      "source": [
        "The table of coefficients above gives us the values to plug into an equation of form: B0 + B1 * Mileage + B2 * cylinders + B3 * doors\n",
        "\n",
        "In this example, it's pretty clear that the number of cylinders is more important than anything based on the coefficients.\n",
        "\n",
        "Could we have figured that out earlier?"
      ]
    },
    {
      "cell_type": "code",
      "metadata": {
        "colab": {
          "base_uri": "https://localhost:8080/"
        },
        "id": "O_Zbfded2_qb",
        "outputId": "44f69a6a-ec92-4673-f189-782ac97b7004"
      },
      "source": [
        "y.groupby(df.Doors).mean()"
      ],
      "execution_count": 30,
      "outputs": [
        {
          "output_type": "execute_result",
          "data": {
            "text/plain": [
              "Doors\n",
              "2    23807.135520\n",
              "4    20580.670749\n",
              "Name: Price, dtype: float64"
            ]
          },
          "metadata": {
            "tags": []
          },
          "execution_count": 30
        }
      ]
    },
    {
      "cell_type": "markdown",
      "metadata": {
        "id": "acq-XM843FJV"
      },
      "source": [
        "Surprisingly, more doors does not mean a higher price! (Maybe it implies a sport car in some cases?) So it's not surprising that it's pretty useless as a predictor here. This is a very small data set however, so we can't really read much meaning into it.\n",
        "\n",
        "How would you use this to make an actual prediction? Start by scaling your multiple feature variables into the same scale used to train the model, then just call est.predict() on the scaled features:"
      ]
    },
    {
      "cell_type": "code",
      "metadata": {
        "colab": {
          "base_uri": "https://localhost:8080/"
        },
        "id": "FK00BLS53Cf-",
        "outputId": "526c00c4-03c6-4e08-d026-00b7fe887ba4"
      },
      "source": [
        "scaled = scale.transform([[45000, 8, 4]])\n",
        "print(scaled)\n",
        "predicted = est.predict(scaled[0])\n",
        "print(predicted)"
      ],
      "execution_count": 31,
      "outputs": [
        {
          "output_type": "stream",
          "text": [
            "[[3.07256589 1.96971667 0.55627894]]\n",
            "[6315.01330583]\n"
          ],
          "name": "stdout"
        }
      ]
    }
  ]
}