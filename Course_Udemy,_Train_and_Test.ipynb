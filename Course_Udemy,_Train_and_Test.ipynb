{
  "nbformat": 4,
  "nbformat_minor": 0,
  "metadata": {
    "colab": {
      "name": "Course Udemy, Train and Test.ipynb",
      "provenance": [],
      "authorship_tag": "ABX9TyNNRuW4ian+Oi3fyQtjxpHd",
      "include_colab_link": true
    },
    "kernelspec": {
      "name": "python3",
      "display_name": "Python 3"
    },
    "language_info": {
      "name": "python"
    }
  },
  "cells": [
    {
      "cell_type": "markdown",
      "metadata": {
        "id": "view-in-github",
        "colab_type": "text"
      },
      "source": [
        "<a href=\"https://colab.research.google.com/github/mozhgans/courses/blob/main/Course_Udemy%2C_Train_and_Test.ipynb\" target=\"_parent\"><img src=\"https://colab.research.google.com/assets/colab-badge.svg\" alt=\"Open In Colab\"/></a>"
      ]
    },
    {
      "cell_type": "markdown",
      "metadata": {
        "id": "1RM5cgKjGLoR"
      },
      "source": [
        "\n",
        "Train and Test: We'll start by creating some data set that we want to build a model for (in this case a polynomial regression):\n",
        "---\n",
        "\n"
      ]
    },
    {
      "cell_type": "code",
      "metadata": {
        "colab": {
          "base_uri": "https://localhost:8080/",
          "height": 282
        },
        "id": "2B9DSV-WC-Lh",
        "outputId": "1939e547-f6d2-44ab-c850-a4b1f8a8395a"
      },
      "source": [
        "import numpy as np\n",
        "from pylab import *\n",
        "np.random.seed(2)\n",
        "pagespeeds = np.random.normal(3,1,100)\n",
        "purchaseamount = np.random.normal(50,30,100) / pagespeeds\n",
        "scatter(pagespeeds, purchaseamount)"
      ],
      "execution_count": 1,
      "outputs": [
        {
          "output_type": "execute_result",
          "data": {
            "text/plain": [
              "<matplotlib.collections.PathCollection at 0x7f598b9b2490>"
            ]
          },
          "metadata": {
            "tags": []
          },
          "execution_count": 1
        },
        {
          "output_type": "display_data",
          "data": {
            "image/png": "[encoded data removed]",
            "text/plain": [
              "<Figure size 432x288 with 1 Axes>"
            ]
          },
          "metadata": {
            "tags": [],
            "needs_background": "light"
          }
        }
      ]
    },
    {
      "cell_type": "markdown",
      "metadata": {
        "id": "7MVmb9XzGz7d"
      },
      "source": [
        "Now we'll split the data in two - 80% of it will be used for \"training\" our model, and the other 20% for testing it. This way we can avoid overfitting."
      ]
    },
    {
      "cell_type": "code",
      "metadata": {
        "id": "xjXPTheWGzZH"
      },
      "source": [
        "trainX = pagespeeds[:80]\n",
        "testX = pagespeeds[80:]\n",
        "\n",
        "trainY = purchaseamount[:80]\n",
        "testY = purchaseamount[80:]"
      ],
      "execution_count": 3,
      "outputs": []
    },
    {
      "cell_type": "markdown",
      "metadata": {
        "id": "3ut644LIG-XB"
      },
      "source": [
        "Here's our training dataset:"
      ]
    },
    {
      "cell_type": "code",
      "metadata": {
        "colab": {
          "base_uri": "https://localhost:8080/",
          "height": 282
        },
        "id": "H4pOdUmFG_Hi",
        "outputId": "508f0ad5-95bf-4574-c6d6-ffefb14155b1"
      },
      "source": [
        "scatter(trainX, trainY)"
      ],
      "execution_count": 4,
      "outputs": [
        {
          "output_type": "execute_result",
          "data": {
            "text/plain": [
              "<matplotlib.collections.PathCollection at 0x7f598487abd0>"
            ]
          },
          "metadata": {
            "tags": []
          },
          "execution_count": 4
        },
        {
          "output_type": "display_data",
          "data": {
            "image/png": "[encoded data removed]",
            "text/plain": [
              "<Figure size 432x288 with 1 Axes>"
            ]
          },
          "metadata": {
            "tags": [],
            "needs_background": "light"
          }
        }
      ]
    },
    {
      "cell_type": "code",
      "metadata": {
        "colab": {
          "base_uri": "https://localhost:8080/",
          "height": 282
        },
        "id": "JsNasUcvHTaC",
        "outputId": "7232bef8-b01b-43ff-e4eb-cf6252a29f6d"
      },
      "source": [
        "scatter(testX, testY)"
      ],
      "execution_count": 5,
      "outputs": [
        {
          "output_type": "execute_result",
          "data": {
            "text/plain": [
              "<matplotlib.collections.PathCollection at 0x7f59848c0850>"
            ]
          },
          "metadata": {
            "tags": []
          },
          "execution_count": 5
        },
        {
          "output_type": "display_data",
          "data": {
            "image/png": "[encoded data removed]",
            "text/plain": [
              "<Figure size 432x288 with 1 Axes>"
            ]
          },
          "metadata": {
            "tags": [],
            "needs_background": "light"
          }
        }
      ]
    },
    {
      "cell_type": "markdown",
      "metadata": {
        "id": "dmggrfkMHeVz"
      },
      "source": [
        "Now we'll try to fit an 8th-degree polynomial to this data (which is almost certainly overfitting, given what we know about how it was generated!)"
      ]
    },
    {
      "cell_type": "code",
      "metadata": {
        "id": "lIbI82GzHfo1"
      },
      "source": [
        "x = np.array(trainX)\n",
        "y = np.array(trainY)\n",
        "p4 = np.poly1d(np.polyfit(x,y,8))"
      ],
      "execution_count": 6,
      "outputs": []
    },
    {
      "cell_type": "markdown",
      "metadata": {
        "id": "BIdjxXvZHxXq"
      },
      "source": [
        "Let's plot our polynomial against the training data:"
      ]
    },
    {
      "cell_type": "code",
      "metadata": {
        "colab": {
          "base_uri": "https://localhost:8080/",
          "height": 265
        },
        "id": "_8LzHUtMHyKs",
        "outputId": "38e87b4b-4a26-49ff-bd4f-c3fb9124804f"
      },
      "source": [
        "import matplotlib.pyplot as plt\n",
        "xp = np.linspace(0,7,100)\n",
        "axes = plt.axes()\n",
        "axes.set_xlim([0,7])\n",
        "plt.scatter(x,y)\n",
        "plt.plot(xp,p4(xp),c='r')\n",
        "plt.show()"
      ],
      "execution_count": 7,
      "outputs": [
        {
          "output_type": "display_data",
          "data": {
            "image/png": "[encoded data removed]",
            "text/plain": [
              "<Figure size 432x288 with 1 Axes>"
            ]
          },
          "metadata": {
            "tags": [],
            "needs_background": "light"
          }
        }
      ]
    },
    {
      "cell_type": "markdown",
      "metadata": {
        "id": "tgZh7jqTIRXB"
      },
      "source": [
        "And against our test data:"
      ]
    },
    {
      "cell_type": "code",
      "metadata": {
        "colab": {
          "base_uri": "https://localhost:8080/",
          "height": 269
        },
        "id": "AK1YMZBHITs0",
        "outputId": "d2da068e-1e0e-40dd-ae17-a65967c1f543"
      },
      "source": [
        "testx = np.array(testX)\n",
        "testy = np.array(testY)\n",
        "\n",
        "axes = plt.axes()\n",
        "axes.set_xlim([0,7])\n",
        "axes.set_ylim([0, 200])\n",
        "plt.scatter(testx, testy)\n",
        "plt.plot(xp, p4(xp), c='r')\n",
        "plt.show()"
      ],
      "execution_count": 8,
      "outputs": [
        {
          "output_type": "display_data",
          "data": {
            "image/png": "[encoded data removed]",
            "text/plain": [
              "<Figure size 432x288 with 1 Axes>"
            ]
          },
          "metadata": {
            "tags": [],
            "needs_background": "light"
          }
        }
      ]
    },
    {
      "cell_type": "markdown",
      "metadata": {
        "id": "114p9chPIYTV"
      },
      "source": [
        "Doesn't look that bad when you just eyeball it, but the r-squared score on the test data is kind of horrible! This tells us that our model isn't all that great..."
      ]
    },
    {
      "cell_type": "code",
      "metadata": {
        "colab": {
          "base_uri": "https://localhost:8080/"
        },
        "id": "aFaO5MiNIZH6",
        "outputId": "d48cbddb-e73a-45d2-e2d7-8da0c3f2b097"
      },
      "source": [
        "from sklearn.metrics import r2_score\n",
        "r2 = r2_score(testy, p4(testx))\n",
        "print(r2)"
      ],
      "execution_count": 9,
      "outputs": [
        {
          "output_type": "stream",
          "text": [
            "0.30018168611934837\n"
          ],
          "name": "stdout"
        }
      ]
    },
    {
      "cell_type": "markdown",
      "metadata": {
        "id": "m6n2nYBEIp3D"
      },
      "source": [
        "...even though it fits the training data better:"
      ]
    },
    {
      "cell_type": "code",
      "metadata": {
        "colab": {
          "base_uri": "https://localhost:8080/"
        },
        "id": "_R8tpxiIIrA4",
        "outputId": "6d1056e3-988c-4bf5-aac1-28f8a2161626"
      },
      "source": [
        "from sklearn.metrics import r2_score\n",
        "r2 = r2_score(np.array(trainY), p4(np.array(trainX)))\n",
        "print(r2)"
      ],
      "execution_count": 10,
      "outputs": [
        {
          "output_type": "stream",
          "text": [
            "0.6427069514693384\n"
          ],
          "name": "stdout"
        }
      ]
    },
    {
      "cell_type": "markdown",
      "metadata": {
        "id": "M6Jdjcp6I9r4"
      },
      "source": [
        "If you're working with a Pandas DataFrame (using tabular, labeled data,) scikit-learn has built-in train_test_split functions to make this easy to do.\n",
        "\n",
        "Later we'll talk about even more robust forms of train/test, like K-fold cross-validation - where we try out multiple different splits of the data, to make sure we didn't just get lucky with where we split it."
      ]
    }
  ]
}