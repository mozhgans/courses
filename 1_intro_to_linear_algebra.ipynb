{
  "nbformat": 4,
  "nbformat_minor": 0,
  "metadata": {
    "colab": {
      "name": "1-intro-to-linear-algebra.ipynb",
      "provenance": [],
      "include_colab_link": true
    },
    "kernelspec": {
      "display_name": "Python 3",
      "language": "python",
      "name": "python3"
    },
    "language_info": {
      "codemirror_mode": {
        "name": "ipython",
        "version": 3
      },
      "file_extension": ".py",
      "mimetype": "text/x-python",
      "name": "python",
      "nbconvert_exporter": "python",
      "pygments_lexer": "ipython3",
      "version": "3.7.6"
    }
  },
  "cells": [
    {
      "cell_type": "markdown",
      "metadata": {
        "id": "view-in-github",
        "colab_type": "text"
      },
      "source": [
        "<a href=\"https://colab.research.google.com/github/mozhgans/courses/blob/main/1_intro_to_linear_algebra.ipynb\" target=\"_parent\"><img src=\"https://colab.research.google.com/assets/colab-badge.svg\" alt=\"Open In Colab\"/></a>"
      ]
    },
    {
      "cell_type": "markdown",
      "metadata": {
        "id": "aTOLgsbN69-P"
      },
      "source": [
        "# Intro to Linear Algebra"
      ]
    },
    {
      "cell_type": "markdown",
      "metadata": {
        "id": "yqUB9FTRAxd-"
      },
      "source": [
        "This topic, *Intro to Linear Algebra*, is the first in the *Machine Learning Foundations* series. \n",
        "\n",
        "It is essential because linear algebra lies at the heart of most machine learning approaches and is especially predominant in deep learning, the branch of ML at the forefront of today’s artificial intelligence advances. Through the measured exposition of theory paired with interactive examples, you’ll develop an understanding of how linear algebra is used to solve for unknown values in high-dimensional spaces, thereby enabling machines to recognize patterns and make predictions. \n",
        "\n",
        "The content covered in *Intro to Linear Algebra* is itself foundational for all the other topics in the Machine Learning Foundations series and it is especially relevant to *Linear Algebra II*."
      ]
    },
    {
      "cell_type": "markdown",
      "metadata": {
        "id": "d4tBvI88BheF"
      },
      "source": [
        "Over the course of studying this topic, you'll: \n",
        "\n",
        "* Understand the fundamentals of linear algebra, a ubiquitous approach for solving for unknowns within high-dimensional spaces. \n",
        "\n",
        "* Develop a geometric intuition of what’s going on beneath the hood of machine learning algorithms, including those used for deep learning. \n",
        "* Be able to more intimately grasp the details of machine learning papers as well as all of the other subjects that underlie ML, including calculus, statistics, and optimization algorithms. "
      ]
    },
    {
      "cell_type": "markdown",
      "metadata": {
        "id": "Z68nQ0ekCYhF"
      },
      "source": [
        "**Note that this Jupyter notebook is not intended to stand alone. It is the companion code to a lecture or to videos from Jon Krohn's [Machine Learning Foundations](https://github.com/jonkrohn/ML-foundations) series, which offer detail on the following:**\n",
        "\n",
        "*Segment 1: Data Structures for Algebra*\n",
        "\n",
        "* What Linear Algebra Is  \n",
        "* A Brief History of Algebra \n",
        "* Tensors \n",
        "* Scalars \n",
        "* Vectors and Vector Transposition\n",
        "* Norms and Unit Vectors\n",
        "* Basis, Orthogonal, and Orthonormal Vectors\n",
        "* Arrays in NumPy  \n",
        "* Matrices \n",
        "* Tensors in TensorFlow and PyTorch\n",
        "\n",
        "*Segment 2: Common Tensor Operations* \n",
        "\n",
        "* Tensor Transposition\n",
        "* Basic Tensor Arithmetic\n",
        "* Reduction\n",
        "* The Dot Product\n",
        "* Solving Linear Systems\n",
        "\n",
        "*Segment 3: Matrix Properties*\n",
        "\n",
        "* The Frobenius Norm\n",
        "* Matrix Multiplication\n",
        "* Symmetric and Identity Matrices\n",
        "* Matrix Inversion\n",
        "* Diagonal Matrices\n",
        "* Orthogonal Matrices\n"
      ]
    },
    {
      "cell_type": "markdown",
      "metadata": {
        "id": "2khww76J5w9n"
      },
      "source": [
        "## Segment 1: Data Structures for Algebra\n",
        "\n",
        "**Slides used to begin segment, with focus on introducing what linear algebra is, including hands-on paper and pencil exercises.**"
      ]
    },
    {
      "cell_type": "markdown",
      "metadata": {
        "id": "niG_MgK-iV6K"
      },
      "source": [
        "### What Linear Algebra Is"
      ]
    },
    {
      "cell_type": "code",
      "metadata": {
        "id": "LApX90aliab_"
      },
      "source": [
        "import numpy as np\n",
        "import matplotlib.pyplot as plt"
      ],
      "execution_count": 1,
      "outputs": []
    },
    {
      "cell_type": "code",
      "metadata": {
        "id": "E4odh9Shic1S"
      },
      "source": [
        "t = np.linspace(0, 40, 1000) # start, finish, n points"
      ],
      "execution_count": 3,
      "outputs": []
    },
    {
      "cell_type": "markdown",
      "metadata": {
        "id": "N-tYny12nIyO"
      },
      "source": [
        "Distance travelled by robber: $d = 2.5t$"
      ]
    },
    {
      "cell_type": "code",
      "metadata": {
        "id": "e_zDOxgHiezz"
      },
      "source": [
        "d_r = 2.5 * t "
      ],
      "execution_count": 4,
      "outputs": []
    },
    {
      "cell_type": "markdown",
      "metadata": {
        "id": "djVjXZy-nPaR"
      },
      "source": [
        "Distance travelled by sheriff: $d = 3(t-5)$"
      ]
    },
    {
      "cell_type": "code",
      "metadata": {
        "id": "JtaNeYSCifrI"
      },
      "source": [
        "d_s = 3 * (t-5)"
      ],
      "execution_count": 5,
      "outputs": []
    },
    {
      "cell_type": "code",
      "metadata": {
        "id": "SaaIjJSEigic",
        "colab": {
          "base_uri": "https://localhost:8080/",
          "height": 295
        },
        "outputId": "a7da4ff7-5cae-4d21-9cc9-cc457626e326"
      },
      "source": [
        "fig, ax = plt.subplots()\n",
        "plt.title('A Bank Robber Caught')\n",
        "plt.xlabel('time (in minutes)')\n",
        "plt.ylabel('distance (in km)')\n",
        "ax.set_xlim([0, 40])\n",
        "ax.set_ylim([0, 100])\n",
        "ax.plot(t, d_r, c='green')\n",
        "ax.plot(t, d_s, c='brown')\n",
        "plt.axvline(x=30, color='purple', linestyle='--')\n",
        "_ = plt.axhline(y=75, color='purple', linestyle='--')"
      ],
      "execution_count": 6,
      "outputs": [
        {
          "output_type": "display_data",
          "data": {
            "image/png": "[encoded data removed]",
            "text/plain": [
              "<Figure size 432x288 with 1 Axes>"
            ]
          },
          "metadata": {
            "tags": [],
            "needs_background": "light"
          }
        }
      ]
    },
    {
      "cell_type": "markdown",
      "metadata": {
        "id": "kpwZw64EYfs6"
      },
      "source": [
        "**Return to slides here.**"
      ]
    },
    {
      "cell_type": "markdown",
      "metadata": {
        "id": "NgGMhK4B51oe"
      },
      "source": [
        "### Scalars (Rank 0 Tensors) in Base Python"
      ]
    },
    {
      "cell_type": "code",
      "metadata": {
        "id": "ZXnTHDn_EW6b",
        "colab": {
          "base_uri": "https://localhost:8080/"
        },
        "outputId": "bb92a35c-090a-42a2-9b54-8402a7b5162a"
      },
      "source": [
        "x = 25\n",
        "x"
      ],
      "execution_count": 7,
      "outputs": [
        {
          "output_type": "execute_result",
          "data": {
            "text/plain": [
              "25"
            ]
          },
          "metadata": {
            "tags": []
          },
          "execution_count": 7
        }
      ]
    },
    {
      "cell_type": "code",
      "metadata": {
        "id": "VF8Jam76R4KJ",
        "colab": {
          "base_uri": "https://localhost:8080/"
        },
        "outputId": "02406e6a-02c6-49b0-8a22-4eaa34ec9e60"
      },
      "source": [
        "type(x) # if we'd like more specificity (e.g., int16, uint8), we need NumPy or another numeric library"
      ],
      "execution_count": 8,
      "outputs": [
        {
          "output_type": "execute_result",
          "data": {
            "text/plain": [
              "int"
            ]
          },
          "metadata": {
            "tags": []
          },
          "execution_count": 8
        }
      ]
    },
    {
      "cell_type": "code",
      "metadata": {
        "id": "ZBzYlL0mRd-P"
      },
      "source": [
        "y = 3"
      ],
      "execution_count": 9,
      "outputs": []
    },
    {
      "cell_type": "code",
      "metadata": {
        "id": "1i-hW0bcReyy",
        "colab": {
          "base_uri": "https://localhost:8080/"
        },
        "outputId": "fe54fb75-43a0-4ac4-f163-3043420499dc"
      },
      "source": [
        "py_sum = x + y\n",
        "py_sum"
      ],
      "execution_count": 10,
      "outputs": [
        {
          "output_type": "execute_result",
          "data": {
            "text/plain": [
              "28"
            ]
          },
          "metadata": {
            "tags": []
          },
          "execution_count": 10
        }
      ]
    },
    {
      "cell_type": "code",
      "metadata": {
        "id": "CpyUxB6XRk6y",
        "colab": {
          "base_uri": "https://localhost:8080/"
        },
        "outputId": "a3dbc8a5-3bb7-4c0b-efbb-753cc4aa51fb"
      },
      "source": [
        "type(py_sum)"
      ],
      "execution_count": 11,
      "outputs": [
        {
          "output_type": "execute_result",
          "data": {
            "text/plain": [
              "int"
            ]
          },
          "metadata": {
            "tags": []
          },
          "execution_count": 11
        }
      ]
    },
    {
      "cell_type": "code",
      "metadata": {
        "id": "V2UiLj-JR8Ij",
        "colab": {
          "base_uri": "https://localhost:8080/"
        },
        "outputId": "b62ad834-5771-4d75-d098-3f7daf73c6a2"
      },
      "source": [
        "x_float = 25.0\n",
        "float_sum = x_float + y\n",
        "float_sum"
      ],
      "execution_count": 12,
      "outputs": [
        {
          "output_type": "execute_result",
          "data": {
            "text/plain": [
              "28.0"
            ]
          },
          "metadata": {
            "tags": []
          },
          "execution_count": 12
        }
      ]
    },
    {
      "cell_type": "code",
      "metadata": {
        "id": "ikOwjp6ASCaf",
        "colab": {
          "base_uri": "https://localhost:8080/"
        },
        "outputId": "bc3548ba-bd5d-4055-b641-9b323158158d"
      },
      "source": [
        "type(float_sum)"
      ],
      "execution_count": 13,
      "outputs": [
        {
          "output_type": "execute_result",
          "data": {
            "text/plain": [
              "float"
            ]
          },
          "metadata": {
            "tags": []
          },
          "execution_count": 13
        }
      ]
    },
    {
      "cell_type": "markdown",
      "metadata": {
        "id": "SgUvioyUz8T2"
      },
      "source": [
        "### Scalars in PyTorch\n",
        "\n",
        "* PyTorch and TensorFlow are the two most popular *automatic differentiation* libraries (a focus of the [*Calculus I*](https://github.com/jonkrohn/ML-foundations/blob/master/notebooks/3-calculus-i.ipynb) and [*Calculus II*](https://github.com/jonkrohn/ML-foundations/blob/master/notebooks/4-calculus-ii.ipynb) subjects in the *ML Foundations* series) in Python, itself the most popular programming language in ML\n",
        "* PyTorch tensors are designed to be pythonic, i.e., to feel and behave like NumPy arrays\n",
        "* The advantage of PyTorch tensors relative to NumPy arrays is that they easily be used for operations on GPU (see [here](https://pytorch.org/tutorials/beginner/examples_tensor/two_layer_net_tensor.html) for example) \n",
        "* Documentation on PyTorch tensors, including available data types, is [here](https://pytorch.org/docs/stable/tensors.html)"
      ]
    },
    {
      "cell_type": "code",
      "metadata": {
        "id": "A9Hhazt2zKeD"
      },
      "source": [
        "import torch"
      ],
      "execution_count": 14,
      "outputs": []
    },
    {
      "cell_type": "code",
      "metadata": {
        "id": "a211IRW_0-iY",
        "colab": {
          "base_uri": "https://localhost:8080/"
        },
        "outputId": "e2304b86-0cdc-4d3f-86ad-6d96530029f0"
      },
      "source": [
        "x_pt = torch.tensor(25) # type specification optional, e.g.: dtype=torch.float16\n",
        "x_pt"
      ],
      "execution_count": 15,
      "outputs": [
        {
          "output_type": "execute_result",
          "data": {
            "text/plain": [
              "tensor(25)"
            ]
          },
          "metadata": {
            "tags": []
          },
          "execution_count": 15
        }
      ]
    },
    {
      "cell_type": "code",
      "metadata": {
        "id": "LvxzMa_HhUNB",
        "colab": {
          "base_uri": "https://localhost:8080/"
        },
        "outputId": "029ea67f-2172-4546-d44f-e7731ff4b365"
      },
      "source": [
        "x_pt.shape"
      ],
      "execution_count": 16,
      "outputs": [
        {
          "output_type": "execute_result",
          "data": {
            "text/plain": [
              "torch.Size([])"
            ]
          },
          "metadata": {
            "tags": []
          },
          "execution_count": 16
        }
      ]
    },
    {
      "cell_type": "markdown",
      "metadata": {
        "id": "eUyuZXlWS8T9"
      },
      "source": [
        "### Scalars in TensorFlow (version 2.0 or later)\n",
        "\n",
        "Tensors created with a wrapper, all of which [you can read about here](https://www.tensorflow.org/guide/tensor):  \n",
        "\n",
        "* `tf.Variable`\n",
        "* `tf.constant`\n",
        "* `tf.placeholder`\n",
        "* `tf.SparseTensor`\n",
        "\n",
        "Most widely-used is `tf.Variable`, which we'll use here. \n",
        "\n",
        "As with TF tensors, in PyTorch we can similarly perform operations, and we can easily convert to and from NumPy arrays\n",
        "\n",
        "Also, a full list of tensor data types is available [here](https://www.tensorflow.org/api_docs/python/tf/dtypes/DType)."
      ]
    },
    {
      "cell_type": "code",
      "metadata": {
        "id": "CHBYse_MEqZM"
      },
      "source": [
        "import tensorflow as tf"
      ],
      "execution_count": 26,
      "outputs": []
    },
    {
      "cell_type": "code",
      "metadata": {
        "id": "sDv92Nh-NSOU",
        "colab": {
          "base_uri": "https://localhost:8080/"
        },
        "outputId": "675db578-9921-4d07-bd32-85627505f017"
      },
      "source": [
        "x_tf = tf.Variable(25, dtype=tf.int16) # dtype is optional\n",
        "x_tf"
      ],
      "execution_count": 27,
      "outputs": [
        {
          "output_type": "execute_result",
          "data": {
            "text/plain": [
              "<tf.Variable 'Variable:0' shape=() dtype=int16, numpy=25>"
            ]
          },
          "metadata": {
            "tags": []
          },
          "execution_count": 27
        }
      ]
    },
    {
      "cell_type": "code",
      "metadata": {
        "id": "EmPMBIV9RQjS",
        "colab": {
          "base_uri": "https://localhost:8080/"
        },
        "outputId": "c750e6cf-8834-4b5a-df39-262090ebae58"
      },
      "source": [
        "x_tf.shape"
      ],
      "execution_count": 28,
      "outputs": [
        {
          "output_type": "execute_result",
          "data": {
            "text/plain": [
              "TensorShape([])"
            ]
          },
          "metadata": {
            "tags": []
          },
          "execution_count": 28
        }
      ]
    },
    {
      "cell_type": "code",
      "metadata": {
        "id": "mEILtO9pPctO"
      },
      "source": [
        "y_tf = tf.Variable(3, dtype=tf.int16)"
      ],
      "execution_count": 29,
      "outputs": []
    },
    {
      "cell_type": "code",
      "metadata": {
        "id": "dvvWuaw6Ph_D",
        "colab": {
          "base_uri": "https://localhost:8080/"
        },
        "outputId": "69c86259-e302-4868-8c3c-ea59811fd844"
      },
      "source": [
        "x_tf + y_tf"
      ],
      "execution_count": 30,
      "outputs": [
        {
          "output_type": "execute_result",
          "data": {
            "text/plain": [
              "<tf.Tensor: shape=(), dtype=int16, numpy=28>"
            ]
          },
          "metadata": {
            "tags": []
          },
          "execution_count": 30
        }
      ]
    },
    {
      "cell_type": "code",
      "metadata": {
        "id": "JZVhRnX9RUGW",
        "colab": {
          "base_uri": "https://localhost:8080/"
        },
        "outputId": "c6532daa-b8c7-46d5-bffe-c849470cb28b"
      },
      "source": [
        "tf_sum = tf.add(x_tf, y_tf)\n",
        "tf_sum"
      ],
      "execution_count": 31,
      "outputs": [
        {
          "output_type": "execute_result",
          "data": {
            "text/plain": [
              "<tf.Tensor: shape=(), dtype=int16, numpy=28>"
            ]
          },
          "metadata": {
            "tags": []
          },
          "execution_count": 31
        }
      ]
    },
    {
      "cell_type": "code",
      "metadata": {
        "id": "sVbMxT1Ey6Y3",
        "colab": {
          "base_uri": "https://localhost:8080/"
        },
        "outputId": "697fb288-214a-42c3-f8b3-9175bc9b41bf"
      },
      "source": [
        "tf_sum.numpy() # note that NumPy operations automatically convert tensors to NumPy arrays, and vice versa"
      ],
      "execution_count": 32,
      "outputs": [
        {
          "output_type": "execute_result",
          "data": {
            "text/plain": [
              "28"
            ]
          },
          "metadata": {
            "tags": []
          },
          "execution_count": 32
        }
      ]
    },
    {
      "cell_type": "code",
      "metadata": {
        "id": "LXpv69t0y-f6",
        "colab": {
          "base_uri": "https://localhost:8080/"
        },
        "outputId": "3e5f8393-e99e-4fb0-9510-ce30ba7dde7c"
      },
      "source": [
        "type(tf_sum.numpy())"
      ],
      "execution_count": 33,
      "outputs": [
        {
          "output_type": "execute_result",
          "data": {
            "text/plain": [
              "numpy.int16"
            ]
          },
          "metadata": {
            "tags": []
          },
          "execution_count": 33
        }
      ]
    },
    {
      "cell_type": "code",
      "metadata": {
        "id": "VszuTUAg1uXk",
        "colab": {
          "base_uri": "https://localhost:8080/"
        },
        "outputId": "0bbd0626-1728-4755-c029-546e9d9fdc90"
      },
      "source": [
        "tf_float = tf.Variable(25., dtype=tf.float16)\n",
        "tf_float"
      ],
      "execution_count": 34,
      "outputs": [
        {
          "output_type": "execute_result",
          "data": {
            "text/plain": [
              "<tf.Variable 'Variable:0' shape=() dtype=float16, numpy=25.0>"
            ]
          },
          "metadata": {
            "tags": []
          },
          "execution_count": 34
        }
      ]
    },
    {
      "cell_type": "markdown",
      "metadata": {
        "id": "B5VRGo1H6010"
      },
      "source": [
        "**Return to slides here.**"
      ]
    },
    {
      "cell_type": "markdown",
      "metadata": {
        "id": "4CURG9Er6aZI"
      },
      "source": [
        "### Vectors (Rank 1 Tensors) in NumPy"
      ]
    },
    {
      "cell_type": "code",
      "metadata": {
        "id": "T9ME4kBr4wg0",
        "colab": {
          "base_uri": "https://localhost:8080/"
        },
        "outputId": "6ce75489-51d6-4a25-a09c-d8a7c32d0845"
      },
      "source": [
        "x = np.array([25, 2, 5]) # type argument is optional, e.g.: dtype=np.float16\n",
        "x"
      ],
      "execution_count": 35,
      "outputs": [
        {
          "output_type": "execute_result",
          "data": {
            "text/plain": [
              "array([25,  2,  5])"
            ]
          },
          "metadata": {
            "tags": []
          },
          "execution_count": 35
        }
      ]
    },
    {
      "cell_type": "code",
      "metadata": {
        "id": "ZuotxmlZL2wp",
        "colab": {
          "base_uri": "https://localhost:8080/"
        },
        "outputId": "bf3fcf25-6bd9-465c-b567-aa5a484445d3"
      },
      "source": [
        "len(x)"
      ],
      "execution_count": 36,
      "outputs": [
        {
          "output_type": "execute_result",
          "data": {
            "text/plain": [
              "3"
            ]
          },
          "metadata": {
            "tags": []
          },
          "execution_count": 36
        }
      ]
    },
    {
      "cell_type": "code",
      "metadata": {
        "id": "OlPYy6GOaIVy",
        "colab": {
          "base_uri": "https://localhost:8080/"
        },
        "outputId": "3efc6e78-65b0-4a1b-bb5a-6d240059fb33"
      },
      "source": [
        "x.shape"
      ],
      "execution_count": 37,
      "outputs": [
        {
          "output_type": "execute_result",
          "data": {
            "text/plain": [
              "(3,)"
            ]
          },
          "metadata": {
            "tags": []
          },
          "execution_count": 37
        }
      ]
    },
    {
      "cell_type": "code",
      "metadata": {
        "id": "sWbYGwObcgtK",
        "colab": {
          "base_uri": "https://localhost:8080/"
        },
        "outputId": "ba32b4bf-76c5-42cb-9320-ec7ab0bd1362"
      },
      "source": [
        "type(x)"
      ],
      "execution_count": 38,
      "outputs": [
        {
          "output_type": "execute_result",
          "data": {
            "text/plain": [
              "numpy.ndarray"
            ]
          },
          "metadata": {
            "tags": []
          },
          "execution_count": 38
        }
      ]
    },
    {
      "cell_type": "code",
      "metadata": {
        "id": "ME_xuvD_oTPg",
        "colab": {
          "base_uri": "https://localhost:8080/"
        },
        "outputId": "225b2e23-698b-4ced-9e38-a16aa6f25ef0"
      },
      "source": [
        "x[0] # zero-indexed"
      ],
      "execution_count": 39,
      "outputs": [
        {
          "output_type": "execute_result",
          "data": {
            "text/plain": [
              "25"
            ]
          },
          "metadata": {
            "tags": []
          },
          "execution_count": 39
        }
      ]
    },
    {
      "cell_type": "code",
      "metadata": {
        "id": "hXmBHZQ-nxFw",
        "colab": {
          "base_uri": "https://localhost:8080/"
        },
        "outputId": "47c31bdf-4b3f-41bc-80ac-def184ec525a"
      },
      "source": [
        "type(x[0])"
      ],
      "execution_count": 40,
      "outputs": [
        {
          "output_type": "execute_result",
          "data": {
            "text/plain": [
              "numpy.int64"
            ]
          },
          "metadata": {
            "tags": []
          },
          "execution_count": 40
        }
      ]
    },
    {
      "cell_type": "markdown",
      "metadata": {
        "id": "NiEofCzYZBrQ"
      },
      "source": [
        "### Vector Transposition"
      ]
    },
    {
      "cell_type": "code",
      "metadata": {
        "id": "hxGFNDx6V95l",
        "colab": {
          "base_uri": "https://localhost:8080/"
        },
        "outputId": "3dcfec8e-d535-4671-cf27-adffac254a8b"
      },
      "source": [
        "# Transposing a regular 1-D array has no effect...\n",
        "x_t = x.T\n",
        "x_t"
      ],
      "execution_count": 41,
      "outputs": [
        {
          "output_type": "execute_result",
          "data": {
            "text/plain": [
              "array([25,  2,  5])"
            ]
          },
          "metadata": {
            "tags": []
          },
          "execution_count": 41
        }
      ]
    },
    {
      "cell_type": "code",
      "metadata": {
        "id": "_f8E9ExDWw4p",
        "colab": {
          "base_uri": "https://localhost:8080/"
        },
        "outputId": "244fcd8c-2ba6-4739-8bb0-71b5262e8178"
      },
      "source": [
        "x_t.shape"
      ],
      "execution_count": 42,
      "outputs": [
        {
          "output_type": "execute_result",
          "data": {
            "text/plain": [
              "(3,)"
            ]
          },
          "metadata": {
            "tags": []
          },
          "execution_count": 42
        }
      ]
    },
    {
      "cell_type": "code",
      "metadata": {
        "id": "AEd8jB7YcgtT",
        "colab": {
          "base_uri": "https://localhost:8080/"
        },
        "outputId": "8a0b96e5-2137-4150-98f7-5524f041129f"
      },
      "source": [
        "# ...but it does we use nested \"matrix-style\" brackets: \n",
        "y = np.array([[25, 2, 5]])\n",
        "y"
      ],
      "execution_count": 43,
      "outputs": [
        {
          "output_type": "execute_result",
          "data": {
            "text/plain": [
              "array([[25,  2,  5]])"
            ]
          },
          "metadata": {
            "tags": []
          },
          "execution_count": 43
        }
      ]
    },
    {
      "cell_type": "code",
      "metadata": {
        "id": "UHQd92oRcgtV",
        "colab": {
          "base_uri": "https://localhost:8080/"
        },
        "outputId": "5588039b-2147-4f43-dcce-3097e6f0d1c9"
      },
      "source": [
        "y.shape"
      ],
      "execution_count": 44,
      "outputs": [
        {
          "output_type": "execute_result",
          "data": {
            "text/plain": [
              "(1, 3)"
            ]
          },
          "metadata": {
            "tags": []
          },
          "execution_count": 44
        }
      ]
    },
    {
      "cell_type": "code",
      "metadata": {
        "id": "SPi1JqGEXXUc",
        "colab": {
          "base_uri": "https://localhost:8080/"
        },
        "outputId": "0f2f8137-5d50-418f-c06b-5b40972a7dfa"
      },
      "source": [
        "# ...but can transpose a matrix with a dimension of length 1, which is mathematically equivalent: \n",
        "y_t = y.T\n",
        "y_t"
      ],
      "execution_count": 45,
      "outputs": [
        {
          "output_type": "execute_result",
          "data": {
            "text/plain": [
              "array([[25],\n",
              "       [ 2],\n",
              "       [ 5]])"
            ]
          },
          "metadata": {
            "tags": []
          },
          "execution_count": 45
        }
      ]
    },
    {
      "cell_type": "code",
      "metadata": {
        "id": "6rzUv762Yjis",
        "colab": {
          "base_uri": "https://localhost:8080/"
        },
        "outputId": "841a251b-6548-41b2-955d-c00f0509109b"
      },
      "source": [
        "y_t.shape # this is a column vector as it has 3 rows and 1 column"
      ],
      "execution_count": 46,
      "outputs": [
        {
          "output_type": "execute_result",
          "data": {
            "text/plain": [
              "(3, 1)"
            ]
          },
          "metadata": {
            "tags": []
          },
          "execution_count": 46
        }
      ]
    },
    {
      "cell_type": "code",
      "metadata": {
        "id": "xVnQMLOrYtra",
        "colab": {
          "base_uri": "https://localhost:8080/"
        },
        "outputId": "edb64990-6e91-42a7-8173-a8d9b0524e4e"
      },
      "source": [
        "# Column vector can be transposed back to original row vector: \n",
        "y_t.T "
      ],
      "execution_count": 47,
      "outputs": [
        {
          "output_type": "execute_result",
          "data": {
            "text/plain": [
              "array([[25,  2,  5]])"
            ]
          },
          "metadata": {
            "tags": []
          },
          "execution_count": 47
        }
      ]
    },
    {
      "cell_type": "code",
      "metadata": {
        "id": "QIAA2NLRZIXC",
        "colab": {
          "base_uri": "https://localhost:8080/"
        },
        "outputId": "2f760e6e-43a4-4819-ad92-cd1f2a0828cd"
      },
      "source": [
        "y_t.T.shape"
      ],
      "execution_count": 48,
      "outputs": [
        {
          "output_type": "execute_result",
          "data": {
            "text/plain": [
              "(1, 3)"
            ]
          },
          "metadata": {
            "tags": []
          },
          "execution_count": 48
        }
      ]
    },
    {
      "cell_type": "markdown",
      "metadata": {
        "id": "Voj26mSpZLuh"
      },
      "source": [
        "### Zero Vectors\n",
        "\n",
        "Have no effect if added to another vector"
      ]
    },
    {
      "cell_type": "code",
      "metadata": {
        "id": "-46AbOdkZVn_",
        "colab": {
          "base_uri": "https://localhost:8080/"
        },
        "outputId": "7d060352-e058-42f0-f944-a0f435f51779"
      },
      "source": [
        "z = np.zeros(3) \n",
        "z"
      ],
      "execution_count": 49,
      "outputs": [
        {
          "output_type": "execute_result",
          "data": {
            "text/plain": [
              "array([0., 0., 0.])"
            ]
          },
          "metadata": {
            "tags": []
          },
          "execution_count": 49
        }
      ]
    },
    {
      "cell_type": "markdown",
      "metadata": {
        "id": "c6xyYiwSnSGC"
      },
      "source": [
        "### Vectors in PyTorch and TensorFlow"
      ]
    },
    {
      "cell_type": "code",
      "metadata": {
        "id": "s2TGDeqXnitZ",
        "colab": {
          "base_uri": "https://localhost:8080/"
        },
        "outputId": "b2b133ef-a5c4-4f53-826c-ca29732b7747"
      },
      "source": [
        "x_pt = torch.tensor([25, 2, 5])\n",
        "x_pt"
      ],
      "execution_count": 50,
      "outputs": [
        {
          "output_type": "execute_result",
          "data": {
            "text/plain": [
              "tensor([25,  2,  5])"
            ]
          },
          "metadata": {
            "tags": []
          },
          "execution_count": 50
        }
      ]
    },
    {
      "cell_type": "code",
      "metadata": {
        "id": "-0jbHgc5iijG",
        "scrolled": true,
        "colab": {
          "base_uri": "https://localhost:8080/"
        },
        "outputId": "24f6fbd1-869c-47b5-f71c-64efe082306c"
      },
      "source": [
        "x_tf = tf.Variable([25, 2, 5])\n",
        "x_tf"
      ],
      "execution_count": 52,
      "outputs": [
        {
          "output_type": "execute_result",
          "data": {
            "text/plain": [
              "<tf.Variable 'Variable:0' shape=(3,) dtype=int32, numpy=array([25,  2,  5], dtype=int32)>"
            ]
          },
          "metadata": {
            "tags": []
          },
          "execution_count": 52
        }
      ]
    },
    {
      "cell_type": "markdown",
      "metadata": {
        "id": "rTDDta1Ro4Pf"
      },
      "source": [
        "**Return to slides here.**"
      ]
    },
    {
      "cell_type": "markdown",
      "metadata": {
        "id": "8fU5qVTI6SLD"
      },
      "source": [
        "### $L^2$ Norm"
      ]
    },
    {
      "cell_type": "code",
      "metadata": {
        "id": "lLc2FbGG6SLD",
        "colab": {
          "base_uri": "https://localhost:8080/"
        },
        "outputId": "79f5009a-24f5-4a2d-bc34-d3f33972c3b1"
      },
      "source": [
        "x"
      ],
      "execution_count": 53,
      "outputs": [
        {
          "output_type": "execute_result",
          "data": {
            "text/plain": [
              "array([25,  2,  5])"
            ]
          },
          "metadata": {
            "tags": []
          },
          "execution_count": 53
        }
      ]
    },
    {
      "cell_type": "code",
      "metadata": {
        "id": "AN43hsl86SLG",
        "colab": {
          "base_uri": "https://localhost:8080/"
        },
        "outputId": "6cc1cfc7-f457-4adc-db3d-803bba2ad053"
      },
      "source": [
        "(25**2 + 2**2 + 5**2)**(1/2)"
      ],
      "execution_count": 54,
      "outputs": [
        {
          "output_type": "execute_result",
          "data": {
            "text/plain": [
              "25.573423705088842"
            ]
          },
          "metadata": {
            "tags": []
          },
          "execution_count": 54
        }
      ]
    },
    {
      "cell_type": "code",
      "metadata": {
        "id": "D9CyWo-l6SLI",
        "colab": {
          "base_uri": "https://localhost:8080/"
        },
        "outputId": "665474e9-129b-490c-b1a1-79e752e6713b"
      },
      "source": [
        "np.linalg.norm(x)"
      ],
      "execution_count": 55,
      "outputs": [
        {
          "output_type": "execute_result",
          "data": {
            "text/plain": [
              "25.573423705088842"
            ]
          },
          "metadata": {
            "tags": []
          },
          "execution_count": 55
        }
      ]
    },
    {
      "cell_type": "markdown",
      "metadata": {
        "id": "TNEMRi926SLK"
      },
      "source": [
        "So, if units in this 3-dimensional vector space are meters, then the vector $x$ has a length of 25.6m"
      ]
    },
    {
      "cell_type": "markdown",
      "metadata": {
        "id": "ugQC6k4h6SLK"
      },
      "source": [
        "**Return to slides here.**"
      ]
    },
    {
      "cell_type": "markdown",
      "metadata": {
        "id": "PwiRlMuC6SLK"
      },
      "source": [
        "### $L^1$ Norm"
      ]
    },
    {
      "cell_type": "code",
      "metadata": {
        "id": "lcYKyc5H6SLL",
        "colab": {
          "base_uri": "https://localhost:8080/"
        },
        "outputId": "db0b1659-b501-4227-d79a-02f2dfaee90c"
      },
      "source": [
        "x"
      ],
      "execution_count": 56,
      "outputs": [
        {
          "output_type": "execute_result",
          "data": {
            "text/plain": [
              "array([25,  2,  5])"
            ]
          },
          "metadata": {
            "tags": []
          },
          "execution_count": 56
        }
      ]
    },
    {
      "cell_type": "code",
      "metadata": {
        "id": "8jNb6nYl6SLM",
        "colab": {
          "base_uri": "https://localhost:8080/"
        },
        "outputId": "a32aa1e7-8e84-485f-be5a-bb9150d4db19"
      },
      "source": [
        "np.abs(25) + np.abs(2) + np.abs(5)"
      ],
      "execution_count": 57,
      "outputs": [
        {
          "output_type": "execute_result",
          "data": {
            "text/plain": [
              "32"
            ]
          },
          "metadata": {
            "tags": []
          },
          "execution_count": 57
        }
      ]
    },
    {
      "cell_type": "markdown",
      "metadata": {
        "id": "WTPz0EBSAVee"
      },
      "source": [
        "**Return to slides here.**"
      ]
    },
    {
      "cell_type": "markdown",
      "metadata": {
        "id": "lQP73B916SLP"
      },
      "source": [
        "### Squared $L^2$ Norm"
      ]
    },
    {
      "cell_type": "code",
      "metadata": {
        "id": "Qv1ouJ8r6SLP",
        "colab": {
          "base_uri": "https://localhost:8080/"
        },
        "outputId": "f0780aae-8a24-4ddd-e321-23ed562eac54"
      },
      "source": [
        "x"
      ],
      "execution_count": 58,
      "outputs": [
        {
          "output_type": "execute_result",
          "data": {
            "text/plain": [
              "array([25,  2,  5])"
            ]
          },
          "metadata": {
            "tags": []
          },
          "execution_count": 58
        }
      ]
    },
    {
      "cell_type": "code",
      "metadata": {
        "id": "eG3WSB5R6SLT",
        "colab": {
          "base_uri": "https://localhost:8080/"
        },
        "outputId": "b21f66e9-c8e0-4bfe-abaf-c814d4b0115b"
      },
      "source": [
        "(25**2 + 2**2 + 5**2)"
      ],
      "execution_count": 59,
      "outputs": [
        {
          "output_type": "execute_result",
          "data": {
            "text/plain": [
              "654"
            ]
          },
          "metadata": {
            "tags": []
          },
          "execution_count": 59
        }
      ]
    },
    {
      "cell_type": "code",
      "metadata": {
        "id": "bXwzSudS6SLV",
        "colab": {
          "base_uri": "https://localhost:8080/"
        },
        "outputId": "bd72d11d-92a6-4ee9-9712-033a45a4ee42"
      },
      "source": [
        "# we'll cover tensor multiplication more soon but to prove point quickly: \n",
        "np.dot(x, x)"
      ],
      "execution_count": 60,
      "outputs": [
        {
          "output_type": "execute_result",
          "data": {
            "text/plain": [
              "654"
            ]
          },
          "metadata": {
            "tags": []
          },
          "execution_count": 60
        }
      ]
    },
    {
      "cell_type": "markdown",
      "metadata": {
        "id": "q3CIH9ba6SLX"
      },
      "source": [
        "**Return to slides here.**"
      ]
    },
    {
      "cell_type": "markdown",
      "metadata": {
        "id": "BHWxVPFC6SLX"
      },
      "source": [
        "### Max Norm"
      ]
    },
    {
      "cell_type": "code",
      "metadata": {
        "id": "vO-zfvDG6SLX",
        "colab": {
          "base_uri": "https://localhost:8080/"
        },
        "outputId": "d074f445-2e4c-41cb-9721-7f0bf3b70389"
      },
      "source": [
        "x"
      ],
      "execution_count": 61,
      "outputs": [
        {
          "output_type": "execute_result",
          "data": {
            "text/plain": [
              "array([25,  2,  5])"
            ]
          },
          "metadata": {
            "tags": []
          },
          "execution_count": 61
        }
      ]
    },
    {
      "cell_type": "code",
      "metadata": {
        "id": "vXXLgbyW6SLZ",
        "colab": {
          "base_uri": "https://localhost:8080/"
        },
        "outputId": "dfe6f651-f9b8-4d2b-cd71-b18a3c8970c5"
      },
      "source": [
        "np.max([np.abs(25), np.abs(2), np.abs(5)])"
      ],
      "execution_count": 62,
      "outputs": [
        {
          "output_type": "execute_result",
          "data": {
            "text/plain": [
              "25"
            ]
          },
          "metadata": {
            "tags": []
          },
          "execution_count": 62
        }
      ]
    },
    {
      "cell_type": "markdown",
      "metadata": {
        "id": "3MVTsXA8nNR0"
      },
      "source": [
        "**Return to slides here.**"
      ]
    },
    {
      "cell_type": "markdown",
      "metadata": {
        "id": "JzKlIpYZcgt9"
      },
      "source": [
        "### Orthogonal Vectors"
      ]
    },
    {
      "cell_type": "code",
      "metadata": {
        "id": "4jHg9La-cgt9",
        "colab": {
          "base_uri": "https://localhost:8080/"
        },
        "outputId": "b1f68720-3e26-4691-d7ee-a9759e1b2be2"
      },
      "source": [
        "i = np.array([1, 0])\n",
        "i"
      ],
      "execution_count": 63,
      "outputs": [
        {
          "output_type": "execute_result",
          "data": {
            "text/plain": [
              "array([1, 0])"
            ]
          },
          "metadata": {
            "tags": []
          },
          "execution_count": 63
        }
      ]
    },
    {
      "cell_type": "code",
      "metadata": {
        "id": "3FyLhPK3cguA",
        "colab": {
          "base_uri": "https://localhost:8080/"
        },
        "outputId": "dc64db0b-4d93-478a-9891-c82868244fd5"
      },
      "source": [
        "j = np.array([0, 1])\n",
        "j"
      ],
      "execution_count": 64,
      "outputs": [
        {
          "output_type": "execute_result",
          "data": {
            "text/plain": [
              "array([0, 1])"
            ]
          },
          "metadata": {
            "tags": []
          },
          "execution_count": 64
        }
      ]
    },
    {
      "cell_type": "code",
      "metadata": {
        "id": "7eQtKhaDcguC",
        "scrolled": false,
        "colab": {
          "base_uri": "https://localhost:8080/"
        },
        "outputId": "7c1e9747-f2a7-43c4-ee3d-95b2b6abe1e6"
      },
      "source": [
        "np.dot(i, j) # detail on the dot operation coming up..."
      ],
      "execution_count": 65,
      "outputs": [
        {
          "output_type": "execute_result",
          "data": {
            "text/plain": [
              "0"
            ]
          },
          "metadata": {
            "tags": []
          },
          "execution_count": 65
        }
      ]
    },
    {
      "cell_type": "markdown",
      "metadata": {
        "id": "C6eMVPu4nNR7"
      },
      "source": [
        "**Return to slides here.**"
      ]
    },
    {
      "cell_type": "markdown",
      "metadata": {
        "id": "mK3AZH53o8Br"
      },
      "source": [
        "### Matrices (Rank 2 Tensors) in NumPy"
      ]
    },
    {
      "cell_type": "code",
      "metadata": {
        "id": "stk57cmaESW1",
        "colab": {
          "base_uri": "https://localhost:8080/"
        },
        "outputId": "248eff07-659e-4c5d-f63d-da94e8791f87"
      },
      "source": [
        "# Use array() with nested brackets: \n",
        "X = np.array([[25, 2], [5, 26], [3, 7]])\n",
        "X"
      ],
      "execution_count": 66,
      "outputs": [
        {
          "output_type": "execute_result",
          "data": {
            "text/plain": [
              "array([[25,  2],\n",
              "       [ 5, 26],\n",
              "       [ 3,  7]])"
            ]
          },
          "metadata": {
            "tags": []
          },
          "execution_count": 66
        }
      ]
    },
    {
      "cell_type": "code",
      "metadata": {
        "id": "IhDL4L8S6SLc",
        "colab": {
          "base_uri": "https://localhost:8080/"
        },
        "outputId": "51da70ef-5af2-4836-c539-2b380678d47f"
      },
      "source": [
        "X.shape"
      ],
      "execution_count": 67,
      "outputs": [
        {
          "output_type": "execute_result",
          "data": {
            "text/plain": [
              "(3, 2)"
            ]
          },
          "metadata": {
            "tags": []
          },
          "execution_count": 67
        }
      ]
    },
    {
      "cell_type": "code",
      "metadata": {
        "id": "q3oyaAK36SLe",
        "colab": {
          "base_uri": "https://localhost:8080/"
        },
        "outputId": "fb6dbd35-3992-4c57-b095-6b6432eeab8c"
      },
      "source": [
        "X.size"
      ],
      "execution_count": 68,
      "outputs": [
        {
          "output_type": "execute_result",
          "data": {
            "text/plain": [
              "6"
            ]
          },
          "metadata": {
            "tags": []
          },
          "execution_count": 68
        }
      ]
    },
    {
      "cell_type": "code",
      "metadata": {
        "id": "YN9CHzja6SLg",
        "colab": {
          "base_uri": "https://localhost:8080/"
        },
        "outputId": "240e2696-8924-406a-b397-b387404c015a"
      },
      "source": [
        "# Select left column of matrix X (zero-indexed)\n",
        "X[:,0]"
      ],
      "execution_count": 69,
      "outputs": [
        {
          "output_type": "execute_result",
          "data": {
            "text/plain": [
              "array([25,  5,  3])"
            ]
          },
          "metadata": {
            "tags": []
          },
          "execution_count": 69
        }
      ]
    },
    {
      "cell_type": "code",
      "metadata": {
        "id": "ih7nh4qC6SLi",
        "colab": {
          "base_uri": "https://localhost:8080/"
        },
        "outputId": "58080d5c-1aed-46c6-fb03-7e17cd27ebeb"
      },
      "source": [
        "# Select middle row of matrix X: \n",
        "X[1,:]"
      ],
      "execution_count": 70,
      "outputs": [
        {
          "output_type": "execute_result",
          "data": {
            "text/plain": [
              "array([ 5, 26])"
            ]
          },
          "metadata": {
            "tags": []
          },
          "execution_count": 70
        }
      ]
    },
    {
      "cell_type": "code",
      "metadata": {
        "id": "pg7numxP6SLl",
        "colab": {
          "base_uri": "https://localhost:8080/"
        },
        "outputId": "33d3cdd5-2125-4d60-a4ab-45be3eaab2e4"
      },
      "source": [
        "# Another slicing-by-index example: \n",
        "X[0:2, 0:2]"
      ],
      "execution_count": 71,
      "outputs": [
        {
          "output_type": "execute_result",
          "data": {
            "text/plain": [
              "array([[25,  2],\n",
              "       [ 5, 26]])"
            ]
          },
          "metadata": {
            "tags": []
          },
          "execution_count": 71
        }
      ]
    },
    {
      "cell_type": "markdown",
      "metadata": {
        "id": "HGEfZiBb6SLt"
      },
      "source": [
        "### Matrices in PyTorch"
      ]
    },
    {
      "cell_type": "code",
      "metadata": {
        "id": "-bibT9ye6SLt",
        "colab": {
          "base_uri": "https://localhost:8080/"
        },
        "outputId": "18b8ceac-9a29-4648-848e-9c1b92e114a8"
      },
      "source": [
        "X_pt = torch.tensor([[25, 2], [5, 26], [3, 7]])\n",
        "X_pt"
      ],
      "execution_count": 72,
      "outputs": [
        {
          "output_type": "execute_result",
          "data": {
            "text/plain": [
              "tensor([[25,  2],\n",
              "        [ 5, 26],\n",
              "        [ 3,  7]])"
            ]
          },
          "metadata": {
            "tags": []
          },
          "execution_count": 72
        }
      ]
    },
    {
      "cell_type": "code",
      "metadata": {
        "id": "TBPu1L7P6SLv",
        "colab": {
          "base_uri": "https://localhost:8080/"
        },
        "outputId": "e4818eeb-5498-4512-9527-1d25f1b50888"
      },
      "source": [
        "X_pt.shape # more pythonic"
      ],
      "execution_count": 73,
      "outputs": [
        {
          "output_type": "execute_result",
          "data": {
            "text/plain": [
              "torch.Size([3, 2])"
            ]
          },
          "metadata": {
            "tags": []
          },
          "execution_count": 73
        }
      ]
    },
    {
      "cell_type": "code",
      "metadata": {
        "id": "4mTj56M16SLw",
        "colab": {
          "base_uri": "https://localhost:8080/"
        },
        "outputId": "161bf76f-0fa0-433d-dc01-2c427a23dd3f"
      },
      "source": [
        "X_pt[1,:]"
      ],
      "execution_count": 74,
      "outputs": [
        {
          "output_type": "execute_result",
          "data": {
            "text/plain": [
              "tensor([ 5, 26])"
            ]
          },
          "metadata": {
            "tags": []
          },
          "execution_count": 74
        }
      ]
    },
    {
      "cell_type": "markdown",
      "metadata": {
        "id": "E026fQlD6SLn"
      },
      "source": [
        "### Matrices in TensorFlow"
      ]
    },
    {
      "cell_type": "code",
      "metadata": {
        "id": "1gtGH6oA6SLn",
        "colab": {
          "base_uri": "https://localhost:8080/"
        },
        "outputId": "3bbf12a7-ec8d-45a0-cca6-ab6f62ea01a6"
      },
      "source": [
        "X_tf = tf.Variable([[25, 2], [5, 26], [3, 7]])\n",
        "X_tf"
      ],
      "execution_count": 75,
      "outputs": [
        {
          "output_type": "execute_result",
          "data": {
            "text/plain": [
              "<tf.Variable 'Variable:0' shape=(3, 2) dtype=int32, numpy=\n",
              "array([[25,  2],\n",
              "       [ 5, 26],\n",
              "       [ 3,  7]], dtype=int32)>"
            ]
          },
          "metadata": {
            "tags": []
          },
          "execution_count": 75
        }
      ]
    },
    {
      "cell_type": "code",
      "metadata": {
        "id": "4CV_KiTP6SLp",
        "colab": {
          "base_uri": "https://localhost:8080/"
        },
        "outputId": "02ea8d3c-8c7d-4fc8-e9b7-2a420edd6750"
      },
      "source": [
        "tf.rank(X_tf)"
      ],
      "execution_count": 76,
      "outputs": [
        {
          "output_type": "execute_result",
          "data": {
            "text/plain": [
              "<tf.Tensor: shape=(), dtype=int32, numpy=2>"
            ]
          },
          "metadata": {
            "tags": []
          },
          "execution_count": 76
        }
      ]
    },
    {
      "cell_type": "code",
      "metadata": {
        "id": "vUsce8tC6SLq",
        "colab": {
          "base_uri": "https://localhost:8080/"
        },
        "outputId": "5c219c7c-5b5d-43d8-b4ea-c53ffd1063b5"
      },
      "source": [
        "tf.shape(X_tf)"
      ],
      "execution_count": 77,
      "outputs": [
        {
          "output_type": "execute_result",
          "data": {
            "text/plain": [
              "<tf.Tensor: shape=(2,), dtype=int32, numpy=array([3, 2], dtype=int32)>"
            ]
          },
          "metadata": {
            "tags": []
          },
          "execution_count": 77
        }
      ]
    },
    {
      "cell_type": "code",
      "metadata": {
        "id": "QNpfvNPj6SLr",
        "colab": {
          "base_uri": "https://localhost:8080/"
        },
        "outputId": "4134930a-12c3-464e-df26-783c5e49a82c"
      },
      "source": [
        "X_tf[1,:]"
      ],
      "execution_count": 78,
      "outputs": [
        {
          "output_type": "execute_result",
          "data": {
            "text/plain": [
              "<tf.Tensor: shape=(2,), dtype=int32, numpy=array([ 5, 26], dtype=int32)>"
            ]
          },
          "metadata": {
            "tags": []
          },
          "execution_count": 78
        }
      ]
    },
    {
      "cell_type": "markdown",
      "metadata": {
        "id": "CodS4evY6SLy"
      },
      "source": [
        "**Return to slides here.**"
      ]
    },
    {
      "cell_type": "markdown",
      "metadata": {
        "id": "cMpfujF_6SLy"
      },
      "source": [
        "### Higher-Rank Tensors\n",
        "\n",
        "As an example, rank 4 tensors are common for images, where each dimension corresponds to: \n",
        "\n",
        "1. Number of images in training batch, e.g., 32\n",
        "2. Image height in pixels, e.g., 28 for [MNIST digits](http://yann.lecun.com/exdb/mnist/)\n",
        "3. Image width in pixels, e.g., 28\n",
        "4. Number of color channels, e.g., 3 for full-color images (RGB)"
      ]
    },
    {
      "cell_type": "code",
      "metadata": {
        "id": "KSZlICRR6SL1"
      },
      "source": [
        "images_pt = torch.zeros([32, 28, 28, 3])"
      ],
      "execution_count": 79,
      "outputs": []
    },
    {
      "cell_type": "code",
      "metadata": {
        "id": "6Dqj0vmh6SL2"
      },
      "source": [
        "# images_pt"
      ],
      "execution_count": 80,
      "outputs": []
    },
    {
      "cell_type": "code",
      "metadata": {
        "id": "7TASTVD96SLy"
      },
      "source": [
        "images_tf = tf.zeros([32, 28, 28, 3])"
      ],
      "execution_count": 81,
      "outputs": []
    },
    {
      "cell_type": "code",
      "metadata": {
        "id": "ftOliyru6SL0",
        "colab": {
          "base_uri": "https://localhost:8080/"
        },
        "outputId": "e044e8c5-952e-4670-98df-5cc1d9138f9c"
      },
      "source": [
        " images_tf"
      ],
      "execution_count": 83,
      "outputs": [
        {
          "output_type": "execute_result",
          "data": {
            "text/plain": [
              "<tf.Tensor: shape=(32, 28, 28, 3), dtype=float32, numpy=\n",
              "array([[[[0., 0., 0.],\n",
              "         [0., 0., 0.],\n",
              "         [0., 0., 0.],\n",
              "         ...,\n",
              "         [0., 0., 0.],\n",
              "         [0., 0., 0.],\n",
              "         [0., 0., 0.]],\n",
              "\n",
              "        [[0., 0., 0.],\n",
              "         [0., 0., 0.],\n",
              "         [0., 0., 0.],\n",
              "         ...,\n",
              "         [0., 0., 0.],\n",
              "         [0., 0., 0.],\n",
              "         [0., 0., 0.]],\n",
              "\n",
              "        [[0., 0., 0.],\n",
              "         [0., 0., 0.],\n",
              "         [0., 0., 0.],\n",
              "         ...,\n",
              "         [0., 0., 0.],\n",
              "         [0., 0., 0.],\n",
              "         [0., 0., 0.]],\n",
              "\n",
              "        ...,\n",
              "\n",
              "        [[0., 0., 0.],\n",
              "         [0., 0., 0.],\n",
              "         [0., 0., 0.],\n",
              "         ...,\n",
              "         [0., 0., 0.],\n",
              "         [0., 0., 0.],\n",
              "         [0., 0., 0.]],\n",
              "\n",
              "        [[0., 0., 0.],\n",
              "         [0., 0., 0.],\n",
              "         [0., 0., 0.],\n",
              "         ...,\n",
              "         [0., 0., 0.],\n",
              "         [0., 0., 0.],\n",
              "         [0., 0., 0.]],\n",
              "\n",
              "        [[0., 0., 0.],\n",
              "         [0., 0., 0.],\n",
              "         [0., 0., 0.],\n",
              "         ...,\n",
              "         [0., 0., 0.],\n",
              "         [0., 0., 0.],\n",
              "         [0., 0., 0.]]],\n",
              "\n",
              "\n",
              "       [[[0., 0., 0.],\n",
              "         [0., 0., 0.],\n",
              "         [0., 0., 0.],\n",
              "         ...,\n",
              "         [0., 0., 0.],\n",
              "         [0., 0., 0.],\n",
              "         [0., 0., 0.]],\n",
              "\n",
              "        [[0., 0., 0.],\n",
              "         [0., 0., 0.],\n",
              "         [0., 0., 0.],\n",
              "         ...,\n",
              "         [0., 0., 0.],\n",
              "         [0., 0., 0.],\n",
              "         [0., 0., 0.]],\n",
              "\n",
              "        [[0., 0., 0.],\n",
              "         [0., 0., 0.],\n",
              "         [0., 0., 0.],\n",
              "         ...,\n",
              "         [0., 0., 0.],\n",
              "         [0., 0., 0.],\n",
              "         [0., 0., 0.]],\n",
              "\n",
              "        ...,\n",
              "\n",
              "        [[0., 0., 0.],\n",
              "         [0., 0., 0.],\n",
              "         [0., 0., 0.],\n",
              "         ...,\n",
              "         [0., 0., 0.],\n",
              "         [0., 0., 0.],\n",
              "         [0., 0., 0.]],\n",
              "\n",
              "        [[0., 0., 0.],\n",
              "         [0., 0., 0.],\n",
              "         [0., 0., 0.],\n",
              "         ...,\n",
              "         [0., 0., 0.],\n",
              "         [0., 0., 0.],\n",
              "         [0., 0., 0.]],\n",
              "\n",
              "        [[0., 0., 0.],\n",
              "         [0., 0., 0.],\n",
              "         [0., 0., 0.],\n",
              "         ...,\n",
              "         [0., 0., 0.],\n",
              "         [0., 0., 0.],\n",
              "         [0., 0., 0.]]],\n",
              "\n",
              "\n",
              "       [[[0., 0., 0.],\n",
              "         [0., 0., 0.],\n",
              "         [0., 0., 0.],\n",
              "         ...,\n",
              "         [0., 0., 0.],\n",
              "         [0., 0., 0.],\n",
              "         [0., 0., 0.]],\n",
              "\n",
              "        [[0., 0., 0.],\n",
              "         [0., 0., 0.],\n",
              "         [0., 0., 0.],\n",
              "         ...,\n",
              "         [0., 0., 0.],\n",
              "         [0., 0., 0.],\n",
              "         [0., 0., 0.]],\n",
              "\n",
              "        [[0., 0., 0.],\n",
              "         [0., 0., 0.],\n",
              "         [0., 0., 0.],\n",
              "         ...,\n",
              "         [0., 0., 0.],\n",
              "         [0., 0., 0.],\n",
              "         [0., 0., 0.]],\n",
              "\n",
              "        ...,\n",
              "\n",
              "        [[0., 0., 0.],\n",
              "         [0., 0., 0.],\n",
              "         [0., 0., 0.],\n",
              "         ...,\n",
              "         [0., 0., 0.],\n",
              "         [0., 0., 0.],\n",
              "         [0., 0., 0.]],\n",
              "\n",
              "        [[0., 0., 0.],\n",
              "         [0., 0., 0.],\n",
              "         [0., 0., 0.],\n",
              "         ...,\n",
              "         [0., 0., 0.],\n",
              "         [0., 0., 0.],\n",
              "         [0., 0., 0.]],\n",
              "\n",
              "        [[0., 0., 0.],\n",
              "         [0., 0., 0.],\n",
              "         [0., 0., 0.],\n",
              "         ...,\n",
              "         [0., 0., 0.],\n",
              "         [0., 0., 0.],\n",
              "         [0., 0., 0.]]],\n",
              "\n",
              "\n",
              "       ...,\n",
              "\n",
              "\n",
              "       [[[0., 0., 0.],\n",
              "         [0., 0., 0.],\n",
              "         [0., 0., 0.],\n",
              "         ...,\n",
              "         [0., 0., 0.],\n",
              "         [0., 0., 0.],\n",
              "         [0., 0., 0.]],\n",
              "\n",
              "        [[0., 0., 0.],\n",
              "         [0., 0., 0.],\n",
              "         [0., 0., 0.],\n",
              "         ...,\n",
              "         [0., 0., 0.],\n",
              "         [0., 0., 0.],\n",
              "         [0., 0., 0.]],\n",
              "\n",
              "        [[0., 0., 0.],\n",
              "         [0., 0., 0.],\n",
              "         [0., 0., 0.],\n",
              "         ...,\n",
              "         [0., 0., 0.],\n",
              "         [0., 0., 0.],\n",
              "         [0., 0., 0.]],\n",
              "\n",
              "        ...,\n",
              "\n",
              "        [[0., 0., 0.],\n",
              "         [0., 0., 0.],\n",
              "         [0., 0., 0.],\n",
              "         ...,\n",
              "         [0., 0., 0.],\n",
              "         [0., 0., 0.],\n",
              "         [0., 0., 0.]],\n",
              "\n",
              "        [[0., 0., 0.],\n",
              "         [0., 0., 0.],\n",
              "         [0., 0., 0.],\n",
              "         ...,\n",
              "         [0., 0., 0.],\n",
              "         [0., 0., 0.],\n",
              "         [0., 0., 0.]],\n",
              "\n",
              "        [[0., 0., 0.],\n",
              "         [0., 0., 0.],\n",
              "         [0., 0., 0.],\n",
              "         ...,\n",
              "         [0., 0., 0.],\n",
              "         [0., 0., 0.],\n",
              "         [0., 0., 0.]]],\n",
              "\n",
              "\n",
              "       [[[0., 0., 0.],\n",
              "         [0., 0., 0.],\n",
              "         [0., 0., 0.],\n",
              "         ...,\n",
              "         [0., 0., 0.],\n",
              "         [0., 0., 0.],\n",
              "         [0., 0., 0.]],\n",
              "\n",
              "        [[0., 0., 0.],\n",
              "         [0., 0., 0.],\n",
              "         [0., 0., 0.],\n",
              "         ...,\n",
              "         [0., 0., 0.],\n",
              "         [0., 0., 0.],\n",
              "         [0., 0., 0.]],\n",
              "\n",
              "        [[0., 0., 0.],\n",
              "         [0., 0., 0.],\n",
              "         [0., 0., 0.],\n",
              "         ...,\n",
              "         [0., 0., 0.],\n",
              "         [0., 0., 0.],\n",
              "         [0., 0., 0.]],\n",
              "\n",
              "        ...,\n",
              "\n",
              "        [[0., 0., 0.],\n",
              "         [0., 0., 0.],\n",
              "         [0., 0., 0.],\n",
              "         ...,\n",
              "         [0., 0., 0.],\n",
              "         [0., 0., 0.],\n",
              "         [0., 0., 0.]],\n",
              "\n",
              "        [[0., 0., 0.],\n",
              "         [0., 0., 0.],\n",
              "         [0., 0., 0.],\n",
              "         ...,\n",
              "         [0., 0., 0.],\n",
              "         [0., 0., 0.],\n",
              "         [0., 0., 0.]],\n",
              "\n",
              "        [[0., 0., 0.],\n",
              "         [0., 0., 0.],\n",
              "         [0., 0., 0.],\n",
              "         ...,\n",
              "         [0., 0., 0.],\n",
              "         [0., 0., 0.],\n",
              "         [0., 0., 0.]]],\n",
              "\n",
              "\n",
              "       [[[0., 0., 0.],\n",
              "         [0., 0., 0.],\n",
              "         [0., 0., 0.],\n",
              "         ...,\n",
              "         [0., 0., 0.],\n",
              "         [0., 0., 0.],\n",
              "         [0., 0., 0.]],\n",
              "\n",
              "        [[0., 0., 0.],\n",
              "         [0., 0., 0.],\n",
              "         [0., 0., 0.],\n",
              "         ...,\n",
              "         [0., 0., 0.],\n",
              "         [0., 0., 0.],\n",
              "         [0., 0., 0.]],\n",
              "\n",
              "        [[0., 0., 0.],\n",
              "         [0., 0., 0.],\n",
              "         [0., 0., 0.],\n",
              "         ...,\n",
              "         [0., 0., 0.],\n",
              "         [0., 0., 0.],\n",
              "         [0., 0., 0.]],\n",
              "\n",
              "        ...,\n",
              "\n",
              "        [[0., 0., 0.],\n",
              "         [0., 0., 0.],\n",
              "         [0., 0., 0.],\n",
              "         ...,\n",
              "         [0., 0., 0.],\n",
              "         [0., 0., 0.],\n",
              "         [0., 0., 0.]],\n",
              "\n",
              "        [[0., 0., 0.],\n",
              "         [0., 0., 0.],\n",
              "         [0., 0., 0.],\n",
              "         ...,\n",
              "         [0., 0., 0.],\n",
              "         [0., 0., 0.],\n",
              "         [0., 0., 0.]],\n",
              "\n",
              "        [[0., 0., 0.],\n",
              "         [0., 0., 0.],\n",
              "         [0., 0., 0.],\n",
              "         ...,\n",
              "         [0., 0., 0.],\n",
              "         [0., 0., 0.],\n",
              "         [0., 0., 0.]]]], dtype=float32)>"
            ]
          },
          "metadata": {
            "tags": []
          },
          "execution_count": 83
        }
      ]
    },
    {
      "cell_type": "markdown",
      "metadata": {
        "id": "O3sgkdXZ6SL3"
      },
      "source": [
        "**Return to slides here.**"
      ]
    },
    {
      "cell_type": "markdown",
      "metadata": {
        "id": "lmG3LEZK6SL4"
      },
      "source": [
        "## Segment 2: Common Tensor Operations"
      ]
    },
    {
      "cell_type": "markdown",
      "metadata": {
        "id": "iSHGMCxd6SL4"
      },
      "source": [
        "### Tensor Transposition"
      ]
    },
    {
      "cell_type": "code",
      "metadata": {
        "id": "1YN1narR6SL4",
        "colab": {
          "base_uri": "https://localhost:8080/"
        },
        "outputId": "8bc9bbef-c8b0-4d06-ccaa-83ac35ccfbde"
      },
      "source": [
        "X"
      ],
      "execution_count": 84,
      "outputs": [
        {
          "output_type": "execute_result",
          "data": {
            "text/plain": [
              "array([[25,  2],\n",
              "       [ 5, 26],\n",
              "       [ 3,  7]])"
            ]
          },
          "metadata": {
            "tags": []
          },
          "execution_count": 84
        }
      ]
    },
    {
      "cell_type": "code",
      "metadata": {
        "id": "5hf3M_NL6SL5",
        "colab": {
          "base_uri": "https://localhost:8080/"
        },
        "outputId": "d5c9e273-7ecc-40b4-d26f-cd9dd1517c6b"
      },
      "source": [
        "X.T"
      ],
      "execution_count": 85,
      "outputs": [
        {
          "output_type": "execute_result",
          "data": {
            "text/plain": [
              "array([[25,  5,  3],\n",
              "       [ 2, 26,  7]])"
            ]
          },
          "metadata": {
            "tags": []
          },
          "execution_count": 85
        }
      ]
    },
    {
      "cell_type": "code",
      "metadata": {
        "id": "vyBFN_4g6SL9",
        "colab": {
          "base_uri": "https://localhost:8080/"
        },
        "outputId": "4690d2ba-c6e9-4e85-90fb-5281cccb0fd5"
      },
      "source": [
        "X_pt.T "
      ],
      "execution_count": 86,
      "outputs": [
        {
          "output_type": "execute_result",
          "data": {
            "text/plain": [
              "tensor([[25,  5,  3],\n",
              "        [ 2, 26,  7]])"
            ]
          },
          "metadata": {
            "tags": []
          },
          "execution_count": 86
        }
      ]
    },
    {
      "cell_type": "code",
      "metadata": {
        "id": "K2DuDJc_6SL6",
        "colab": {
          "base_uri": "https://localhost:8080/"
        },
        "outputId": "6eb465f1-d679-4a42-eabe-816ccafd975f"
      },
      "source": [
        "tf.transpose(X_tf) # less Pythonic"
      ],
      "execution_count": 87,
      "outputs": [
        {
          "output_type": "execute_result",
          "data": {
            "text/plain": [
              "<tf.Tensor: shape=(2, 3), dtype=int32, numpy=\n",
              "array([[25,  5,  3],\n",
              "       [ 2, 26,  7]], dtype=int32)>"
            ]
          },
          "metadata": {
            "tags": []
          },
          "execution_count": 87
        }
      ]
    },
    {
      "cell_type": "markdown",
      "metadata": {
        "id": "Hp9P1jx76SL_"
      },
      "source": [
        "### Basic Arithmetical Properties"
      ]
    },
    {
      "cell_type": "markdown",
      "metadata": {
        "id": "WxaImEUc6SMA"
      },
      "source": [
        "Adding or multiplying with scalar applies operation to all elements and tensor shape is retained: "
      ]
    },
    {
      "cell_type": "code",
      "metadata": {
        "id": "yhXGETii6SMA",
        "colab": {
          "base_uri": "https://localhost:8080/"
        },
        "outputId": "52f37c52-957f-4c93-fd40-5ad54eec2ef5"
      },
      "source": [
        "X*2"
      ],
      "execution_count": 88,
      "outputs": [
        {
          "output_type": "execute_result",
          "data": {
            "text/plain": [
              "array([[50,  4],\n",
              "       [10, 52],\n",
              "       [ 6, 14]])"
            ]
          },
          "metadata": {
            "tags": []
          },
          "execution_count": 88
        }
      ]
    },
    {
      "cell_type": "code",
      "metadata": {
        "id": "KnPULtDO6SMC",
        "colab": {
          "base_uri": "https://localhost:8080/"
        },
        "outputId": "c8def4f0-cf57-4264-840f-28c7369bac8b"
      },
      "source": [
        "X+2"
      ],
      "execution_count": 89,
      "outputs": [
        {
          "output_type": "execute_result",
          "data": {
            "text/plain": [
              "array([[27,  4],\n",
              "       [ 7, 28],\n",
              "       [ 5,  9]])"
            ]
          },
          "metadata": {
            "tags": []
          },
          "execution_count": 89
        }
      ]
    },
    {
      "cell_type": "code",
      "metadata": {
        "id": "MkfC0Gsb6SMD",
        "colab": {
          "base_uri": "https://localhost:8080/"
        },
        "outputId": "a1ef0f84-e26d-4886-b267-27eae8805187"
      },
      "source": [
        "X*2+2"
      ],
      "execution_count": 90,
      "outputs": [
        {
          "output_type": "execute_result",
          "data": {
            "text/plain": [
              "array([[52,  6],\n",
              "       [12, 54],\n",
              "       [ 8, 16]])"
            ]
          },
          "metadata": {
            "tags": []
          },
          "execution_count": 90
        }
      ]
    },
    {
      "cell_type": "code",
      "metadata": {
        "id": "04bIDpGj6SMH",
        "colab": {
          "base_uri": "https://localhost:8080/"
        },
        "outputId": "142791f6-7f7f-450c-fa34-b40deb22c035"
      },
      "source": [
        "X_pt*2+2 # Python operators are overloaded; could alternatively use torch.mul() or torch.add()"
      ],
      "execution_count": 91,
      "outputs": [
        {
          "output_type": "execute_result",
          "data": {
            "text/plain": [
              "tensor([[52,  6],\n",
              "        [12, 54],\n",
              "        [ 8, 16]])"
            ]
          },
          "metadata": {
            "tags": []
          },
          "execution_count": 91
        }
      ]
    },
    {
      "cell_type": "code",
      "metadata": {
        "id": "2oRBSmRL6SMI",
        "colab": {
          "base_uri": "https://localhost:8080/"
        },
        "outputId": "d534cf78-fdd3-4758-a3ea-ddb882e8f730"
      },
      "source": [
        "torch.add(torch.mul(X_pt, 2), 2)"
      ],
      "execution_count": 92,
      "outputs": [
        {
          "output_type": "execute_result",
          "data": {
            "text/plain": [
              "tensor([[52,  6],\n",
              "        [12, 54],\n",
              "        [ 8, 16]])"
            ]
          },
          "metadata": {
            "tags": []
          },
          "execution_count": 92
        }
      ]
    },
    {
      "cell_type": "code",
      "metadata": {
        "id": "OMSb9Otd6SMF",
        "colab": {
          "base_uri": "https://localhost:8080/"
        },
        "outputId": "44d9f0ff-9bc5-4fd4-fb42-157dea8ffdd0"
      },
      "source": [
        "X_tf*2+2 # Operators likewise overloaded; could equally use tf.multiply() tf.add()"
      ],
      "execution_count": 93,
      "outputs": [
        {
          "output_type": "execute_result",
          "data": {
            "text/plain": [
              "<tf.Tensor: shape=(3, 2), dtype=int32, numpy=\n",
              "array([[52,  6],\n",
              "       [12, 54],\n",
              "       [ 8, 16]], dtype=int32)>"
            ]
          },
          "metadata": {
            "tags": []
          },
          "execution_count": 93
        }
      ]
    },
    {
      "cell_type": "code",
      "metadata": {
        "id": "5ya2xZ4u6SMG",
        "colab": {
          "base_uri": "https://localhost:8080/"
        },
        "outputId": "bb5f6e8e-405c-4f1b-e09e-a929b01d8728"
      },
      "source": [
        "tf.add(tf.multiply(X_tf, 2), 2)"
      ],
      "execution_count": 94,
      "outputs": [
        {
          "output_type": "execute_result",
          "data": {
            "text/plain": [
              "<tf.Tensor: shape=(3, 2), dtype=int32, numpy=\n",
              "array([[52,  6],\n",
              "       [12, 54],\n",
              "       [ 8, 16]], dtype=int32)>"
            ]
          },
          "metadata": {
            "tags": []
          },
          "execution_count": 94
        }
      ]
    },
    {
      "cell_type": "markdown",
      "metadata": {
        "id": "wt8Ls4076SMK"
      },
      "source": [
        "If two tensors have the same size, operations are often by default applied element-wise. This is **not matrix multiplication**, which we'll cover later, but is rather called the **Hadamard product** or simply the **element-wise product**. \n",
        "\n",
        "The mathematical notation is $A \\odot X$"
      ]
    },
    {
      "cell_type": "code",
      "metadata": {
        "id": "KUMyU1t46SMK",
        "colab": {
          "base_uri": "https://localhost:8080/"
        },
        "outputId": "7769d28f-d2c9-45f3-ac86-95ac6f852caa"
      },
      "source": [
        "X"
      ],
      "execution_count": 95,
      "outputs": [
        {
          "output_type": "execute_result",
          "data": {
            "text/plain": [
              "array([[25,  2],\n",
              "       [ 5, 26],\n",
              "       [ 3,  7]])"
            ]
          },
          "metadata": {
            "tags": []
          },
          "execution_count": 95
        }
      ]
    },
    {
      "cell_type": "code",
      "metadata": {
        "id": "UNIbp0P36SML",
        "colab": {
          "base_uri": "https://localhost:8080/"
        },
        "outputId": "40b8ae83-ff6f-4e56-88d2-d2b97787cde7"
      },
      "source": [
        "A = X+2\n",
        "A"
      ],
      "execution_count": 96,
      "outputs": [
        {
          "output_type": "execute_result",
          "data": {
            "text/plain": [
              "array([[27,  4],\n",
              "       [ 7, 28],\n",
              "       [ 5,  9]])"
            ]
          },
          "metadata": {
            "tags": []
          },
          "execution_count": 96
        }
      ]
    },
    {
      "cell_type": "code",
      "metadata": {
        "id": "HE9xPWPdcgu4",
        "colab": {
          "base_uri": "https://localhost:8080/"
        },
        "outputId": "074ac77c-84a3-47c8-f51c-0de8e7dca7a2"
      },
      "source": [
        "A + X"
      ],
      "execution_count": 97,
      "outputs": [
        {
          "output_type": "execute_result",
          "data": {
            "text/plain": [
              "array([[52,  6],\n",
              "       [12, 54],\n",
              "       [ 8, 16]])"
            ]
          },
          "metadata": {
            "tags": []
          },
          "execution_count": 97
        }
      ]
    },
    {
      "cell_type": "code",
      "metadata": {
        "id": "xKyCwGia6SMP",
        "colab": {
          "base_uri": "https://localhost:8080/"
        },
        "outputId": "6e55e180-a0cc-4d32-afa8-8719bfba49a5"
      },
      "source": [
        "A * X"
      ],
      "execution_count": 98,
      "outputs": [
        {
          "output_type": "execute_result",
          "data": {
            "text/plain": [
              "array([[675,   8],\n",
              "       [ 35, 728],\n",
              "       [ 15,  63]])"
            ]
          },
          "metadata": {
            "tags": []
          },
          "execution_count": 98
        }
      ]
    },
    {
      "cell_type": "code",
      "metadata": {
        "id": "B5jXGIBp6SMT"
      },
      "source": [
        "A_pt = X_pt + 2"
      ],
      "execution_count": 99,
      "outputs": []
    },
    {
      "cell_type": "code",
      "metadata": {
        "id": "A7k6yxu36SMU",
        "colab": {
          "base_uri": "https://localhost:8080/"
        },
        "outputId": "398ec482-36b9-4a5c-c4cd-bcbc56bb0d73"
      },
      "source": [
        "A_pt + X_pt"
      ],
      "execution_count": 100,
      "outputs": [
        {
          "output_type": "execute_result",
          "data": {
            "text/plain": [
              "tensor([[52,  6],\n",
              "        [12, 54],\n",
              "        [ 8, 16]])"
            ]
          },
          "metadata": {
            "tags": []
          },
          "execution_count": 100
        }
      ]
    },
    {
      "cell_type": "code",
      "metadata": {
        "id": "r8vOul0m6SMW",
        "colab": {
          "base_uri": "https://localhost:8080/"
        },
        "outputId": "eae7ec95-1c99-4e5c-c285-55ce4cd13945"
      },
      "source": [
        "A_pt * X_pt"
      ],
      "execution_count": 101,
      "outputs": [
        {
          "output_type": "execute_result",
          "data": {
            "text/plain": [
              "tensor([[675,   8],\n",
              "        [ 35, 728],\n",
              "        [ 15,  63]])"
            ]
          },
          "metadata": {
            "tags": []
          },
          "execution_count": 101
        }
      ]
    },
    {
      "cell_type": "code",
      "metadata": {
        "id": "rQcBMSb76SMQ"
      },
      "source": [
        "A_tf = X_tf + 2"
      ],
      "execution_count": 102,
      "outputs": []
    },
    {
      "cell_type": "code",
      "metadata": {
        "id": "x6s1wtNj6SMR",
        "colab": {
          "base_uri": "https://localhost:8080/"
        },
        "outputId": "b98e321a-fdd4-4915-bc58-37eac8404a6d"
      },
      "source": [
        "A_tf + X_tf"
      ],
      "execution_count": 103,
      "outputs": [
        {
          "output_type": "execute_result",
          "data": {
            "text/plain": [
              "<tf.Tensor: shape=(3, 2), dtype=int32, numpy=\n",
              "array([[52,  6],\n",
              "       [12, 54],\n",
              "       [ 8, 16]], dtype=int32)>"
            ]
          },
          "metadata": {
            "tags": []
          },
          "execution_count": 103
        }
      ]
    },
    {
      "cell_type": "code",
      "metadata": {
        "id": "J1D7--296SMS",
        "colab": {
          "base_uri": "https://localhost:8080/"
        },
        "outputId": "ca4deac1-8bb2-43a7-d4f3-fc5977b63668"
      },
      "source": [
        "A_tf * X_tf"
      ],
      "execution_count": 104,
      "outputs": [
        {
          "output_type": "execute_result",
          "data": {
            "text/plain": [
              "<tf.Tensor: shape=(3, 2), dtype=int32, numpy=\n",
              "array([[675,   8],\n",
              "       [ 35, 728],\n",
              "       [ 15,  63]], dtype=int32)>"
            ]
          },
          "metadata": {
            "tags": []
          },
          "execution_count": 104
        }
      ]
    },
    {
      "cell_type": "markdown",
      "metadata": {
        "id": "FE5f-FEq6SMY"
      },
      "source": [
        "### Reduction"
      ]
    },
    {
      "cell_type": "markdown",
      "metadata": {
        "id": "WPJ9FVQF6SMY"
      },
      "source": [
        "Calculating the sum across all elements of a tensor is a common operation. For example: \n",
        "\n",
        "* For vector ***x*** of length *n*, we calculate $\\sum_{i=1}^{n} x_i$\n",
        "* For matrix ***X*** with *m* by *n* dimensions, we calculate $\\sum_{i=1}^{m} \\sum_{j=1}^{n} X_{i,j}$"
      ]
    },
    {
      "cell_type": "code",
      "metadata": {
        "id": "rXi2stvz6SMZ",
        "colab": {
          "base_uri": "https://localhost:8080/"
        },
        "outputId": "3c7007ef-2b90-4a7f-a3d2-01c0ca71261b"
      },
      "source": [
        "X"
      ],
      "execution_count": 105,
      "outputs": [
        {
          "output_type": "execute_result",
          "data": {
            "text/plain": [
              "array([[25,  2],\n",
              "       [ 5, 26],\n",
              "       [ 3,  7]])"
            ]
          },
          "metadata": {
            "tags": []
          },
          "execution_count": 105
        }
      ]
    },
    {
      "cell_type": "code",
      "metadata": {
        "id": "W9FKaJbf6SMZ",
        "colab": {
          "base_uri": "https://localhost:8080/"
        },
        "outputId": "5c6c07c3-d221-4bd7-8d0b-9ef5e44e9299"
      },
      "source": [
        "X.sum()"
      ],
      "execution_count": 106,
      "outputs": [
        {
          "output_type": "execute_result",
          "data": {
            "text/plain": [
              "68"
            ]
          },
          "metadata": {
            "tags": []
          },
          "execution_count": 106
        }
      ]
    },
    {
      "cell_type": "code",
      "metadata": {
        "id": "3y9aw7t66SMc",
        "colab": {
          "base_uri": "https://localhost:8080/"
        },
        "outputId": "19017dee-0ab1-4055-99c9-d53438838c8c"
      },
      "source": [
        "torch.sum(X_pt)"
      ],
      "execution_count": 107,
      "outputs": [
        {
          "output_type": "execute_result",
          "data": {
            "text/plain": [
              "tensor(68)"
            ]
          },
          "metadata": {
            "tags": []
          },
          "execution_count": 107
        }
      ]
    },
    {
      "cell_type": "code",
      "metadata": {
        "id": "wcjRtFml6SMb",
        "colab": {
          "base_uri": "https://localhost:8080/"
        },
        "outputId": "c60a7f81-20ac-4c3d-d386-bc225fb388fa"
      },
      "source": [
        "tf.reduce_sum(X_tf)"
      ],
      "execution_count": 108,
      "outputs": [
        {
          "output_type": "execute_result",
          "data": {
            "text/plain": [
              "<tf.Tensor: shape=(), dtype=int32, numpy=68>"
            ]
          },
          "metadata": {
            "tags": []
          },
          "execution_count": 108
        }
      ]
    },
    {
      "cell_type": "code",
      "metadata": {
        "id": "awjH9bOz6SMc",
        "colab": {
          "base_uri": "https://localhost:8080/"
        },
        "outputId": "00898051-562b-4a11-c932-d96a3e920737"
      },
      "source": [
        "# Can also be done along one specific axis alone, e.g.:\n",
        "X.sum(axis=0) # summing all rows"
      ],
      "execution_count": 109,
      "outputs": [
        {
          "output_type": "execute_result",
          "data": {
            "text/plain": [
              "array([33, 35])"
            ]
          },
          "metadata": {
            "tags": []
          },
          "execution_count": 109
        }
      ]
    },
    {
      "cell_type": "code",
      "metadata": {
        "id": "n2SASjsn6SMd",
        "colab": {
          "base_uri": "https://localhost:8080/"
        },
        "outputId": "be6e7c64-0b5a-48cc-baf6-1752ae55cf6b"
      },
      "source": [
        "X.sum(axis=1) # summing all columns"
      ],
      "execution_count": 110,
      "outputs": [
        {
          "output_type": "execute_result",
          "data": {
            "text/plain": [
              "array([27, 31, 10])"
            ]
          },
          "metadata": {
            "tags": []
          },
          "execution_count": 110
        }
      ]
    },
    {
      "cell_type": "code",
      "metadata": {
        "id": "uVnSxvSJ6SMh",
        "colab": {
          "base_uri": "https://localhost:8080/"
        },
        "outputId": "9c22c6c7-ed5b-4d09-ea4a-de9b99121332"
      },
      "source": [
        "torch.sum(X_pt, 0)"
      ],
      "execution_count": 111,
      "outputs": [
        {
          "output_type": "execute_result",
          "data": {
            "text/plain": [
              "tensor([33, 35])"
            ]
          },
          "metadata": {
            "tags": []
          },
          "execution_count": 111
        }
      ]
    },
    {
      "cell_type": "code",
      "metadata": {
        "id": "IO8drxz36SMe",
        "colab": {
          "base_uri": "https://localhost:8080/"
        },
        "outputId": "b367e57f-70b8-4193-fec4-d23de7c02ff9"
      },
      "source": [
        "tf.reduce_sum(X_tf, 1)"
      ],
      "execution_count": 112,
      "outputs": [
        {
          "output_type": "execute_result",
          "data": {
            "text/plain": [
              "<tf.Tensor: shape=(3,), dtype=int32, numpy=array([27, 31, 10], dtype=int32)>"
            ]
          },
          "metadata": {
            "tags": []
          },
          "execution_count": 112
        }
      ]
    },
    {
      "cell_type": "markdown",
      "metadata": {
        "id": "gdAe8S4A6SMj"
      },
      "source": [
        "Many other operations can be applied with reduction along all or a selection of axes, e.g.:\n",
        "\n",
        "* maximum\n",
        "* minimum\n",
        "* mean\n",
        "* product\n",
        "\n",
        "They're fairly straightforward and used less often than summation, so you're welcome to look them up in library docs if you ever need them."
      ]
    },
    {
      "cell_type": "markdown",
      "metadata": {
        "id": "r2eW8S_46SMj"
      },
      "source": [
        "### The Dot Product"
      ]
    },
    {
      "cell_type": "markdown",
      "metadata": {
        "id": "LImETgD76SMj"
      },
      "source": [
        "If we have two vectors (say, ***x*** and ***y***) with the same length *n*, we can calculate the dot product between them. This is annotated several different ways, including the following: \n",
        "\n",
        "* $x \\cdot y$\n",
        "* $x^Ty$\n",
        "* $\\langle x,y \\rangle$\n",
        "\n",
        "Regardless which notation you use (I prefer the first), the calculation is the same; we calculate products in an element-wise fashion and then sum reductively across the products to a scalar value. That is, $x \\cdot y = \\sum_{i=1}^{n} x_i y_i$\n",
        "\n",
        "The dot product is ubiquitous in deep learning: It is performed at every artificial neuron in a deep neural network, which may be made up of millions (or orders of magnitude more) of these neurons."
      ]
    },
    {
      "cell_type": "code",
      "metadata": {
        "id": "HveIE3IDcgvP",
        "colab": {
          "base_uri": "https://localhost:8080/"
        },
        "outputId": "eb3d6106-4e55-4d82-c89c-3c2f19c6ba1f"
      },
      "source": [
        "x"
      ],
      "execution_count": 113,
      "outputs": [
        {
          "output_type": "execute_result",
          "data": {
            "text/plain": [
              "array([25,  2,  5])"
            ]
          },
          "metadata": {
            "tags": []
          },
          "execution_count": 113
        }
      ]
    },
    {
      "cell_type": "code",
      "metadata": {
        "id": "3ZjkZcvVcgvQ",
        "colab": {
          "base_uri": "https://localhost:8080/"
        },
        "outputId": "8941d282-06d8-4137-eeed-571347807cb0"
      },
      "source": [
        "y = np.array([0, 1, 2])\n",
        "y"
      ],
      "execution_count": 114,
      "outputs": [
        {
          "output_type": "execute_result",
          "data": {
            "text/plain": [
              "array([0, 1, 2])"
            ]
          },
          "metadata": {
            "tags": []
          },
          "execution_count": 114
        }
      ]
    },
    {
      "cell_type": "code",
      "metadata": {
        "id": "Xu8z0QB0cgvR",
        "colab": {
          "base_uri": "https://localhost:8080/"
        },
        "outputId": "230e14e9-ccb4-4e25-f604-e5a250a31fe5"
      },
      "source": [
        "25*0 + 2*1 + 5*2"
      ],
      "execution_count": 115,
      "outputs": [
        {
          "output_type": "execute_result",
          "data": {
            "text/plain": [
              "12"
            ]
          },
          "metadata": {
            "tags": []
          },
          "execution_count": 115
        }
      ]
    },
    {
      "cell_type": "code",
      "metadata": {
        "id": "ThehRrr8cgvS",
        "colab": {
          "base_uri": "https://localhost:8080/"
        },
        "outputId": "4bc1abf1-df65-4b85-8530-2be1f8648468"
      },
      "source": [
        "np.dot(x, y)"
      ],
      "execution_count": 116,
      "outputs": [
        {
          "output_type": "execute_result",
          "data": {
            "text/plain": [
              "12"
            ]
          },
          "metadata": {
            "tags": []
          },
          "execution_count": 116
        }
      ]
    },
    {
      "cell_type": "code",
      "metadata": {
        "id": "J5Zdua4xcgvT",
        "colab": {
          "base_uri": "https://localhost:8080/"
        },
        "outputId": "8038a763-3899-4ca5-8d93-e33f156b2f24"
      },
      "source": [
        "x_pt"
      ],
      "execution_count": 117,
      "outputs": [
        {
          "output_type": "execute_result",
          "data": {
            "text/plain": [
              "tensor([25,  2,  5])"
            ]
          },
          "metadata": {
            "tags": []
          },
          "execution_count": 117
        }
      ]
    },
    {
      "cell_type": "code",
      "metadata": {
        "id": "b3vEdroXcgvU",
        "colab": {
          "base_uri": "https://localhost:8080/"
        },
        "outputId": "d3749ee2-5897-4d72-f77f-0a2e765bc306"
      },
      "source": [
        "y_pt = torch.tensor([0, 1, 2])\n",
        "y_pt"
      ],
      "execution_count": 118,
      "outputs": [
        {
          "output_type": "execute_result",
          "data": {
            "text/plain": [
              "tensor([0, 1, 2])"
            ]
          },
          "metadata": {
            "tags": []
          },
          "execution_count": 118
        }
      ]
    },
    {
      "cell_type": "code",
      "metadata": {
        "id": "F741E5imcgvV",
        "colab": {
          "base_uri": "https://localhost:8080/"
        },
        "outputId": "952cda0d-b778-418b-b323-18ee4b2824f6"
      },
      "source": [
        "np.dot(x_pt, y_pt)"
      ],
      "execution_count": 119,
      "outputs": [
        {
          "output_type": "execute_result",
          "data": {
            "text/plain": [
              "12"
            ]
          },
          "metadata": {
            "tags": []
          },
          "execution_count": 119
        }
      ]
    },
    {
      "cell_type": "code",
      "metadata": {
        "id": "-W5loHc8cgvX",
        "colab": {
          "base_uri": "https://localhost:8080/"
        },
        "outputId": "67003c30-1608-46cf-9e2b-6b24c038f559"
      },
      "source": [
        "torch.dot(torch.tensor([25, 2, 5.]), torch.tensor([0, 1, 2.]))"
      ],
      "execution_count": 120,
      "outputs": [
        {
          "output_type": "execute_result",
          "data": {
            "text/plain": [
              "tensor(12.)"
            ]
          },
          "metadata": {
            "tags": []
          },
          "execution_count": 120
        }
      ]
    },
    {
      "cell_type": "code",
      "metadata": {
        "id": "jUwKBiqzcgvY",
        "colab": {
          "base_uri": "https://localhost:8080/"
        },
        "outputId": "d154756f-650f-4109-9b8a-76d211c9b2e6"
      },
      "source": [
        "x_tf"
      ],
      "execution_count": 121,
      "outputs": [
        {
          "output_type": "execute_result",
          "data": {
            "text/plain": [
              "<tf.Variable 'Variable:0' shape=(3,) dtype=int32, numpy=array([25,  2,  5], dtype=int32)>"
            ]
          },
          "metadata": {
            "tags": []
          },
          "execution_count": 121
        }
      ]
    },
    {
      "cell_type": "code",
      "metadata": {
        "id": "Xqt3Rac7cgvZ",
        "colab": {
          "base_uri": "https://localhost:8080/"
        },
        "outputId": "aaf7be4f-27b4-4413-d45f-cd009a057cad"
      },
      "source": [
        "y_tf = tf.Variable([0, 1, 2])\n",
        "y_tf"
      ],
      "execution_count": 122,
      "outputs": [
        {
          "output_type": "execute_result",
          "data": {
            "text/plain": [
              "<tf.Variable 'Variable:0' shape=(3,) dtype=int32, numpy=array([0, 1, 2], dtype=int32)>"
            ]
          },
          "metadata": {
            "tags": []
          },
          "execution_count": 122
        }
      ]
    },
    {
      "cell_type": "code",
      "metadata": {
        "id": "x4pgc5JEcgvc",
        "colab": {
          "base_uri": "https://localhost:8080/"
        },
        "outputId": "7fdb1d9e-bf9d-42a6-c0ba-d7036ed9a84f"
      },
      "source": [
        "tf.reduce_sum(tf.multiply(x_tf, y_tf))"
      ],
      "execution_count": 123,
      "outputs": [
        {
          "output_type": "execute_result",
          "data": {
            "text/plain": [
              "<tf.Tensor: shape=(), dtype=int32, numpy=12>"
            ]
          },
          "metadata": {
            "tags": []
          },
          "execution_count": 123
        }
      ]
    },
    {
      "cell_type": "markdown",
      "metadata": {
        "id": "mSmvC1cc6SMj"
      },
      "source": [
        "**Return to slides here.**"
      ]
    },
    {
      "cell_type": "markdown",
      "metadata": {
        "id": "9dfTV7hQR6zn"
      },
      "source": [
        "### Solving Linear Systems"
      ]
    },
    {
      "cell_type": "markdown",
      "metadata": {
        "id": "pCoSpqtWSyFd"
      },
      "source": [
        "In the **Substitution** example, the two equations in the system are: \n",
        "$$ y = 3x $$\n",
        "$$ -5x + 2y = 2 $$\n",
        "\n",
        "The second equation can be rearranged to isolate $y$: \n",
        "$$ 2y = 2 + 5x $$\n",
        "$$ y = \\frac{2 + 5x}{2} = 1 + \\frac{5x}{2} $$"
      ]
    },
    {
      "cell_type": "code",
      "metadata": {
        "id": "1T0_m11kTh82"
      },
      "source": [
        "x = np.linspace(-10, 10, 1000) # start, finish, n points"
      ],
      "execution_count": 124,
      "outputs": []
    },
    {
      "cell_type": "code",
      "metadata": {
        "colab": {
          "base_uri": "https://localhost:8080/"
        },
        "id": "3bczxQ8ikecB",
        "outputId": "9a4d8598-a7fe-4659-f622-84dd8e55d877"
      },
      "source": [
        "x"
      ],
      "execution_count": 125,
      "outputs": [
        {
          "output_type": "execute_result",
          "data": {
            "text/plain": [
              "array([-10.        ,  -9.97997998,  -9.95995996,  -9.93993994,\n",
              "        -9.91991992,  -9.8998999 ,  -9.87987988,  -9.85985986,\n",
              "        -9.83983984,  -9.81981982,  -9.7997998 ,  -9.77977978,\n",
              "        -9.75975976,  -9.73973974,  -9.71971972,  -9.6996997 ,\n",
              "        -9.67967968,  -9.65965966,  -9.63963964,  -9.61961962,\n",
              "        -9.5995996 ,  -9.57957958,  -9.55955956,  -9.53953954,\n",
              "        -9.51951952,  -9.4994995 ,  -9.47947948,  -9.45945946,\n",
              "        -9.43943944,  -9.41941942,  -9.3993994 ,  -9.37937938,\n",
              "        -9.35935936,  -9.33933934,  -9.31931932,  -9.2992993 ,\n",
              "        -9.27927928,  -9.25925926,  -9.23923924,  -9.21921922,\n",
              "        -9.1991992 ,  -9.17917918,  -9.15915916,  -9.13913914,\n",
              "        -9.11911912,  -9.0990991 ,  -9.07907908,  -9.05905906,\n",
              "        -9.03903904,  -9.01901902,  -8.998999  ,  -8.97897898,\n",
              "        -8.95895896,  -8.93893894,  -8.91891892,  -8.8988989 ,\n",
              "        -8.87887888,  -8.85885886,  -8.83883884,  -8.81881882,\n",
              "        -8.7987988 ,  -8.77877878,  -8.75875876,  -8.73873874,\n",
              "        -8.71871872,  -8.6986987 ,  -8.67867868,  -8.65865866,\n",
              "        -8.63863864,  -8.61861862,  -8.5985986 ,  -8.57857858,\n",
              "        -8.55855856,  -8.53853854,  -8.51851852,  -8.4984985 ,\n",
              "        -8.47847848,  -8.45845846,  -8.43843844,  -8.41841842,\n",
              "        -8.3983984 ,  -8.37837838,  -8.35835836,  -8.33833834,\n",
              "        -8.31831832,  -8.2982983 ,  -8.27827828,  -8.25825826,\n",
              "        -8.23823824,  -8.21821822,  -8.1981982 ,  -8.17817818,\n",
              "        -8.15815816,  -8.13813814,  -8.11811812,  -8.0980981 ,\n",
              "        -8.07807808,  -8.05805806,  -8.03803804,  -8.01801802,\n",
              "        -7.997998  ,  -7.97797798,  -7.95795796,  -7.93793794,\n",
              "        -7.91791792,  -7.8978979 ,  -7.87787788,  -7.85785786,\n",
              "        -7.83783784,  -7.81781782,  -7.7977978 ,  -7.77777778,\n",
              "        -7.75775776,  -7.73773774,  -7.71771772,  -7.6976977 ,\n",
              "        -7.67767768,  -7.65765766,  -7.63763764,  -7.61761762,\n",
              "        -7.5975976 ,  -7.57757758,  -7.55755756,  -7.53753754,\n",
              "        -7.51751752,  -7.4974975 ,  -7.47747748,  -7.45745746,\n",
              "        -7.43743744,  -7.41741742,  -7.3973974 ,  -7.37737738,\n",
              "        -7.35735736,  -7.33733734,  -7.31731732,  -7.2972973 ,\n",
              "        -7.27727728,  -7.25725726,  -7.23723724,  -7.21721722,\n",
              "        -7.1971972 ,  -7.17717718,  -7.15715716,  -7.13713714,\n",
              "        -7.11711712,  -7.0970971 ,  -7.07707708,  -7.05705706,\n",
              "        -7.03703704,  -7.01701702,  -6.996997  ,  -6.97697698,\n",
              "        -6.95695696,  -6.93693694,  -6.91691692,  -6.8968969 ,\n",
              "        -6.87687688,  -6.85685686,  -6.83683684,  -6.81681682,\n",
              "        -6.7967968 ,  -6.77677678,  -6.75675676,  -6.73673674,\n",
              "        -6.71671672,  -6.6966967 ,  -6.67667668,  -6.65665666,\n",
              "        -6.63663664,  -6.61661662,  -6.5965966 ,  -6.57657658,\n",
              "        -6.55655656,  -6.53653654,  -6.51651652,  -6.4964965 ,\n",
              "        -6.47647648,  -6.45645646,  -6.43643644,  -6.41641642,\n",
              "        -6.3963964 ,  -6.37637638,  -6.35635636,  -6.33633634,\n",
              "        -6.31631632,  -6.2962963 ,  -6.27627628,  -6.25625626,\n",
              "        -6.23623624,  -6.21621622,  -6.1961962 ,  -6.17617618,\n",
              "        -6.15615616,  -6.13613614,  -6.11611612,  -6.0960961 ,\n",
              "        -6.07607608,  -6.05605606,  -6.03603604,  -6.01601602,\n",
              "        -5.995996  ,  -5.97597598,  -5.95595596,  -5.93593594,\n",
              "        -5.91591592,  -5.8958959 ,  -5.87587588,  -5.85585586,\n",
              "        -5.83583584,  -5.81581582,  -5.7957958 ,  -5.77577578,\n",
              "        -5.75575576,  -5.73573574,  -5.71571572,  -5.6956957 ,\n",
              "        -5.67567568,  -5.65565566,  -5.63563564,  -5.61561562,\n",
              "        -5.5955956 ,  -5.57557558,  -5.55555556,  -5.53553554,\n",
              "        -5.51551552,  -5.4954955 ,  -5.47547548,  -5.45545546,\n",
              "        -5.43543544,  -5.41541542,  -5.3953954 ,  -5.37537538,\n",
              "        -5.35535536,  -5.33533534,  -5.31531532,  -5.2952953 ,\n",
              "        -5.27527528,  -5.25525526,  -5.23523524,  -5.21521522,\n",
              "        -5.1951952 ,  -5.17517518,  -5.15515516,  -5.13513514,\n",
              "        -5.11511512,  -5.0950951 ,  -5.07507508,  -5.05505506,\n",
              "        -5.03503504,  -5.01501502,  -4.99499499,  -4.97497497,\n",
              "        -4.95495495,  -4.93493493,  -4.91491491,  -4.89489489,\n",
              "        -4.87487487,  -4.85485485,  -4.83483483,  -4.81481481,\n",
              "        -4.79479479,  -4.77477477,  -4.75475475,  -4.73473473,\n",
              "        -4.71471471,  -4.69469469,  -4.67467467,  -4.65465465,\n",
              "        -4.63463463,  -4.61461461,  -4.59459459,  -4.57457457,\n",
              "        -4.55455455,  -4.53453453,  -4.51451451,  -4.49449449,\n",
              "        -4.47447447,  -4.45445445,  -4.43443443,  -4.41441441,\n",
              "        -4.39439439,  -4.37437437,  -4.35435435,  -4.33433433,\n",
              "        -4.31431431,  -4.29429429,  -4.27427427,  -4.25425425,\n",
              "        -4.23423423,  -4.21421421,  -4.19419419,  -4.17417417,\n",
              "        -4.15415415,  -4.13413413,  -4.11411411,  -4.09409409,\n",
              "        -4.07407407,  -4.05405405,  -4.03403403,  -4.01401401,\n",
              "        -3.99399399,  -3.97397397,  -3.95395395,  -3.93393393,\n",
              "        -3.91391391,  -3.89389389,  -3.87387387,  -3.85385385,\n",
              "        -3.83383383,  -3.81381381,  -3.79379379,  -3.77377377,\n",
              "        -3.75375375,  -3.73373373,  -3.71371371,  -3.69369369,\n",
              "        -3.67367367,  -3.65365365,  -3.63363363,  -3.61361361,\n",
              "        -3.59359359,  -3.57357357,  -3.55355355,  -3.53353353,\n",
              "        -3.51351351,  -3.49349349,  -3.47347347,  -3.45345345,\n",
              "        -3.43343343,  -3.41341341,  -3.39339339,  -3.37337337,\n",
              "        -3.35335335,  -3.33333333,  -3.31331331,  -3.29329329,\n",
              "        -3.27327327,  -3.25325325,  -3.23323323,  -3.21321321,\n",
              "        -3.19319319,  -3.17317317,  -3.15315315,  -3.13313313,\n",
              "        -3.11311311,  -3.09309309,  -3.07307307,  -3.05305305,\n",
              "        -3.03303303,  -3.01301301,  -2.99299299,  -2.97297297,\n",
              "        -2.95295295,  -2.93293293,  -2.91291291,  -2.89289289,\n",
              "        -2.87287287,  -2.85285285,  -2.83283283,  -2.81281281,\n",
              "        -2.79279279,  -2.77277277,  -2.75275275,  -2.73273273,\n",
              "        -2.71271271,  -2.69269269,  -2.67267267,  -2.65265265,\n",
              "        -2.63263263,  -2.61261261,  -2.59259259,  -2.57257257,\n",
              "        -2.55255255,  -2.53253253,  -2.51251251,  -2.49249249,\n",
              "        -2.47247247,  -2.45245245,  -2.43243243,  -2.41241241,\n",
              "        -2.39239239,  -2.37237237,  -2.35235235,  -2.33233233,\n",
              "        -2.31231231,  -2.29229229,  -2.27227227,  -2.25225225,\n",
              "        -2.23223223,  -2.21221221,  -2.19219219,  -2.17217217,\n",
              "        -2.15215215,  -2.13213213,  -2.11211211,  -2.09209209,\n",
              "        -2.07207207,  -2.05205205,  -2.03203203,  -2.01201201,\n",
              "        -1.99199199,  -1.97197197,  -1.95195195,  -1.93193193,\n",
              "        -1.91191191,  -1.89189189,  -1.87187187,  -1.85185185,\n",
              "        -1.83183183,  -1.81181181,  -1.79179179,  -1.77177177,\n",
              "        -1.75175175,  -1.73173173,  -1.71171171,  -1.69169169,\n",
              "        -1.67167167,  -1.65165165,  -1.63163163,  -1.61161161,\n",
              "        -1.59159159,  -1.57157157,  -1.55155155,  -1.53153153,\n",
              "        -1.51151151,  -1.49149149,  -1.47147147,  -1.45145145,\n",
              "        -1.43143143,  -1.41141141,  -1.39139139,  -1.37137137,\n",
              "        -1.35135135,  -1.33133133,  -1.31131131,  -1.29129129,\n",
              "        -1.27127127,  -1.25125125,  -1.23123123,  -1.21121121,\n",
              "        -1.19119119,  -1.17117117,  -1.15115115,  -1.13113113,\n",
              "        -1.11111111,  -1.09109109,  -1.07107107,  -1.05105105,\n",
              "        -1.03103103,  -1.01101101,  -0.99099099,  -0.97097097,\n",
              "        -0.95095095,  -0.93093093,  -0.91091091,  -0.89089089,\n",
              "        -0.87087087,  -0.85085085,  -0.83083083,  -0.81081081,\n",
              "        -0.79079079,  -0.77077077,  -0.75075075,  -0.73073073,\n",
              "        -0.71071071,  -0.69069069,  -0.67067067,  -0.65065065,\n",
              "        -0.63063063,  -0.61061061,  -0.59059059,  -0.57057057,\n",
              "        -0.55055055,  -0.53053053,  -0.51051051,  -0.49049049,\n",
              "        -0.47047047,  -0.45045045,  -0.43043043,  -0.41041041,\n",
              "        -0.39039039,  -0.37037037,  -0.35035035,  -0.33033033,\n",
              "        -0.31031031,  -0.29029029,  -0.27027027,  -0.25025025,\n",
              "        -0.23023023,  -0.21021021,  -0.19019019,  -0.17017017,\n",
              "        -0.15015015,  -0.13013013,  -0.11011011,  -0.09009009,\n",
              "        -0.07007007,  -0.05005005,  -0.03003003,  -0.01001001,\n",
              "         0.01001001,   0.03003003,   0.05005005,   0.07007007,\n",
              "         0.09009009,   0.11011011,   0.13013013,   0.15015015,\n",
              "         0.17017017,   0.19019019,   0.21021021,   0.23023023,\n",
              "         0.25025025,   0.27027027,   0.29029029,   0.31031031,\n",
              "         0.33033033,   0.35035035,   0.37037037,   0.39039039,\n",
              "         0.41041041,   0.43043043,   0.45045045,   0.47047047,\n",
              "         0.49049049,   0.51051051,   0.53053053,   0.55055055,\n",
              "         0.57057057,   0.59059059,   0.61061061,   0.63063063,\n",
              "         0.65065065,   0.67067067,   0.69069069,   0.71071071,\n",
              "         0.73073073,   0.75075075,   0.77077077,   0.79079079,\n",
              "         0.81081081,   0.83083083,   0.85085085,   0.87087087,\n",
              "         0.89089089,   0.91091091,   0.93093093,   0.95095095,\n",
              "         0.97097097,   0.99099099,   1.01101101,   1.03103103,\n",
              "         1.05105105,   1.07107107,   1.09109109,   1.11111111,\n",
              "         1.13113113,   1.15115115,   1.17117117,   1.19119119,\n",
              "         1.21121121,   1.23123123,   1.25125125,   1.27127127,\n",
              "         1.29129129,   1.31131131,   1.33133133,   1.35135135,\n",
              "         1.37137137,   1.39139139,   1.41141141,   1.43143143,\n",
              "         1.45145145,   1.47147147,   1.49149149,   1.51151151,\n",
              "         1.53153153,   1.55155155,   1.57157157,   1.59159159,\n",
              "         1.61161161,   1.63163163,   1.65165165,   1.67167167,\n",
              "         1.69169169,   1.71171171,   1.73173173,   1.75175175,\n",
              "         1.77177177,   1.79179179,   1.81181181,   1.83183183,\n",
              "         1.85185185,   1.87187187,   1.89189189,   1.91191191,\n",
              "         1.93193193,   1.95195195,   1.97197197,   1.99199199,\n",
              "         2.01201201,   2.03203203,   2.05205205,   2.07207207,\n",
              "         2.09209209,   2.11211211,   2.13213213,   2.15215215,\n",
              "         2.17217217,   2.19219219,   2.21221221,   2.23223223,\n",
              "         2.25225225,   2.27227227,   2.29229229,   2.31231231,\n",
              "         2.33233233,   2.35235235,   2.37237237,   2.39239239,\n",
              "         2.41241241,   2.43243243,   2.45245245,   2.47247247,\n",
              "         2.49249249,   2.51251251,   2.53253253,   2.55255255,\n",
              "         2.57257257,   2.59259259,   2.61261261,   2.63263263,\n",
              "         2.65265265,   2.67267267,   2.69269269,   2.71271271,\n",
              "         2.73273273,   2.75275275,   2.77277277,   2.79279279,\n",
              "         2.81281281,   2.83283283,   2.85285285,   2.87287287,\n",
              "         2.89289289,   2.91291291,   2.93293293,   2.95295295,\n",
              "         2.97297297,   2.99299299,   3.01301301,   3.03303303,\n",
              "         3.05305305,   3.07307307,   3.09309309,   3.11311311,\n",
              "         3.13313313,   3.15315315,   3.17317317,   3.19319319,\n",
              "         3.21321321,   3.23323323,   3.25325325,   3.27327327,\n",
              "         3.29329329,   3.31331331,   3.33333333,   3.35335335,\n",
              "         3.37337337,   3.39339339,   3.41341341,   3.43343343,\n",
              "         3.45345345,   3.47347347,   3.49349349,   3.51351351,\n",
              "         3.53353353,   3.55355355,   3.57357357,   3.59359359,\n",
              "         3.61361361,   3.63363363,   3.65365365,   3.67367367,\n",
              "         3.69369369,   3.71371371,   3.73373373,   3.75375375,\n",
              "         3.77377377,   3.79379379,   3.81381381,   3.83383383,\n",
              "         3.85385385,   3.87387387,   3.89389389,   3.91391391,\n",
              "         3.93393393,   3.95395395,   3.97397397,   3.99399399,\n",
              "         4.01401401,   4.03403403,   4.05405405,   4.07407407,\n",
              "         4.09409409,   4.11411411,   4.13413413,   4.15415415,\n",
              "         4.17417417,   4.19419419,   4.21421421,   4.23423423,\n",
              "         4.25425425,   4.27427427,   4.29429429,   4.31431431,\n",
              "         4.33433433,   4.35435435,   4.37437437,   4.39439439,\n",
              "         4.41441441,   4.43443443,   4.45445445,   4.47447447,\n",
              "         4.49449449,   4.51451451,   4.53453453,   4.55455455,\n",
              "         4.57457457,   4.59459459,   4.61461461,   4.63463463,\n",
              "         4.65465465,   4.67467467,   4.69469469,   4.71471471,\n",
              "         4.73473473,   4.75475475,   4.77477477,   4.79479479,\n",
              "         4.81481481,   4.83483483,   4.85485485,   4.87487487,\n",
              "         4.89489489,   4.91491491,   4.93493493,   4.95495495,\n",
              "         4.97497497,   4.99499499,   5.01501502,   5.03503504,\n",
              "         5.05505506,   5.07507508,   5.0950951 ,   5.11511512,\n",
              "         5.13513514,   5.15515516,   5.17517518,   5.1951952 ,\n",
              "         5.21521522,   5.23523524,   5.25525526,   5.27527528,\n",
              "         5.2952953 ,   5.31531532,   5.33533534,   5.35535536,\n",
              "         5.37537538,   5.3953954 ,   5.41541542,   5.43543544,\n",
              "         5.45545546,   5.47547548,   5.4954955 ,   5.51551552,\n",
              "         5.53553554,   5.55555556,   5.57557558,   5.5955956 ,\n",
              "         5.61561562,   5.63563564,   5.65565566,   5.67567568,\n",
              "         5.6956957 ,   5.71571572,   5.73573574,   5.75575576,\n",
              "         5.77577578,   5.7957958 ,   5.81581582,   5.83583584,\n",
              "         5.85585586,   5.87587588,   5.8958959 ,   5.91591592,\n",
              "         5.93593594,   5.95595596,   5.97597598,   5.995996  ,\n",
              "         6.01601602,   6.03603604,   6.05605606,   6.07607608,\n",
              "         6.0960961 ,   6.11611612,   6.13613614,   6.15615616,\n",
              "         6.17617618,   6.1961962 ,   6.21621622,   6.23623624,\n",
              "         6.25625626,   6.27627628,   6.2962963 ,   6.31631632,\n",
              "         6.33633634,   6.35635636,   6.37637638,   6.3963964 ,\n",
              "         6.41641642,   6.43643644,   6.45645646,   6.47647648,\n",
              "         6.4964965 ,   6.51651652,   6.53653654,   6.55655656,\n",
              "         6.57657658,   6.5965966 ,   6.61661662,   6.63663664,\n",
              "         6.65665666,   6.67667668,   6.6966967 ,   6.71671672,\n",
              "         6.73673674,   6.75675676,   6.77677678,   6.7967968 ,\n",
              "         6.81681682,   6.83683684,   6.85685686,   6.87687688,\n",
              "         6.8968969 ,   6.91691692,   6.93693694,   6.95695696,\n",
              "         6.97697698,   6.996997  ,   7.01701702,   7.03703704,\n",
              "         7.05705706,   7.07707708,   7.0970971 ,   7.11711712,\n",
              "         7.13713714,   7.15715716,   7.17717718,   7.1971972 ,\n",
              "         7.21721722,   7.23723724,   7.25725726,   7.27727728,\n",
              "         7.2972973 ,   7.31731732,   7.33733734,   7.35735736,\n",
              "         7.37737738,   7.3973974 ,   7.41741742,   7.43743744,\n",
              "         7.45745746,   7.47747748,   7.4974975 ,   7.51751752,\n",
              "         7.53753754,   7.55755756,   7.57757758,   7.5975976 ,\n",
              "         7.61761762,   7.63763764,   7.65765766,   7.67767768,\n",
              "         7.6976977 ,   7.71771772,   7.73773774,   7.75775776,\n",
              "         7.77777778,   7.7977978 ,   7.81781782,   7.83783784,\n",
              "         7.85785786,   7.87787788,   7.8978979 ,   7.91791792,\n",
              "         7.93793794,   7.95795796,   7.97797798,   7.997998  ,\n",
              "         8.01801802,   8.03803804,   8.05805806,   8.07807808,\n",
              "         8.0980981 ,   8.11811812,   8.13813814,   8.15815816,\n",
              "         8.17817818,   8.1981982 ,   8.21821822,   8.23823824,\n",
              "         8.25825826,   8.27827828,   8.2982983 ,   8.31831832,\n",
              "         8.33833834,   8.35835836,   8.37837838,   8.3983984 ,\n",
              "         8.41841842,   8.43843844,   8.45845846,   8.47847848,\n",
              "         8.4984985 ,   8.51851852,   8.53853854,   8.55855856,\n",
              "         8.57857858,   8.5985986 ,   8.61861862,   8.63863864,\n",
              "         8.65865866,   8.67867868,   8.6986987 ,   8.71871872,\n",
              "         8.73873874,   8.75875876,   8.77877878,   8.7987988 ,\n",
              "         8.81881882,   8.83883884,   8.85885886,   8.87887888,\n",
              "         8.8988989 ,   8.91891892,   8.93893894,   8.95895896,\n",
              "         8.97897898,   8.998999  ,   9.01901902,   9.03903904,\n",
              "         9.05905906,   9.07907908,   9.0990991 ,   9.11911912,\n",
              "         9.13913914,   9.15915916,   9.17917918,   9.1991992 ,\n",
              "         9.21921922,   9.23923924,   9.25925926,   9.27927928,\n",
              "         9.2992993 ,   9.31931932,   9.33933934,   9.35935936,\n",
              "         9.37937938,   9.3993994 ,   9.41941942,   9.43943944,\n",
              "         9.45945946,   9.47947948,   9.4994995 ,   9.51951952,\n",
              "         9.53953954,   9.55955956,   9.57957958,   9.5995996 ,\n",
              "         9.61961962,   9.63963964,   9.65965966,   9.67967968,\n",
              "         9.6996997 ,   9.71971972,   9.73973974,   9.75975976,\n",
              "         9.77977978,   9.7997998 ,   9.81981982,   9.83983984,\n",
              "         9.85985986,   9.87987988,   9.8998999 ,   9.91991992,\n",
              "         9.93993994,   9.95995996,   9.97997998,  10.        ])"
            ]
          },
          "metadata": {
            "tags": []
          },
          "execution_count": 125
        }
      ]
    },
    {
      "cell_type": "code",
      "metadata": {
        "id": "_K6IyUWcTh85"
      },
      "source": [
        "y1 = 3 * x"
      ],
      "execution_count": 126,
      "outputs": []
    },
    {
      "cell_type": "code",
      "metadata": {
        "id": "DYkQdUJ5Th86"
      },
      "source": [
        "y2 = 1 + (5*x)/2"
      ],
      "execution_count": 127,
      "outputs": []
    },
    {
      "cell_type": "code",
      "metadata": {
        "colab": {
          "base_uri": "https://localhost:8080/",
          "height": 283
        },
        "id": "aBL9NDoHTh86",
        "outputId": "422425f6-9446-4990-be61-a62c96f4ec15"
      },
      "source": [
        "fig, ax = plt.subplots()\n",
        "plt.xlabel('x')\n",
        "plt.ylabel('y')\n",
        "ax.set_xlim([0, 3])\n",
        "ax.set_ylim([0, 8])\n",
        "ax.plot(x, y1, c='green')\n",
        "ax.plot(x, y2, c='brown')\n",
        "plt.axvline(x=2, color='purple', linestyle='--')\n",
        "_ = plt.axhline(y=6, color='purple', linestyle='--')"
      ],
      "execution_count": 128,
      "outputs": [
        {
          "output_type": "display_data",
          "data": {
            "image/png": "[encoded data removed]",
            "text/plain": [
              "<Figure size 432x288 with 1 Axes>"
            ]
          },
          "metadata": {
            "tags": [],
            "needs_background": "light"
          }
        }
      ]
    },
    {
      "cell_type": "markdown",
      "metadata": {
        "id": "F3X4p66XVFXH"
      },
      "source": [
        "In the **Elimination** example, the two equations in the system are:\n",
        "$$ 2x - 3y = 15 $$\n",
        "$$ 4x + 10y = 14 $$\n",
        "\n",
        "Both equations can be rearranged to isolate $y$. Starting with the first equation: \n",
        "$$ -3y = 15 - 2x $$\n",
        "$$ y = \\frac{15 - 2x}{-3} = -5 + \\frac{2x}{3} $$\n",
        "\n",
        "Then for the second equation: \n",
        "$$ 4x + 10y = 14 $$\n",
        "$$ 2x + 5y = 7 $$\n",
        "$$ 5y = 7 - 2x $$\n",
        "$$ y = \\frac{7 - 2x}{5} $$"
      ]
    },
    {
      "cell_type": "code",
      "metadata": {
        "id": "5x3kfV_WWhlR"
      },
      "source": [
        "y1 = -5 + (2*x)/3"
      ],
      "execution_count": null,
      "outputs": []
    },
    {
      "cell_type": "code",
      "metadata": {
        "id": "dqA1lS0CWu5z"
      },
      "source": [
        "y2 = (7-2*x)/5"
      ],
      "execution_count": 129,
      "outputs": []
    },
    {
      "cell_type": "code",
      "metadata": {
        "id": "6CfRNs1DWzx5",
        "colab": {
          "base_uri": "https://localhost:8080/",
          "height": 283
        },
        "outputId": "63364289-13d7-46c1-a329-d1fc6f15f899"
      },
      "source": [
        "fig, ax = plt.subplots()\n",
        "plt.xlabel('x')\n",
        "plt.ylabel('y')\n",
        "\n",
        "# Add x and y axes: \n",
        "plt.axvline(x=0, color='lightgray')\n",
        "plt.axhline(y=0, color='lightgray')\n",
        "\n",
        "ax.set_xlim([-2, 10])\n",
        "ax.set_ylim([-6, 4])\n",
        "ax.plot(x, y1, c='green')\n",
        "ax.plot(x, y2, c='brown')\n",
        "plt.axvline(x=6, color='purple', linestyle='--')\n",
        "_ = plt.axhline(y=-1, color='purple', linestyle='--')"
      ],
      "execution_count": 130,
      "outputs": [
        {
          "output_type": "display_data",
          "data": {
            "image/png": "[encoded data removed]",
            "text/plain": [
              "<Figure size 432x288 with 1 Axes>"
            ]
          },
          "metadata": {
            "tags": [],
            "needs_background": "light"
          }
        }
      ]
    },
    {
      "cell_type": "markdown",
      "metadata": {
        "id": "bYDhomCP6SMj"
      },
      "source": [
        "## Segment 3: Matrix Properties"
      ]
    },
    {
      "cell_type": "markdown",
      "metadata": {
        "id": "-HGU_an66SMk"
      },
      "source": [
        "### Frobenius Norm"
      ]
    },
    {
      "cell_type": "code",
      "metadata": {
        "id": "pNQHvAqN6SMk",
        "colab": {
          "base_uri": "https://localhost:8080/"
        },
        "outputId": "0f004ad4-327b-4ee8-84d0-a802feed8f63"
      },
      "source": [
        "X = np.array([[1, 2], [3, 4]])\n",
        "X"
      ],
      "execution_count": 131,
      "outputs": [
        {
          "output_type": "execute_result",
          "data": {
            "text/plain": [
              "array([[1, 2],\n",
              "       [3, 4]])"
            ]
          },
          "metadata": {
            "tags": []
          },
          "execution_count": 131
        }
      ]
    },
    {
      "cell_type": "code",
      "metadata": {
        "id": "T-q-Tzn26SMm",
        "colab": {
          "base_uri": "https://localhost:8080/"
        },
        "outputId": "c3715c28-bfe5-4b3a-9573-95c9dcbfe4bd"
      },
      "source": [
        "(1**2 + 2**2 + 3**2 + 4**2)**(1/2)"
      ],
      "execution_count": 132,
      "outputs": [
        {
          "output_type": "execute_result",
          "data": {
            "text/plain": [
              "5.477225575051661"
            ]
          },
          "metadata": {
            "tags": []
          },
          "execution_count": 132
        }
      ]
    },
    {
      "cell_type": "code",
      "metadata": {
        "id": "YVG8qiFw6SMn",
        "colab": {
          "base_uri": "https://localhost:8080/"
        },
        "outputId": "09893c1b-679a-4c20-e177-2c0dd693a951"
      },
      "source": [
        "np.linalg.norm(X) # same function as for vector L2 norm"
      ],
      "execution_count": 133,
      "outputs": [
        {
          "output_type": "execute_result",
          "data": {
            "text/plain": [
              "5.477225575051661"
            ]
          },
          "metadata": {
            "tags": []
          },
          "execution_count": 133
        }
      ]
    },
    {
      "cell_type": "code",
      "metadata": {
        "id": "FPnBflKVxyik"
      },
      "source": [
        "X_pt = torch.tensor([[1, 2], [3, 4.]]) # torch.norm() supports floats only"
      ],
      "execution_count": 134,
      "outputs": []
    },
    {
      "cell_type": "code",
      "metadata": {
        "id": "NCdTShVyx8z0",
        "colab": {
          "base_uri": "https://localhost:8080/"
        },
        "outputId": "3047919f-4d64-4e20-f45f-48e9c35faa30"
      },
      "source": [
        "torch.norm(X_pt)"
      ],
      "execution_count": 135,
      "outputs": [
        {
          "output_type": "execute_result",
          "data": {
            "text/plain": [
              "tensor(5.4772)"
            ]
          },
          "metadata": {
            "tags": []
          },
          "execution_count": 135
        }
      ]
    },
    {
      "cell_type": "code",
      "metadata": {
        "id": "blezf9fLx_nD"
      },
      "source": [
        "X_tf = tf.Variable([[1, 2], [3, 4.]]) # tf.norm() also supports floats only"
      ],
      "execution_count": 136,
      "outputs": []
    },
    {
      "cell_type": "code",
      "metadata": {
        "id": "LiCQzyf6ySCZ",
        "colab": {
          "base_uri": "https://localhost:8080/"
        },
        "outputId": "217c2bd6-c80f-46a0-8a56-a7ee0b7403f5"
      },
      "source": [
        "tf.norm(X_tf)"
      ],
      "execution_count": 137,
      "outputs": [
        {
          "output_type": "execute_result",
          "data": {
            "text/plain": [
              "<tf.Tensor: shape=(), dtype=float32, numpy=5.477226>"
            ]
          },
          "metadata": {
            "tags": []
          },
          "execution_count": 137
        }
      ]
    },
    {
      "cell_type": "markdown",
      "metadata": {
        "id": "4c6rjVAf6SMo"
      },
      "source": [
        "**Return to slides here.**"
      ]
    },
    {
      "cell_type": "markdown",
      "metadata": {
        "id": "OLN-MMIe6SMo"
      },
      "source": [
        "### Matrix Multiplication (with a Vector)"
      ]
    },
    {
      "cell_type": "code",
      "metadata": {
        "id": "XJw0j8cr6SMo",
        "colab": {
          "base_uri": "https://localhost:8080/"
        },
        "outputId": "331cc541-d572-40b4-a02b-91f465a769b8"
      },
      "source": [
        "A = np.array([[3, 4], [5, 6], [7, 8]])\n",
        "A"
      ],
      "execution_count": 138,
      "outputs": [
        {
          "output_type": "execute_result",
          "data": {
            "text/plain": [
              "array([[3, 4],\n",
              "       [5, 6],\n",
              "       [7, 8]])"
            ]
          },
          "metadata": {
            "tags": []
          },
          "execution_count": 138
        }
      ]
    },
    {
      "cell_type": "code",
      "metadata": {
        "id": "zZQ1Aupc6SMq",
        "colab": {
          "base_uri": "https://localhost:8080/"
        },
        "outputId": "70e70160-6d26-43c5-af8e-7fe3d031826d"
      },
      "source": [
        "b = np.array([1, 2])\n",
        "b"
      ],
      "execution_count": 139,
      "outputs": [
        {
          "output_type": "execute_result",
          "data": {
            "text/plain": [
              "array([1, 2])"
            ]
          },
          "metadata": {
            "tags": []
          },
          "execution_count": 139
        }
      ]
    },
    {
      "cell_type": "code",
      "metadata": {
        "id": "ZbeVtNyW6SMq",
        "colab": {
          "base_uri": "https://localhost:8080/"
        },
        "outputId": "4a4d1e9b-10b8-4be6-811e-092d0f3e6b09"
      },
      "source": [
        "np.dot(A, b) # even though technically dot products are between vectors only"
      ],
      "execution_count": 140,
      "outputs": [
        {
          "output_type": "execute_result",
          "data": {
            "text/plain": [
              "array([11, 17, 23])"
            ]
          },
          "metadata": {
            "tags": []
          },
          "execution_count": 140
        }
      ]
    },
    {
      "cell_type": "code",
      "metadata": {
        "id": "srVI55X96SMu",
        "colab": {
          "base_uri": "https://localhost:8080/"
        },
        "outputId": "351ac202-aa10-4aa8-edbf-2f03e96a8a9a"
      },
      "source": [
        "A_pt = torch.tensor([[3, 4], [5, 6], [7, 8]])\n",
        "A_pt"
      ],
      "execution_count": 141,
      "outputs": [
        {
          "output_type": "execute_result",
          "data": {
            "text/plain": [
              "tensor([[3, 4],\n",
              "        [5, 6],\n",
              "        [7, 8]])"
            ]
          },
          "metadata": {
            "tags": []
          },
          "execution_count": 141
        }
      ]
    },
    {
      "cell_type": "code",
      "metadata": {
        "id": "5SDn71Xc6SMv",
        "colab": {
          "base_uri": "https://localhost:8080/"
        },
        "outputId": "e78ba9ad-2feb-4157-98b2-8d8de020dfee"
      },
      "source": [
        "b_pt = torch.tensor([1, 2])\n",
        "b_pt"
      ],
      "execution_count": 142,
      "outputs": [
        {
          "output_type": "execute_result",
          "data": {
            "text/plain": [
              "tensor([1, 2])"
            ]
          },
          "metadata": {
            "tags": []
          },
          "execution_count": 142
        }
      ]
    },
    {
      "cell_type": "code",
      "metadata": {
        "id": "OIeoJlsh6SMx",
        "colab": {
          "base_uri": "https://localhost:8080/"
        },
        "outputId": "ab564df5-dbc0-48a7-b54e-9c536d80f9fa"
      },
      "source": [
        "torch.matmul(A_pt, b_pt) # like np.dot(), automatically infers dims in order to perform dot product, matvec, or matrix multiplication"
      ],
      "execution_count": 143,
      "outputs": [
        {
          "output_type": "execute_result",
          "data": {
            "text/plain": [
              "tensor([11, 17, 23])"
            ]
          },
          "metadata": {
            "tags": []
          },
          "execution_count": 143
        }
      ]
    },
    {
      "cell_type": "code",
      "metadata": {
        "id": "pnob9GkB6SMs",
        "colab": {
          "base_uri": "https://localhost:8080/"
        },
        "outputId": "4dbc8c3f-9d26-4016-afd6-4e3333bd988c"
      },
      "source": [
        "A_tf = tf.Variable([[3, 4], [5, 6], [7, 8]])\n",
        "A_tf"
      ],
      "execution_count": 144,
      "outputs": [
        {
          "output_type": "execute_result",
          "data": {
            "text/plain": [
              "<tf.Variable 'Variable:0' shape=(3, 2) dtype=int32, numpy=\n",
              "array([[3, 4],\n",
              "       [5, 6],\n",
              "       [7, 8]], dtype=int32)>"
            ]
          },
          "metadata": {
            "tags": []
          },
          "execution_count": 144
        }
      ]
    },
    {
      "cell_type": "code",
      "metadata": {
        "id": "vYtWxf8K6SMt",
        "colab": {
          "base_uri": "https://localhost:8080/"
        },
        "outputId": "4aa73110-60be-43a1-b0fe-9e05ba887c86"
      },
      "source": [
        "b_tf = tf.Variable([1, 2])\n",
        "b_tf"
      ],
      "execution_count": 145,
      "outputs": [
        {
          "output_type": "execute_result",
          "data": {
            "text/plain": [
              "<tf.Variable 'Variable:0' shape=(2,) dtype=int32, numpy=array([1, 2], dtype=int32)>"
            ]
          },
          "metadata": {
            "tags": []
          },
          "execution_count": 145
        }
      ]
    },
    {
      "cell_type": "code",
      "metadata": {
        "id": "NGBImWRH6SMt",
        "colab": {
          "base_uri": "https://localhost:8080/"
        },
        "outputId": "1a0f01c4-a0d9-4cbd-d750-b7722674889e"
      },
      "source": [
        "tf.linalg.matvec(A_tf, b_tf)"
      ],
      "execution_count": 146,
      "outputs": [
        {
          "output_type": "execute_result",
          "data": {
            "text/plain": [
              "<tf.Tensor: shape=(3,), dtype=int32, numpy=array([11, 17, 23], dtype=int32)>"
            ]
          },
          "metadata": {
            "tags": []
          },
          "execution_count": 146
        }
      ]
    },
    {
      "cell_type": "markdown",
      "metadata": {
        "id": "kzjZmdRR6SMy"
      },
      "source": [
        "**Return to slides here.**"
      ]
    },
    {
      "cell_type": "markdown",
      "metadata": {
        "id": "21ySqay36SM5"
      },
      "source": [
        "### Matrix Multiplication (with Two Matrices)"
      ]
    },
    {
      "cell_type": "code",
      "metadata": {
        "id": "0YRG1Ig2cgvo",
        "colab": {
          "base_uri": "https://localhost:8080/"
        },
        "outputId": "01d5355f-c0cb-41c4-f7b1-2312033bdec7"
      },
      "source": [
        "A"
      ],
      "execution_count": 147,
      "outputs": [
        {
          "output_type": "execute_result",
          "data": {
            "text/plain": [
              "array([[3, 4],\n",
              "       [5, 6],\n",
              "       [7, 8]])"
            ]
          },
          "metadata": {
            "tags": []
          },
          "execution_count": 147
        }
      ]
    },
    {
      "cell_type": "code",
      "metadata": {
        "id": "DyOEZk_c6SM5",
        "colab": {
          "base_uri": "https://localhost:8080/"
        },
        "outputId": "2f252ee6-7972-408f-ddeb-6e356c5a066c"
      },
      "source": [
        "B = np.array([[1, 9], [2, 0]])\n",
        "B"
      ],
      "execution_count": 148,
      "outputs": [
        {
          "output_type": "execute_result",
          "data": {
            "text/plain": [
              "array([[1, 9],\n",
              "       [2, 0]])"
            ]
          },
          "metadata": {
            "tags": []
          },
          "execution_count": 148
        }
      ]
    },
    {
      "cell_type": "code",
      "metadata": {
        "id": "SfKuNxH-6SM6",
        "colab": {
          "base_uri": "https://localhost:8080/"
        },
        "outputId": "fa065da3-1c96-4654-d1be-cc7cd1567c17"
      },
      "source": [
        "np.dot(A, B)"
      ],
      "execution_count": 149,
      "outputs": [
        {
          "output_type": "execute_result",
          "data": {
            "text/plain": [
              "array([[11, 27],\n",
              "       [17, 45],\n",
              "       [23, 63]])"
            ]
          },
          "metadata": {
            "tags": []
          },
          "execution_count": 149
        }
      ]
    },
    {
      "cell_type": "markdown",
      "metadata": {
        "id": "WcnQMF0s6SNB"
      },
      "source": [
        "Note that matrix multiplication is not \"commutative\" (i.e., $AB \\neq BA$) so uncommenting the following line will throw a size mismatch error:"
      ]
    },
    {
      "cell_type": "code",
      "metadata": {
        "id": "_mwBGOXO6SNB"
      },
      "source": [
        "# np.dot(B, A)"
      ],
      "execution_count": 150,
      "outputs": []
    },
    {
      "cell_type": "code",
      "metadata": {
        "id": "JrrvPoNE6SM9",
        "colab": {
          "base_uri": "https://localhost:8080/"
        },
        "outputId": "dfbcf994-7872-4310-c386-9a0e67d5b983"
      },
      "source": [
        "B_pt = torch.from_numpy(B) # much cleaner than TF conversion\n",
        "B_pt"
      ],
      "execution_count": 151,
      "outputs": [
        {
          "output_type": "execute_result",
          "data": {
            "text/plain": [
              "tensor([[1, 9],\n",
              "        [2, 0]])"
            ]
          },
          "metadata": {
            "tags": []
          },
          "execution_count": 151
        }
      ]
    },
    {
      "cell_type": "code",
      "metadata": {
        "id": "Z6PfwCvX6SM-",
        "colab": {
          "base_uri": "https://localhost:8080/"
        },
        "outputId": "a0e3a436-6d49-4e73-f49b-2fbb1497f7f6"
      },
      "source": [
        "# another neat way to create the same tensor with transposition: \n",
        "B_pt = torch.tensor([[1, 2], [9, 0]]).T\n",
        "B_pt"
      ],
      "execution_count": 152,
      "outputs": [
        {
          "output_type": "execute_result",
          "data": {
            "text/plain": [
              "tensor([[1, 9],\n",
              "        [2, 0]])"
            ]
          },
          "metadata": {
            "tags": []
          },
          "execution_count": 152
        }
      ]
    },
    {
      "cell_type": "code",
      "metadata": {
        "id": "16ZNRaVe6SM_",
        "colab": {
          "base_uri": "https://localhost:8080/"
        },
        "outputId": "edc2e9db-517b-44d6-e11a-c38f370bdd62"
      },
      "source": [
        "torch.matmul(A_pt, B_pt) # no need to change functions, unlike in TF"
      ],
      "execution_count": 153,
      "outputs": [
        {
          "output_type": "execute_result",
          "data": {
            "text/plain": [
              "tensor([[11, 27],\n",
              "        [17, 45],\n",
              "        [23, 63]])"
            ]
          },
          "metadata": {
            "tags": []
          },
          "execution_count": 153
        }
      ]
    },
    {
      "cell_type": "code",
      "metadata": {
        "id": "rkymNjE46SM8",
        "colab": {
          "base_uri": "https://localhost:8080/"
        },
        "outputId": "a3914ccb-e9a9-4251-8fc7-5f1be93e6279"
      },
      "source": [
        "B_tf = tf.convert_to_tensor(B, dtype=tf.int32)\n",
        "B_tf"
      ],
      "execution_count": 154,
      "outputs": [
        {
          "output_type": "execute_result",
          "data": {
            "text/plain": [
              "<tf.Tensor: shape=(2, 2), dtype=int32, numpy=\n",
              "array([[1, 9],\n",
              "       [2, 0]], dtype=int32)>"
            ]
          },
          "metadata": {
            "tags": []
          },
          "execution_count": 154
        }
      ]
    },
    {
      "cell_type": "code",
      "metadata": {
        "id": "rslTzFRk6SM8",
        "colab": {
          "base_uri": "https://localhost:8080/"
        },
        "outputId": "983d88a5-2def-48e6-d660-061fd7d3578f"
      },
      "source": [
        "tf.matmul(A_tf, B_tf)"
      ],
      "execution_count": 155,
      "outputs": [
        {
          "output_type": "execute_result",
          "data": {
            "text/plain": [
              "<tf.Tensor: shape=(3, 2), dtype=int32, numpy=\n",
              "array([[11, 27],\n",
              "       [17, 45],\n",
              "       [23, 63]], dtype=int32)>"
            ]
          },
          "metadata": {
            "tags": []
          },
          "execution_count": 155
        }
      ]
    },
    {
      "cell_type": "markdown",
      "metadata": {
        "id": "0eBiTmPp6SNC"
      },
      "source": [
        "**Return to slides here.**"
      ]
    },
    {
      "cell_type": "markdown",
      "metadata": {
        "id": "L2H9F-DQ6SMz"
      },
      "source": [
        "### Symmetric Matrices"
      ]
    },
    {
      "cell_type": "code",
      "metadata": {
        "id": "5YsPoWo76SMz",
        "colab": {
          "base_uri": "https://localhost:8080/"
        },
        "outputId": "bb9d14eb-c466-4752-f753-d0fb0a80e0b9"
      },
      "source": [
        "X_sym = np.array([[0, 1, 2], [1, 7, 8], [2, 8, 9]])\n",
        "X_sym"
      ],
      "execution_count": 156,
      "outputs": [
        {
          "output_type": "execute_result",
          "data": {
            "text/plain": [
              "array([[0, 1, 2],\n",
              "       [1, 7, 8],\n",
              "       [2, 8, 9]])"
            ]
          },
          "metadata": {
            "tags": []
          },
          "execution_count": 156
        }
      ]
    },
    {
      "cell_type": "code",
      "metadata": {
        "id": "Skg1wSQVcgv2",
        "colab": {
          "base_uri": "https://localhost:8080/"
        },
        "outputId": "1a7e33dc-59f4-4dd8-eb52-5f17749f0c71"
      },
      "source": [
        "X_sym.T"
      ],
      "execution_count": 157,
      "outputs": [
        {
          "output_type": "execute_result",
          "data": {
            "text/plain": [
              "array([[0, 1, 2],\n",
              "       [1, 7, 8],\n",
              "       [2, 8, 9]])"
            ]
          },
          "metadata": {
            "tags": []
          },
          "execution_count": 157
        }
      ]
    },
    {
      "cell_type": "code",
      "metadata": {
        "id": "Jv40-i9H6SM1",
        "colab": {
          "base_uri": "https://localhost:8080/"
        },
        "outputId": "eeb16512-a98e-4e9d-b4ca-d3bb9563fc8a"
      },
      "source": [
        "X_sym.T == X_sym"
      ],
      "execution_count": 158,
      "outputs": [
        {
          "output_type": "execute_result",
          "data": {
            "text/plain": [
              "array([[ True,  True,  True],\n",
              "       [ True,  True,  True],\n",
              "       [ True,  True,  True]])"
            ]
          },
          "metadata": {
            "tags": []
          },
          "execution_count": 158
        }
      ]
    },
    {
      "cell_type": "markdown",
      "metadata": {
        "id": "QZFoUFkq6SM2"
      },
      "source": [
        "**Return to slides here.**"
      ]
    },
    {
      "cell_type": "markdown",
      "metadata": {
        "id": "Mq_c3ftZ6SM2"
      },
      "source": [
        "### Identity Matrices"
      ]
    },
    {
      "cell_type": "code",
      "metadata": {
        "id": "KVSNbH-Z6SM2",
        "colab": {
          "base_uri": "https://localhost:8080/"
        },
        "outputId": "cd589101-b936-470f-b4da-b6d4b506360f"
      },
      "source": [
        "I = torch.tensor([[1, 0, 0], [0, 1, 0], [0, 0, 1]])\n",
        "I"
      ],
      "execution_count": 159,
      "outputs": [
        {
          "output_type": "execute_result",
          "data": {
            "text/plain": [
              "tensor([[1, 0, 0],\n",
              "        [0, 1, 0],\n",
              "        [0, 0, 1]])"
            ]
          },
          "metadata": {
            "tags": []
          },
          "execution_count": 159
        }
      ]
    },
    {
      "cell_type": "code",
      "metadata": {
        "id": "wcoPDhvR6SM3",
        "colab": {
          "base_uri": "https://localhost:8080/"
        },
        "outputId": "053f3bea-8b78-4290-eda6-98e97e5c3f3a"
      },
      "source": [
        "x_pt = torch.tensor([25, 2, 5])\n",
        "x_pt"
      ],
      "execution_count": 160,
      "outputs": [
        {
          "output_type": "execute_result",
          "data": {
            "text/plain": [
              "tensor([25,  2,  5])"
            ]
          },
          "metadata": {
            "tags": []
          },
          "execution_count": 160
        }
      ]
    },
    {
      "cell_type": "code",
      "metadata": {
        "id": "tuA4RsMv6SM4",
        "colab": {
          "base_uri": "https://localhost:8080/"
        },
        "outputId": "f6f7b8f2-fff9-46bf-9333-c4af039445fb"
      },
      "source": [
        "torch.matmul(I, x_pt)"
      ],
      "execution_count": 161,
      "outputs": [
        {
          "output_type": "execute_result",
          "data": {
            "text/plain": [
              "tensor([25,  2,  5])"
            ]
          },
          "metadata": {
            "tags": []
          },
          "execution_count": 161
        }
      ]
    },
    {
      "cell_type": "markdown",
      "metadata": {
        "id": "bgDiOYLk6SM5"
      },
      "source": [
        "**Return to slides here.**"
      ]
    },
    {
      "cell_type": "markdown",
      "metadata": {
        "id": "3S_6Yfdkcgv7"
      },
      "source": [
        "### Answers to Matrix Multiplication Qs"
      ]
    },
    {
      "cell_type": "code",
      "metadata": {
        "id": "pINsKNxH6SNC",
        "colab": {
          "base_uri": "https://localhost:8080/"
        },
        "outputId": "68429464-079a-4eef-d0ba-c6c75db0ace1"
      },
      "source": [
        "M_q = torch.tensor([[0, 1, 2], [3, 4, 5], [6, 7, 8]])\n",
        "M_q"
      ],
      "execution_count": 162,
      "outputs": [
        {
          "output_type": "execute_result",
          "data": {
            "text/plain": [
              "tensor([[0, 1, 2],\n",
              "        [3, 4, 5],\n",
              "        [6, 7, 8]])"
            ]
          },
          "metadata": {
            "tags": []
          },
          "execution_count": 162
        }
      ]
    },
    {
      "cell_type": "code",
      "metadata": {
        "id": "gfjWd8OO6SNE",
        "colab": {
          "base_uri": "https://localhost:8080/"
        },
        "outputId": "c1f24a9f-1a9d-4319-e1cd-56125bc85c04"
      },
      "source": [
        "V_q = torch.tensor([[-1, 1, -2], [0, 1, 2]]).T\n",
        "V_q"
      ],
      "execution_count": 163,
      "outputs": [
        {
          "output_type": "execute_result",
          "data": {
            "text/plain": [
              "tensor([[-1,  0],\n",
              "        [ 1,  1],\n",
              "        [-2,  2]])"
            ]
          },
          "metadata": {
            "tags": []
          },
          "execution_count": 163
        }
      ]
    },
    {
      "cell_type": "code",
      "metadata": {
        "id": "boSkaV2M6SNF",
        "colab": {
          "base_uri": "https://localhost:8080/"
        },
        "outputId": "cce44611-185b-4dc4-b5b4-b00ff54993f6"
      },
      "source": [
        "torch.matmul(M_q, V_q)"
      ],
      "execution_count": 164,
      "outputs": [
        {
          "output_type": "execute_result",
          "data": {
            "text/plain": [
              "tensor([[ -3,   5],\n",
              "        [ -9,  14],\n",
              "        [-15,  23]])"
            ]
          },
          "metadata": {
            "tags": []
          },
          "execution_count": 164
        }
      ]
    },
    {
      "cell_type": "markdown",
      "metadata": {
        "id": "slSNKUcN6SNG"
      },
      "source": [
        "### Matrix Inversion"
      ]
    },
    {
      "cell_type": "code",
      "metadata": {
        "id": "EW0i5ZRk6SNG",
        "colab": {
          "base_uri": "https://localhost:8080/"
        },
        "outputId": "6cc580c9-a899-429a-e244-5344fd3721db"
      },
      "source": [
        "X = np.array([[4, 2], [-5, -3]])\n",
        "X"
      ],
      "execution_count": 165,
      "outputs": [
        {
          "output_type": "execute_result",
          "data": {
            "text/plain": [
              "array([[ 4,  2],\n",
              "       [-5, -3]])"
            ]
          },
          "metadata": {
            "tags": []
          },
          "execution_count": 165
        }
      ]
    },
    {
      "cell_type": "code",
      "metadata": {
        "id": "hTYpxaWR6SNI",
        "colab": {
          "base_uri": "https://localhost:8080/"
        },
        "outputId": "3bd972c2-eed6-4e7c-d0e3-4dab1d4343a6"
      },
      "source": [
        "Xinv = np.linalg.inv(X)\n",
        "Xinv"
      ],
      "execution_count": 166,
      "outputs": [
        {
          "output_type": "execute_result",
          "data": {
            "text/plain": [
              "array([[ 1.5,  1. ],\n",
              "       [-2.5, -2. ]])"
            ]
          },
          "metadata": {
            "tags": []
          },
          "execution_count": 166
        }
      ]
    },
    {
      "cell_type": "code",
      "metadata": {
        "id": "Q5sQqFaz6SNK",
        "colab": {
          "base_uri": "https://localhost:8080/"
        },
        "outputId": "3b7f8c8a-0227-49eb-fc0c-5c58b677fb26"
      },
      "source": [
        "y = np.array([4, -7])\n",
        "y"
      ],
      "execution_count": 167,
      "outputs": [
        {
          "output_type": "execute_result",
          "data": {
            "text/plain": [
              "array([ 4, -7])"
            ]
          },
          "metadata": {
            "tags": []
          },
          "execution_count": 167
        }
      ]
    },
    {
      "cell_type": "code",
      "metadata": {
        "id": "PK7m6F1I6SNL",
        "colab": {
          "base_uri": "https://localhost:8080/"
        },
        "outputId": "89e50082-8fb7-461f-866c-fa9effd32017"
      },
      "source": [
        "w = np.dot(Xinv, y)\n",
        "w"
      ],
      "execution_count": 168,
      "outputs": [
        {
          "output_type": "execute_result",
          "data": {
            "text/plain": [
              "array([-1.,  4.])"
            ]
          },
          "metadata": {
            "tags": []
          },
          "execution_count": 168
        }
      ]
    },
    {
      "cell_type": "markdown",
      "metadata": {
        "id": "fyBOHgdccgwD"
      },
      "source": [
        "Show that $y = Xw$: "
      ]
    },
    {
      "cell_type": "code",
      "metadata": {
        "id": "SVBojjwacgwD",
        "colab": {
          "base_uri": "https://localhost:8080/"
        },
        "outputId": "b2cea92e-e95e-499d-cdff-7974d98dfcfe"
      },
      "source": [
        "np.dot(X, w)"
      ],
      "execution_count": 169,
      "outputs": [
        {
          "output_type": "execute_result",
          "data": {
            "text/plain": [
              "array([ 4., -7.])"
            ]
          },
          "metadata": {
            "tags": []
          },
          "execution_count": 169
        }
      ]
    },
    {
      "cell_type": "markdown",
      "metadata": {
        "id": "rKELsi0PZCr0"
      },
      "source": [
        "**Geometric Visualization**\n",
        "\n",
        "Recalling from the slides that the two equations in the system are:\n",
        "$$ 4b + 2c = 4 $$\n",
        "$$ -5b - 3c = -7 $$\n",
        "\n",
        "Both equations can be rearranged to isolate a variable, say $c$. Starting with the first equation: \n",
        "$$ 4b + 2c = 4 $$\n",
        "$$ 2b + c = 2 $$\n",
        "$$ c = 2 - 2b $$\n",
        "\n",
        "Then for the second equation: \n",
        "$$ -5b - 3c = -7 $$\n",
        "$$ -3c = -7 + 5b $$\n",
        "$$ c = \\frac{-7 + 5b}{-3} = \\frac{7 - 5b}{3} $$"
      ]
    },
    {
      "cell_type": "code",
      "metadata": {
        "id": "ZASIBqroap7k"
      },
      "source": [
        "b = np.linspace(-10, 10, 1000) # start, finish, n points"
      ],
      "execution_count": 170,
      "outputs": []
    },
    {
      "cell_type": "code",
      "metadata": {
        "id": "9XsUdVsmaqTr"
      },
      "source": [
        "c1 = 2 - 2*b"
      ],
      "execution_count": 171,
      "outputs": []
    },
    {
      "cell_type": "code",
      "metadata": {
        "id": "8Mwn1tAca1Cl"
      },
      "source": [
        "c2 = (7-5*b)/3"
      ],
      "execution_count": 172,
      "outputs": []
    },
    {
      "cell_type": "code",
      "metadata": {
        "id": "X5ozP9jZauQa",
        "colab": {
          "base_uri": "https://localhost:8080/",
          "height": 283
        },
        "outputId": "9f24d2f4-9282-4346-9e62-2e862bec6c02"
      },
      "source": [
        "fig, ax = plt.subplots()\n",
        "plt.xlabel('b', c='darkorange')\n",
        "plt.ylabel('c', c='brown')\n",
        "\n",
        "plt.axvline(x=0, color='lightgray')\n",
        "plt.axhline(y=0, color='lightgray')\n",
        "\n",
        "ax.set_xlim([-2, 3])\n",
        "ax.set_ylim([-1, 5])\n",
        "ax.plot(b, c1, c='purple')\n",
        "ax.plot(b, c2, c='purple')\n",
        "plt.axvline(x=-1, color='green', linestyle='--')\n",
        "_ = plt.axhline(y=4, color='green', linestyle='--')"
      ],
      "execution_count": 173,
      "outputs": [
        {
          "output_type": "display_data",
          "data": {
            "image/png": "[encoded data removed]",
            "text/plain": [
              "<Figure size 432x288 with 1 Axes>"
            ]
          },
          "metadata": {
            "tags": [],
            "needs_background": "light"
          }
        }
      ]
    },
    {
      "cell_type": "markdown",
      "metadata": {
        "id": "14uhePTna7ZV"
      },
      "source": [
        "In PyTorch and TensorFlow:"
      ]
    },
    {
      "cell_type": "code",
      "metadata": {
        "id": "7qo-SAvaansp",
        "colab": {
          "base_uri": "https://localhost:8080/"
        },
        "outputId": "dd5e5036-72f0-45eb-fa59-8963e3b12c97"
      },
      "source": [
        "torch.inverse(torch.tensor([[4, 2], [-5, -3.]])) # float type"
      ],
      "execution_count": 174,
      "outputs": [
        {
          "output_type": "execute_result",
          "data": {
            "text/plain": [
              "tensor([[ 1.5000,  1.0000],\n",
              "        [-2.5000, -2.0000]])"
            ]
          },
          "metadata": {
            "tags": []
          },
          "execution_count": 174
        }
      ]
    },
    {
      "cell_type": "code",
      "metadata": {
        "id": "uqtyF3Jqaz4l",
        "colab": {
          "base_uri": "https://localhost:8080/"
        },
        "outputId": "b6b5903f-78f1-4971-cff0-583999b2a401"
      },
      "source": [
        "tf.linalg.inv(tf.Variable([[4, 2], [-5, -3.]])) # also float"
      ],
      "execution_count": 175,
      "outputs": [
        {
          "output_type": "execute_result",
          "data": {
            "text/plain": [
              "<tf.Tensor: shape=(2, 2), dtype=float32, numpy=\n",
              "array([[ 1.4999999 ,  0.99999994],\n",
              "       [-2.4999998 , -1.9999999 ]], dtype=float32)>"
            ]
          },
          "metadata": {
            "tags": []
          },
          "execution_count": 175
        }
      ]
    },
    {
      "cell_type": "markdown",
      "metadata": {
        "id": "hcP2S4AMAHT_"
      },
      "source": [
        "**Exercises**:\n",
        "\n",
        "1. As done with NumPy above, use PyTorch to calculate $w$ from $X$ and $y$. Subsequently, confirm that $y = Xw$.\n",
        "2. Repeat again, now using TensorFlow."
      ]
    },
    {
      "cell_type": "markdown",
      "metadata": {
        "id": "AMxROg326SNN"
      },
      "source": [
        "**Return to slides here.**"
      ]
    },
    {
      "cell_type": "markdown",
      "metadata": {
        "id": "N8ZxpgcN6SNO"
      },
      "source": [
        "### Matrix Inversion Where No Solution"
      ]
    },
    {
      "cell_type": "code",
      "metadata": {
        "id": "RYORHY4E6SNO"
      },
      "source": [
        "X = np.array([[-4, 1], [-8, 2]])\n",
        "X"
      ],
      "execution_count": null,
      "outputs": []
    },
    {
      "cell_type": "code",
      "metadata": {
        "id": "o7GcISdI6SNP"
      },
      "source": [
        "# Uncommenting the following line results in a \"singular matrix\" error\n",
        "# Xinv = np.linalg.inv(X)"
      ],
      "execution_count": null,
      "outputs": []
    },
    {
      "cell_type": "markdown",
      "metadata": {
        "id": "uk485dwoI021"
      },
      "source": [
        "Feel free to try inverting a non-square matrix; this will throw an error too.\n",
        "\n",
        "**Return to slides here.**"
      ]
    },
    {
      "cell_type": "markdown",
      "metadata": {
        "id": "BXomEBoyDQyO"
      },
      "source": [
        "### Orthogonal Matrices\n",
        "\n",
        "These are the solutions to Exercises 3 and 4 on **orthogonal matrices** from the slides.\n",
        "\n",
        "For Exercise 3, to demonstrate the matrix $I_3$ has mutually orthogonal columns, we show that the dot product of any pair of columns is zero: "
      ]
    },
    {
      "cell_type": "code",
      "metadata": {
        "id": "-Un4Aq805HM1",
        "colab": {
          "base_uri": "https://localhost:8080/"
        },
        "outputId": "8a68e3a2-f42e-4d71-b44a-214b6834eb88"
      },
      "source": [
        "I = np.array([[1, 0, 0], [0, 1, 0], [0, 0, 1]])\n",
        "I"
      ],
      "execution_count": 176,
      "outputs": [
        {
          "output_type": "execute_result",
          "data": {
            "text/plain": [
              "array([[1, 0, 0],\n",
              "       [0, 1, 0],\n",
              "       [0, 0, 1]])"
            ]
          },
          "metadata": {
            "tags": []
          },
          "execution_count": 176
        }
      ]
    },
    {
      "cell_type": "code",
      "metadata": {
        "colab": {
          "base_uri": "https://localhost:8080/"
        },
        "id": "CUhMi2_IEyaI",
        "outputId": "78f048d2-7783-43bb-b539-b22963802bea"
      },
      "source": [
        "column_1 = I[:,0]\n",
        "column_1"
      ],
      "execution_count": 177,
      "outputs": [
        {
          "output_type": "execute_result",
          "data": {
            "text/plain": [
              "array([1, 0, 0])"
            ]
          },
          "metadata": {
            "tags": []
          },
          "execution_count": 177
        }
      ]
    },
    {
      "cell_type": "code",
      "metadata": {
        "colab": {
          "base_uri": "https://localhost:8080/"
        },
        "id": "xsOtn-siE63K",
        "outputId": "1faf97b2-dcb8-4425-f94e-aa80d9cf1e01"
      },
      "source": [
        "column_2 = I[:,1]\n",
        "column_2"
      ],
      "execution_count": 178,
      "outputs": [
        {
          "output_type": "execute_result",
          "data": {
            "text/plain": [
              "array([0, 1, 0])"
            ]
          },
          "metadata": {
            "tags": []
          },
          "execution_count": 178
        }
      ]
    },
    {
      "cell_type": "code",
      "metadata": {
        "colab": {
          "base_uri": "https://localhost:8080/"
        },
        "id": "Pv3b51ExE9ZX",
        "outputId": "020aa71f-efa6-4178-dbf5-eb07d57b50ee"
      },
      "source": [
        "column_3 = I[:,2]\n",
        "column_3"
      ],
      "execution_count": 179,
      "outputs": [
        {
          "output_type": "execute_result",
          "data": {
            "text/plain": [
              "array([0, 0, 1])"
            ]
          },
          "metadata": {
            "tags": []
          },
          "execution_count": 179
        }
      ]
    },
    {
      "cell_type": "code",
      "metadata": {
        "colab": {
          "base_uri": "https://localhost:8080/"
        },
        "id": "VhnRlc8eElYc",
        "outputId": "98511c89-c027-4e7a-99f5-c84b254d1826"
      },
      "source": [
        "np.dot(column_1, column_2)"
      ],
      "execution_count": 180,
      "outputs": [
        {
          "output_type": "execute_result",
          "data": {
            "text/plain": [
              "0"
            ]
          },
          "metadata": {
            "tags": []
          },
          "execution_count": 180
        }
      ]
    },
    {
      "cell_type": "code",
      "metadata": {
        "colab": {
          "base_uri": "https://localhost:8080/"
        },
        "id": "mVq4m-LfFGjQ",
        "outputId": "5a5e4bba-c880-4449-fa70-0306fc6dd8bf"
      },
      "source": [
        "np.dot(column_1, column_3)"
      ],
      "execution_count": 181,
      "outputs": [
        {
          "output_type": "execute_result",
          "data": {
            "text/plain": [
              "0"
            ]
          },
          "metadata": {
            "tags": []
          },
          "execution_count": 181
        }
      ]
    },
    {
      "cell_type": "code",
      "metadata": {
        "colab": {
          "base_uri": "https://localhost:8080/"
        },
        "id": "nJj-aihzFILx",
        "outputId": "c3db6adf-ab34-4182-afe0-378456e76c85"
      },
      "source": [
        "np.dot(column_2, column_3)"
      ],
      "execution_count": 182,
      "outputs": [
        {
          "output_type": "execute_result",
          "data": {
            "text/plain": [
              "0"
            ]
          },
          "metadata": {
            "tags": []
          },
          "execution_count": 182
        }
      ]
    },
    {
      "cell_type": "markdown",
      "metadata": {
        "id": "FIzpkdJmFYdY"
      },
      "source": [
        "We can use the `np.linalg.norm()` method from earlier in the notebook to demonstrate that each column of $I_3$ has unit norm: "
      ]
    },
    {
      "cell_type": "code",
      "metadata": {
        "colab": {
          "base_uri": "https://localhost:8080/"
        },
        "id": "xKbbeqegFJSc",
        "outputId": "b89604b2-6d64-4338-8ccf-0de91ef1513a"
      },
      "source": [
        "np.linalg.norm(column_1)"
      ],
      "execution_count": 183,
      "outputs": [
        {
          "output_type": "execute_result",
          "data": {
            "text/plain": [
              "1.0"
            ]
          },
          "metadata": {
            "tags": []
          },
          "execution_count": 183
        }
      ]
    },
    {
      "cell_type": "code",
      "metadata": {
        "colab": {
          "base_uri": "https://localhost:8080/"
        },
        "id": "Ycv0L8mpGKRC",
        "outputId": "c35aef67-89fa-4407-d1ce-824ddc91f70f"
      },
      "source": [
        "np.linalg.norm(column_2)"
      ],
      "execution_count": 184,
      "outputs": [
        {
          "output_type": "execute_result",
          "data": {
            "text/plain": [
              "1.0"
            ]
          },
          "metadata": {
            "tags": []
          },
          "execution_count": 184
        }
      ]
    },
    {
      "cell_type": "code",
      "metadata": {
        "colab": {
          "base_uri": "https://localhost:8080/"
        },
        "id": "LsEuRezYGLgY",
        "outputId": "a231a0c4-2922-4c95-f61a-a00e0796179f"
      },
      "source": [
        "np.linalg.norm(column_3)"
      ],
      "execution_count": 185,
      "outputs": [
        {
          "output_type": "execute_result",
          "data": {
            "text/plain": [
              "1.0"
            ]
          },
          "metadata": {
            "tags": []
          },
          "execution_count": 185
        }
      ]
    },
    {
      "cell_type": "markdown",
      "metadata": {
        "id": "NMrHdyrsGQ1X"
      },
      "source": [
        "Since the matrix $I_3$ has mutually orthogonal columns and each column has unit norm, the column vectors of $I_3$ are *orthonormal*. Since $I_3^T = I_3$, this means that the *rows* of $I_3$ must also be orthonormal. \n",
        "\n",
        "Since the columns and rows of $I_3$ are orthonormal, $I_3$ is an *orthogonal matrix*."
      ]
    },
    {
      "cell_type": "markdown",
      "metadata": {
        "id": "K7EykcPdIZhE"
      },
      "source": [
        "For Exercise 4, let's repeat the steps of Exercise 3 with matrix *K* instead of $I_3$. We could use NumPy again, but for fun I'll use PyTorch instead. (You're welcome to try it with TensorFlow if you feel so inclined.)"
      ]
    },
    {
      "cell_type": "code",
      "metadata": {
        "colab": {
          "base_uri": "https://localhost:8080/"
        },
        "id": "MXVyu8tSGMlZ",
        "outputId": "ab44cdfc-e0fe-4183-c14c-2f852a982901"
      },
      "source": [
        "K = torch.tensor([[2/3, 1/3, 2/3], [-2/3, 2/3, 1/3], [1/3, 2/3, -2/3]])\n",
        "K"
      ],
      "execution_count": 186,
      "outputs": [
        {
          "output_type": "execute_result",
          "data": {
            "text/plain": [
              "tensor([[ 0.6667,  0.3333,  0.6667],\n",
              "        [-0.6667,  0.6667,  0.3333],\n",
              "        [ 0.3333,  0.6667, -0.6667]])"
            ]
          },
          "metadata": {
            "tags": []
          },
          "execution_count": 186
        }
      ]
    },
    {
      "cell_type": "code",
      "metadata": {
        "colab": {
          "base_uri": "https://localhost:8080/"
        },
        "id": "xqkmSYNfJmTs",
        "outputId": "07a5a339-adf8-4cc4-d28a-dca4f86684ad"
      },
      "source": [
        "Kcol_1 = K[:,0]\n",
        "Kcol_1"
      ],
      "execution_count": 187,
      "outputs": [
        {
          "output_type": "execute_result",
          "data": {
            "text/plain": [
              "tensor([ 0.6667, -0.6667,  0.3333])"
            ]
          },
          "metadata": {
            "tags": []
          },
          "execution_count": 187
        }
      ]
    },
    {
      "cell_type": "code",
      "metadata": {
        "colab": {
          "base_uri": "https://localhost:8080/"
        },
        "id": "ncoc3IxNJ0v2",
        "outputId": "d1e7e88d-9d37-4fc1-cfe1-b8f6766e9c10"
      },
      "source": [
        "Kcol_2 = K[:,1]\n",
        "Kcol_2"
      ],
      "execution_count": 188,
      "outputs": [
        {
          "output_type": "execute_result",
          "data": {
            "text/plain": [
              "tensor([0.3333, 0.6667, 0.6667])"
            ]
          },
          "metadata": {
            "tags": []
          },
          "execution_count": 188
        }
      ]
    },
    {
      "cell_type": "code",
      "metadata": {
        "colab": {
          "base_uri": "https://localhost:8080/"
        },
        "id": "ISEKQ0AqJ2wf",
        "outputId": "1828aec5-5180-4746-b4f4-144fbd75a470"
      },
      "source": [
        "Kcol_3 = K[:,2]\n",
        "Kcol_3"
      ],
      "execution_count": 189,
      "outputs": [
        {
          "output_type": "execute_result",
          "data": {
            "text/plain": [
              "tensor([ 0.6667,  0.3333, -0.6667])"
            ]
          },
          "metadata": {
            "tags": []
          },
          "execution_count": 189
        }
      ]
    },
    {
      "cell_type": "code",
      "metadata": {
        "colab": {
          "base_uri": "https://localhost:8080/"
        },
        "id": "jvdXuMzbJ44d",
        "outputId": "caf68371-f689-47f0-db7b-e7f7bd418e77"
      },
      "source": [
        "torch.dot(Kcol_1, Kcol_2)"
      ],
      "execution_count": 190,
      "outputs": [
        {
          "output_type": "execute_result",
          "data": {
            "text/plain": [
              "tensor(0.)"
            ]
          },
          "metadata": {
            "tags": []
          },
          "execution_count": 190
        }
      ]
    },
    {
      "cell_type": "code",
      "metadata": {
        "colab": {
          "base_uri": "https://localhost:8080/"
        },
        "id": "BUR60eBuKEbU",
        "outputId": "de88682f-9297-444c-fb70-f97db6ee057c"
      },
      "source": [
        "torch.dot(Kcol_1, Kcol_3)"
      ],
      "execution_count": 191,
      "outputs": [
        {
          "output_type": "execute_result",
          "data": {
            "text/plain": [
              "tensor(0.)"
            ]
          },
          "metadata": {
            "tags": []
          },
          "execution_count": 191
        }
      ]
    },
    {
      "cell_type": "code",
      "metadata": {
        "colab": {
          "base_uri": "https://localhost:8080/"
        },
        "id": "Rg7QvQwuKGJZ",
        "outputId": "f426aff8-f75e-406b-cf59-faac554149ff"
      },
      "source": [
        "torch.dot(Kcol_2, Kcol_3)"
      ],
      "execution_count": 192,
      "outputs": [
        {
          "output_type": "execute_result",
          "data": {
            "text/plain": [
              "tensor(0.)"
            ]
          },
          "metadata": {
            "tags": []
          },
          "execution_count": 192
        }
      ]
    },
    {
      "cell_type": "markdown",
      "metadata": {
        "id": "wNdV36-QKNK-"
      },
      "source": [
        "We've now determined that the columns of $K$ are orthogonal."
      ]
    },
    {
      "cell_type": "code",
      "metadata": {
        "colab": {
          "base_uri": "https://localhost:8080/"
        },
        "id": "DDgyhj1AKHdS",
        "outputId": "a4fc0e34-d8d0-4f8b-c3a5-29ddf8b5a7f9"
      },
      "source": [
        "torch.norm(Kcol_1)"
      ],
      "execution_count": 193,
      "outputs": [
        {
          "output_type": "execute_result",
          "data": {
            "text/plain": [
              "tensor(1.)"
            ]
          },
          "metadata": {
            "tags": []
          },
          "execution_count": 193
        }
      ]
    },
    {
      "cell_type": "code",
      "metadata": {
        "colab": {
          "base_uri": "https://localhost:8080/"
        },
        "id": "KvQZy_E2KorW",
        "outputId": "e38b9c7e-adea-4841-8bb7-239db6303f2a"
      },
      "source": [
        "torch.norm(Kcol_2)"
      ],
      "execution_count": 194,
      "outputs": [
        {
          "output_type": "execute_result",
          "data": {
            "text/plain": [
              "tensor(1.)"
            ]
          },
          "metadata": {
            "tags": []
          },
          "execution_count": 194
        }
      ]
    },
    {
      "cell_type": "code",
      "metadata": {
        "colab": {
          "base_uri": "https://localhost:8080/"
        },
        "id": "7H7dx8a7Kp9f",
        "outputId": "312dbd72-d4ed-4d2e-a160-cfd6263e3842"
      },
      "source": [
        "torch.norm(Kcol_3)"
      ],
      "execution_count": 195,
      "outputs": [
        {
          "output_type": "execute_result",
          "data": {
            "text/plain": [
              "tensor(1.)"
            ]
          },
          "metadata": {
            "tags": []
          },
          "execution_count": 195
        }
      ]
    },
    {
      "cell_type": "markdown",
      "metadata": {
        "id": "VPPtOk5OKtJ_"
      },
      "source": [
        "We've now determined that, in addition to being orthogonal, the columns of $K$ have unit norm, therefore they are orthonormal. \n",
        "\n",
        "To ensure that $K$ is an orthogonal matrix, we would need to show that not only does it have orthonormal columns but it has orthonormal rows are as well. Since $K^T \\neq K$, we can't prove this quite as straightforwardly as we did with $I_3$. \n",
        "\n",
        "One approach would be to repeat the steps we used to determine that $K$ has orthogonal columns with all of the matrix's rows (please feel free to do so). Alternatively, we can use an orthogonal matrix-specific equation from the slides, $A^TA = I$, to demonstrate that $K$ is orthogonal in a single line of code: "
      ]
    },
    {
      "cell_type": "code",
      "metadata": {
        "colab": {
          "base_uri": "https://localhost:8080/"
        },
        "id": "W8Ao0KhVNHqF",
        "outputId": "bcd2af5b-7ca1-472e-8aae-6fc42a3bacf2"
      },
      "source": [
        "torch.matmul(K.T, K)"
      ],
      "execution_count": 196,
      "outputs": [
        {
          "output_type": "execute_result",
          "data": {
            "text/plain": [
              "tensor([[ 1.0000e+00, -3.3114e-09,  3.3114e-09],\n",
              "        [-3.3114e-09,  1.0000e+00,  6.6227e-09],\n",
              "        [ 3.3114e-09,  6.6227e-09,  1.0000e+00]])"
            ]
          },
          "metadata": {
            "tags": []
          },
          "execution_count": 196
        }
      ]
    },
    {
      "cell_type": "markdown",
      "metadata": {
        "id": "scM6FCpjNgYA"
      },
      "source": [
        "Notwithstanding rounding errors that we can safely ignore, this confirms that $K^TK = I$ and therefore $K$ is an orthogonal matrix. "
      ]
    }
  ]
}